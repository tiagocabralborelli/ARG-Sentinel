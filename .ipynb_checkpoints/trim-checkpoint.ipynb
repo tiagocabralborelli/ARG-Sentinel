{
 "cells": [
  {
   "cell_type": "code",
   "execution_count": 1,
   "metadata": {},
   "outputs": [],
   "source": [
    "import glob"
   ]
  },
  {
   "cell_type": "code",
   "execution_count": 9,
   "metadata": {},
   "outputs": [],
   "source": [
    "files = glob.glob(\"/home/tiago/documentos/github/ARG-Sentinel/suberror/*.txt\")\n",
    "error_info = open(\"error_info.txt\",'w')\n",
    "\n",
    "\n",
    "for file in files:\n",
    "    error_line = ''\n",
    "    error_file = open(file)\n",
    "    error_info.write(file.split(\"/\")[-1]+\"\\n\")\n",
    "    for lines in error_file:\n",
    "        if lines.startswith(\"NODE\"):\n",
    "            error_line = lines\n",
    "            error_info.write(f\"{error_line}\\n\")\n",
    "            \n",
    "        \n",
    "error_info.close()"
   ]
  },
  {
   "cell_type": "code",
   "execution_count": null,
   "metadata": {},
   "outputs": [],
   "source": [
    "\n"
   ]
  }
 ],
 "metadata": {
  "kernelspec": {
   "display_name": "Python 3",
   "language": "python",
   "name": "python3"
  },
  "language_info": {
   "codemirror_mode": {
    "name": "ipython",
    "version": 3
   },
   "file_extension": ".py",
   "mimetype": "text/x-python",
   "name": "python",
   "nbconvert_exporter": "python",
   "pygments_lexer": "ipython3",
   "version": "3.7.7"
  }
 },
 "nbformat": 4,
 "nbformat_minor": 4
}
