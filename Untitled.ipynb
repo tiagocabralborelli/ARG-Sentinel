{
 "cells": [
  {
   "cell_type": "markdown",
   "metadata": {},
   "source": [
    "# [DataFrames](#data)\n",
    "[CARD](https://card.mcmaster.ca/)<br/>\n",
    "[ARG-Annot]()<br/>\n",
    "[Resfinder](https://cge.cbs.dtu.dk/services/ResFinder/)<br/>\n",
    "[MegaRes](https://megares.meglab.org/)<br/>\n",
    "[NCBI](https://www.ncbi.nlm.nih.gov/bioproject/PRJNA313047)<br/>"
   ]
  },
  {
   "cell_type": "markdown",
   "metadata": {},
   "source": [
    "---"
   ]
  },
  {
   "cell_type": "markdown",
   "metadata": {},
   "source": [
    "# Perguntas sobre os dataframes\n",
    "\n",
    "**Pergunta 1:** Em quantos genomas os bancos de dados encontraram genes de resistência? Um gráfico de barras com valores absolutos de genomas com ARGs <br/>\n",
    "**Pergunta 2:** Quais bancos de dados encontram mais ARGs por genoma? Box plot mostrando a amplude de cada banco de dados<br/>\n",
    "**Pergunta 3:** Quais genomas tiveram resultados positivos em quais bancos de dados? Um diagrama de Venn mostrando os resultados<br/>\n",
    "**Pergunta 4:** Quais genes de resistência foram encontrados em cada banco de dados? Um diagrama de Venn mostrando os compartilhados<br/> \n",
    "\n",
    "\n",
    "<img src=\"Figura1.png\" alt=\"Figura 1\" width=\"800\" heigth=\"1200\">\n",
    "\n",
    "\n",
    "**[Figura 1.](#figure1)** Comparação dos bancos de dados. Mostrar diferenças e semelhanças entre a capacidade de cada banco de dados em encontrar genes de resistência.<br/> \n",
    "A diferença entre os bancos de dados é o resultados de uma melhor curadoria do CARD e MEGARE maior variedades de sequências dos mesmos ARGS? Comparar os ARGs encontrados pelo seus locais de início e fim parece promissor. Pelo menos nos casos do CARD e MEGARES os genes encontrados são os mesmo <br/>\n",
    "\n",
    "\n",
    "\n",
    "\n",
    "\n",
    "\n",
    "----"
   ]
  },
  {
   "cell_type": "markdown",
   "metadata": {},
   "source": [
    "# Filogenias\n",
    "\n",
    "**[Figura 2.](#Figure2)** Filogenia mostrando os genes compartilhados entre os mebros de uma mesma espécies\n",
    "\n",
    "---"
   ]
  },
  {
   "cell_type": "markdown",
   "metadata": {},
   "source": [
    "# Mapas\n",
    "**[Figura 3.](#Figure3)** Mapas mostrando onde os genes de resitência foram encontrados. Dessa vez usaremos os CARD e/ou Megares\n",
    "\n",
    "---"
   ]
  },
  {
   "cell_type": "markdown",
   "metadata": {},
   "source": [
    "# Grafo\n",
    "\n",
    "**[Figura 4.](#Figure4)** Quais conexões entre as bactérias valem a pena ser mostradas\n",
    "\n",
    "---"
   ]
  },
  {
   "cell_type": "markdown",
   "metadata": {},
   "source": [
    "# Por alguns genomas não possuem ARGs?\n",
    "\n",
    "**[Figura 5.](#Figura5)**\n",
    "\n",
    "---"
   ]
  },
  {
   "cell_type": "markdown",
   "metadata": {},
   "source": [
    "# Tradutor entre bancos de dados\n",
    "\n",
    "Contruir uma aplicação que mostre todos o nome de um mesmo ARG em todos os bancos de dados. [Code](#translator)\n",
    "\n",
    "---"
   ]
  },
  {
   "cell_type": "markdown",
   "metadata": {},
   "source": [
    "# Aspectos importantes da resistência a antibióticos\n",
    "\n",
    "## Resistência intrínseca<a class=\"anchor\" id=\"section_2_1\"></a>\n",
    "\n",
    "Alguns grupos de bactérias possuem adaptações a outras pressões seletivas que não à resistência a antibióticos mas que, por acaso, podem atuar como mecanismos de resistência (i.e. permeabilidade da membrana e bombas de efluxo).\n",
    "\n",
    "|          Espécie           |    Mecanismo    |                  Resistência                   |\n",
    "| :------------------------: | :-------------: | :--------------------------------------------: |\n",
    "|      *P. aeruginosa*       |       EP        |           glycylcycline, tigecycline           |\n",
    "|      *P. aeruginosa*       | MexAB-OprM - EP | tetracycline, chloram- phenicol and norfloxaci |\n",
    "| *E. coli*, *P. aeruginosa* |       EP        |                   linezolid                    |\n",
    "| *E. coli*, *H. influenzae* |       EP        |                   macrolide                    |\n",
    "\n",
    "Encontrar um modo de separar genes de resistência que codificam para bombas de efluxo e permeabilidade da membrana.\n",
    "\n",
    "**Figura 2** Separar e mostrar genes de resistência intrínsica. "
   ]
  },
  {
   "cell_type": "markdown",
   "metadata": {},
   "source": [
    "# Código <a class=\"anchor\" id=\"code\"></a>"
   ]
  },
  {
   "cell_type": "code",
   "execution_count": 1,
   "metadata": {},
   "outputs": [],
   "source": [
    "import pandas as pd\n",
    "%matplotlib inline\n",
    "import matplotlib.pyplot as plt\n",
    "import seaborn as sns\n",
    "import numpy as np \n",
    "import customfunc\n",
    "import matrix"
   ]
  },
  {
   "cell_type": "markdown",
   "metadata": {},
   "source": [
    "## [ABRicate](https://github.com/tseemann/abricate)"
   ]
  },
  {
   "cell_type": "code",
   "execution_count": 2,
   "metadata": {},
   "outputs": [
    {
     "name": "stdout",
     "output_type": "stream",
     "text": [
      "DATABASE\tSEQUENCES\tDATE\n",
      "argannot\t1749\t2018-Jul-16\n",
      "card\t2220\t2018-Jul-16\n",
      "ecoh\t597\t2018-Jul-16\n",
      "ncbi\t4324\t2018-Jul-16\n",
      "plasmidfinder\t263\t2018-Jul-16\n",
      "resfinder\t2280\t2018-Jul-16\n",
      "vfdb\t2597\t2018-Jul-16\n"
     ]
    }
   ],
   "source": [
    "!abricate --list"
   ]
  },
  {
   "cell_type": "markdown",
   "metadata": {},
   "source": [
    "## argannot"
   ]
  },
  {
   "cell_type": "code",
   "execution_count": 3,
   "metadata": {},
   "outputs": [],
   "source": [
    "#!abricate ~/documentos/sentinel/genomasbrasil/*.gbff --db argannot --noheader --threads 12 --quiet --minid 50 > ~/documentos/github/ARG-Sentinel/spreadsheets/argannot_br.csv"
   ]
  },
  {
   "cell_type": "markdown",
   "metadata": {},
   "source": [
    "## card"
   ]
  },
  {
   "cell_type": "code",
   "execution_count": 4,
   "metadata": {},
   "outputs": [],
   "source": [
    "#!abricate ~/documentos/sentinel/genomasbrasil/*.gbff --db card --noheader --threads 12 --quiet --minid 50 > ~/documentos/github/ARG-Sentinel/spreadsheets/card_br.csv"
   ]
  },
  {
   "cell_type": "markdown",
   "metadata": {},
   "source": [
    "## resfinder"
   ]
  },
  {
   "cell_type": "code",
   "execution_count": 5,
   "metadata": {},
   "outputs": [],
   "source": [
    "#!abricate ~/documentos/sentinel/genomasbrasil/*.gbff --db resfinder --noheader --threads 12 --quiet --minid 50 > ~/documentos/github/ARG-Sentinel/spreadsheets/resfinder_br.csv"
   ]
  },
  {
   "cell_type": "markdown",
   "metadata": {},
   "source": [
    "## ncbi"
   ]
  },
  {
   "cell_type": "code",
   "execution_count": 6,
   "metadata": {},
   "outputs": [],
   "source": [
    "#!abricate ~/documentos/sentinel/genomasbrasil/*.gbff --db ncbi --noheader --threads 12 --quiet --minid 50 > ~/documentos/github/ARG-Sentinel/spreadsheets/ncbi_br.csv"
   ]
  },
  {
   "cell_type": "markdown",
   "metadata": {},
   "source": [
    "## megares"
   ]
  },
  {
   "cell_type": "code",
   "execution_count": 7,
   "metadata": {},
   "outputs": [],
   "source": [
    "#!abricate ~/documentos/sentinel/genomasbrasil/*.gbff --db megares --noheader --threads 12 --quiet --minid 50 > ~/documentos/github/ARG-Sentinel/spreadsheets/megares_br.csv"
   ]
  },
  {
   "cell_type": "markdown",
   "metadata": {},
   "source": [
    "## **DATAFRAMES<a class=\"anchor\" id=\"data\"></a>**"
   ]
  },
  {
   "cell_type": "code",
   "execution_count": 8,
   "metadata": {},
   "outputs": [
    {
     "data": {
      "text/html": [
       "<div>\n",
       "<style scoped>\n",
       "    .dataframe tbody tr th:only-of-type {\n",
       "        vertical-align: middle;\n",
       "    }\n",
       "\n",
       "    .dataframe tbody tr th {\n",
       "        vertical-align: top;\n",
       "    }\n",
       "\n",
       "    .dataframe thead th {\n",
       "        text-align: right;\n",
       "    }\n",
       "</style>\n",
       "<table border=\"1\" class=\"dataframe\">\n",
       "  <thead>\n",
       "    <tr style=\"text-align: right;\">\n",
       "      <th></th>\n",
       "      <th>accession</th>\n",
       "      <th>colection_date</th>\n",
       "      <th>host</th>\n",
       "      <th>source</th>\n",
       "      <th>coord</th>\n",
       "      <th>country</th>\n",
       "      <th>organism</th>\n",
       "      <th>strain</th>\n",
       "      <th>plasmid</th>\n",
       "    </tr>\n",
       "  </thead>\n",
       "  <tbody>\n",
       "    <tr>\n",
       "      <th>0</th>\n",
       "      <td>GCF_002113285.1_ASM211328v1_genomic.gbff</td>\n",
       "      <td>May-2014</td>\n",
       "      <td>Na</td>\n",
       "      <td>bulk soil from sugarcane field</td>\n",
       "      <td>22.7 S 47.6 W</td>\n",
       "      <td>Brazil</td>\n",
       "      <td>Pseudomonas sp. B11(2017)</td>\n",
       "      <td>B11(2017)</td>\n",
       "      <td>Na</td>\n",
       "    </tr>\n",
       "  </tbody>\n",
       "</table>\n",
       "</div>"
      ],
      "text/plain": [
       "                                  accession colection_date host  \\\n",
       "0  GCF_002113285.1_ASM211328v1_genomic.gbff       May-2014   Na   \n",
       "\n",
       "                           source          coord country  \\\n",
       "0  bulk soil from sugarcane field  22.7 S 47.6 W  Brazil   \n",
       "\n",
       "                    organism     strain plasmid  \n",
       "0  Pseudomonas sp. B11(2017)  B11(2017)      Na  "
      ]
     },
     "execution_count": 8,
     "metadata": {},
     "output_type": "execute_result"
    }
   ],
   "source": [
    "catalogo_bacterias_br = pd.read_csv(\"~/documentos/github/ARG-Sentinel/spreadsheets/catalogo_teste.csv\")\n",
    "catalogo_bacterias_br.head(1)"
   ]
  },
  {
   "cell_type": "markdown",
   "metadata": {},
   "source": [
    "**Lidando com valores ausentes ou errados**"
   ]
  },
  {
   "cell_type": "code",
   "execution_count": 19,
   "metadata": {},
   "outputs": [
    {
     "data": {
      "text/plain": [
       "Brazil                                                     209\n",
       "Brazil: Hospital das Clinicas, Sao Paulo                   131\n",
       "USA                                                         67\n",
       "Brazil: Sao Paulo                                           42\n",
       "Na                                                          31\n",
       "                                                          ... \n",
       "Brazil: Praia do Cassino, Rio Grande, Rio Grande do Sul      1\n",
       "Chile: Osorno                                                1\n",
       "Brazil: Trindade Island                                      1\n",
       "Colombia: Buga                                               1\n",
       "USA:Ann Arbor, MI                                            1\n",
       "Name: country, Length: 98, dtype: int64"
      ]
     },
     "execution_count": 19,
     "metadata": {},
     "output_type": "execute_result"
    }
   ],
   "source": [
    "catalogo_bacterias_br['country'].value_counts()"
   ]
  },
  {
   "cell_type": "code",
   "execution_count": 25,
   "metadata": {},
   "outputs": [],
   "source": [
    "catalogo_bacterias_br = catalogo_bacterias_br[catalogo_bacterias_br[\"country\"].str.contains(\"Brazil\")]"
   ]
  },
  {
   "cell_type": "code",
   "execution_count": 26,
   "metadata": {},
   "outputs": [
    {
     "data": {
      "text/plain": [
       "Brazil                                      209\n",
       "Brazil: Hospital das Clinicas, Sao Paulo    131\n",
       "Brazil: Sao Paulo                            42\n",
       "Brazil: Porto Alegre                         22\n",
       "Brazil: Santos                               15\n",
       "                                           ... \n",
       "Brazil: Santa Rita                            1\n",
       "Brazil: Arcoverde reservoir, PE               1\n",
       "Brazil: Abrolhos Bank                         1\n",
       "Brazil: Seropedica, Rio de Janeiro            1\n",
       "Brazil: Pradopolis                            1\n",
       "Name: country, Length: 73, dtype: int64"
      ]
     },
     "execution_count": 26,
     "metadata": {},
     "output_type": "execute_result"
    }
   ],
   "source": [
    "catalogo_bacterias_br['country'].value_counts()"
   ]
  },
  {
   "cell_type": "code",
   "execution_count": 33,
   "metadata": {},
   "outputs": [],
   "source": [
    "argannot_database = pd.read_csv(\"/home/tiago/documentos/github/ARG-Sentinel/spreadsheets/argannot_br.csv\",sep = \"\\t\", names = ['file','sequence','start','end','strand','gene','coverage','coverage_map','gaps','coverage_pec','identity_perc','database','accession','product','resistance'])\n",
    "argannot_database['file'] = argannot_database[\"file\"].apply(lambda caminho: caminho.split(\"/\")[-1])\n",
    "argannot_database['tag'] = \"ARG-Annot\"\n",
    "argannot_database = customfunc.filldf(argannot_database, catalogo_bacterias_br)\n",
    "argannot_database.reset_index(inplace = True)"
   ]
  },
  {
   "cell_type": "code",
   "execution_count": 34,
   "metadata": {},
   "outputs": [
    {
     "data": {
      "text/html": [
       "<div>\n",
       "<style scoped>\n",
       "    .dataframe tbody tr th:only-of-type {\n",
       "        vertical-align: middle;\n",
       "    }\n",
       "\n",
       "    .dataframe tbody tr th {\n",
       "        vertical-align: top;\n",
       "    }\n",
       "\n",
       "    .dataframe thead th {\n",
       "        text-align: right;\n",
       "    }\n",
       "</style>\n",
       "<table border=\"1\" class=\"dataframe\">\n",
       "  <thead>\n",
       "    <tr style=\"text-align: right;\">\n",
       "      <th></th>\n",
       "      <th>index</th>\n",
       "      <th>file</th>\n",
       "      <th>sequence</th>\n",
       "      <th>start</th>\n",
       "      <th>end</th>\n",
       "      <th>strand</th>\n",
       "      <th>gene</th>\n",
       "      <th>coverage</th>\n",
       "      <th>coverage_map</th>\n",
       "      <th>gaps</th>\n",
       "      <th>...</th>\n",
       "      <th>resistance</th>\n",
       "      <th>tag</th>\n",
       "      <th>colection_date</th>\n",
       "      <th>host</th>\n",
       "      <th>source</th>\n",
       "      <th>coordenates</th>\n",
       "      <th>country</th>\n",
       "      <th>organism</th>\n",
       "      <th>strain</th>\n",
       "      <th>plasmid</th>\n",
       "    </tr>\n",
       "  </thead>\n",
       "  <tbody>\n",
       "    <tr>\n",
       "      <th>0</th>\n",
       "      <td>0</td>\n",
       "      <td>GCA_000007045.1_ASM704v1_genomic.gbff</td>\n",
       "      <td>AE007317</td>\n",
       "      <td>866211</td>\n",
       "      <td>867410</td>\n",
       "      <td>+</td>\n",
       "      <td>pmrA</td>\n",
       "      <td>1-1200/1200</td>\n",
       "      <td>===============</td>\n",
       "      <td>0/0</td>\n",
       "      <td>...</td>\n",
       "      <td>fluoroquinolone</td>\n",
       "      <td>CARD</td>\n",
       "      <td>None</td>\n",
       "      <td>None</td>\n",
       "      <td>None</td>\n",
       "      <td>None</td>\n",
       "      <td>None</td>\n",
       "      <td>None</td>\n",
       "      <td>None</td>\n",
       "      <td>None</td>\n",
       "    </tr>\n",
       "  </tbody>\n",
       "</table>\n",
       "<p>1 rows × 25 columns</p>\n",
       "</div>"
      ],
      "text/plain": [
       "   index                                   file  sequence   start     end  \\\n",
       "0      0  GCA_000007045.1_ASM704v1_genomic.gbff  AE007317  866211  867410   \n",
       "\n",
       "  strand  gene     coverage     coverage_map gaps  ...       resistance   tag  \\\n",
       "0      +  pmrA  1-1200/1200  ===============  0/0  ...  fluoroquinolone  CARD   \n",
       "\n",
       "  colection_date  host source coordenates country organism strain plasmid  \n",
       "0           None  None   None        None    None     None   None    None  \n",
       "\n",
       "[1 rows x 25 columns]"
      ]
     },
     "execution_count": 34,
     "metadata": {},
     "output_type": "execute_result"
    }
   ],
   "source": [
    "card_database = pd.read_csv(\"/home/tiago/documentos/github/ARG-Sentinel/spreadsheets/card_br.csv\",sep = \"\\t\", names = ['file','sequence','start','end','strand','gene','coverage','coverage_map','gaps','coverage_pec','identity_perc','database','accession','product','resistance'])\n",
    "card_database['file'] = card_database[\"file\"].apply(lambda caminho: caminho.split(\"/\")[-1])\n",
    "card_database['tag'] = \"CARD\"\n",
    "card_database = customfunc.filldf(card_database, catalogo_bacterias_br)\n",
    "card_database.reset_index(inplace = True)\n",
    "card_database.head(1)"
   ]
  },
  {
   "cell_type": "code",
   "execution_count": 35,
   "metadata": {},
   "outputs": [
    {
     "data": {
      "text/html": [
       "<div>\n",
       "<style scoped>\n",
       "    .dataframe tbody tr th:only-of-type {\n",
       "        vertical-align: middle;\n",
       "    }\n",
       "\n",
       "    .dataframe tbody tr th {\n",
       "        vertical-align: top;\n",
       "    }\n",
       "\n",
       "    .dataframe thead th {\n",
       "        text-align: right;\n",
       "    }\n",
       "</style>\n",
       "<table border=\"1\" class=\"dataframe\">\n",
       "  <thead>\n",
       "    <tr style=\"text-align: right;\">\n",
       "      <th></th>\n",
       "      <th>index</th>\n",
       "      <th>file</th>\n",
       "      <th>sequence</th>\n",
       "      <th>start</th>\n",
       "      <th>end</th>\n",
       "      <th>strand</th>\n",
       "      <th>gene</th>\n",
       "      <th>coverage</th>\n",
       "      <th>coverage_map</th>\n",
       "      <th>gaps</th>\n",
       "      <th>...</th>\n",
       "      <th>resistance</th>\n",
       "      <th>tag</th>\n",
       "      <th>colection_date</th>\n",
       "      <th>host</th>\n",
       "      <th>source</th>\n",
       "      <th>coordenates</th>\n",
       "      <th>country</th>\n",
       "      <th>organism</th>\n",
       "      <th>strain</th>\n",
       "      <th>plasmid</th>\n",
       "    </tr>\n",
       "  </thead>\n",
       "  <tbody>\n",
       "    <tr>\n",
       "      <th>0</th>\n",
       "      <td>0</td>\n",
       "      <td>GCA_000195475.2_ASM19547v2_genomic.gbff</td>\n",
       "      <td>AEQS01000090</td>\n",
       "      <td>8759</td>\n",
       "      <td>9863</td>\n",
       "      <td>-</td>\n",
       "      <td>tet(35)_1</td>\n",
       "      <td>1-1105/1110</td>\n",
       "      <td>===============</td>\n",
       "      <td>0/0</td>\n",
       "      <td>...</td>\n",
       "      <td>Doxycycline;Tetracycline</td>\n",
       "      <td>Resfinder</td>\n",
       "      <td>None</td>\n",
       "      <td>None</td>\n",
       "      <td>None</td>\n",
       "      <td>None</td>\n",
       "      <td>None</td>\n",
       "      <td>None</td>\n",
       "      <td>None</td>\n",
       "      <td>None</td>\n",
       "    </tr>\n",
       "  </tbody>\n",
       "</table>\n",
       "<p>1 rows × 25 columns</p>\n",
       "</div>"
      ],
      "text/plain": [
       "   index                                     file      sequence  start   end  \\\n",
       "0      0  GCA_000195475.2_ASM19547v2_genomic.gbff  AEQS01000090   8759  9863   \n",
       "\n",
       "  strand       gene     coverage     coverage_map gaps  ...  \\\n",
       "0      -  tet(35)_1  1-1105/1110  ===============  0/0  ...   \n",
       "\n",
       "                 resistance        tag colection_date  host source  \\\n",
       "0  Doxycycline;Tetracycline  Resfinder           None  None   None   \n",
       "\n",
       "  coordenates country organism strain plasmid  \n",
       "0        None    None     None   None    None  \n",
       "\n",
       "[1 rows x 25 columns]"
      ]
     },
     "execution_count": 35,
     "metadata": {},
     "output_type": "execute_result"
    }
   ],
   "source": [
    "resfinder_database = pd.read_csv(\"~/documentos/github/ARG-Sentinel/spreadsheets/resfinder_br.csv\",sep = \"\\t\", names = ['file','sequence','start','end','strand','gene','coverage','coverage_map','gaps','coverage_pec','identity_perc','database','accession','product','resistance'])\n",
    "resfinder_database['file'] = resfinder_database[\"file\"].apply(lambda caminho: caminho.split(\"/\")[-1])\n",
    "resfinder_database['tag'] = \"Resfinder\"\n",
    "resfinder_database = customfunc.filldf(resfinder_database, catalogo_bacterias_br)\n",
    "resfinder_database.reset_index(inplace = True)\n",
    "resfinder_database.head(1)"
   ]
  },
  {
   "cell_type": "code",
   "execution_count": 36,
   "metadata": {},
   "outputs": [
    {
     "data": {
      "text/html": [
       "<div>\n",
       "<style scoped>\n",
       "    .dataframe tbody tr th:only-of-type {\n",
       "        vertical-align: middle;\n",
       "    }\n",
       "\n",
       "    .dataframe tbody tr th {\n",
       "        vertical-align: top;\n",
       "    }\n",
       "\n",
       "    .dataframe thead th {\n",
       "        text-align: right;\n",
       "    }\n",
       "</style>\n",
       "<table border=\"1\" class=\"dataframe\">\n",
       "  <thead>\n",
       "    <tr style=\"text-align: right;\">\n",
       "      <th></th>\n",
       "      <th>index</th>\n",
       "      <th>file</th>\n",
       "      <th>sequence</th>\n",
       "      <th>start</th>\n",
       "      <th>end</th>\n",
       "      <th>strand</th>\n",
       "      <th>gene</th>\n",
       "      <th>coverage</th>\n",
       "      <th>coverage_map</th>\n",
       "      <th>gaps</th>\n",
       "      <th>...</th>\n",
       "      <th>resistance</th>\n",
       "      <th>tag</th>\n",
       "      <th>colection_date</th>\n",
       "      <th>host</th>\n",
       "      <th>source</th>\n",
       "      <th>coordenates</th>\n",
       "      <th>country</th>\n",
       "      <th>organism</th>\n",
       "      <th>strain</th>\n",
       "      <th>plasmid</th>\n",
       "    </tr>\n",
       "  </thead>\n",
       "  <tbody>\n",
       "    <tr>\n",
       "      <th>0</th>\n",
       "      <td>0</td>\n",
       "      <td>GCA_000195475.2_ASM19547v2_genomic.gbff</td>\n",
       "      <td>AEQS01000090</td>\n",
       "      <td>8754</td>\n",
       "      <td>10355</td>\n",
       "      <td>-</td>\n",
       "      <td>tet(35)</td>\n",
       "      <td>1-1602/1602</td>\n",
       "      <td>========/======</td>\n",
       "      <td>8/10</td>\n",
       "      <td>...</td>\n",
       "      <td>TETRACYCLINE</td>\n",
       "      <td>NCBI</td>\n",
       "      <td>None</td>\n",
       "      <td>None</td>\n",
       "      <td>None</td>\n",
       "      <td>None</td>\n",
       "      <td>None</td>\n",
       "      <td>None</td>\n",
       "      <td>None</td>\n",
       "      <td>None</td>\n",
       "    </tr>\n",
       "  </tbody>\n",
       "</table>\n",
       "<p>1 rows × 25 columns</p>\n",
       "</div>"
      ],
      "text/plain": [
       "   index                                     file      sequence  start    end  \\\n",
       "0      0  GCA_000195475.2_ASM19547v2_genomic.gbff  AEQS01000090   8754  10355   \n",
       "\n",
       "  strand     gene     coverage     coverage_map  gaps  ...    resistance  \\\n",
       "0      -  tet(35)  1-1602/1602  ========/======  8/10  ...  TETRACYCLINE   \n",
       "\n",
       "    tag colection_date  host source coordenates country organism strain  \\\n",
       "0  NCBI           None  None   None        None    None     None   None   \n",
       "\n",
       "  plasmid  \n",
       "0    None  \n",
       "\n",
       "[1 rows x 25 columns]"
      ]
     },
     "execution_count": 36,
     "metadata": {},
     "output_type": "execute_result"
    }
   ],
   "source": [
    "ncbi_database = pd.read_csv(\"~/documentos/github/ARG-Sentinel/spreadsheets/ncbi_br.csv\",sep = \"\\t\", names = ['file','sequence','start','end','strand','gene','coverage','coverage_map','gaps','coverage_pec','identity_perc','database','accession','product','resistance'])\n",
    "ncbi_database['file'] = ncbi_database[\"file\"].apply(lambda caminho: caminho.split(\"/\")[-1])\n",
    "ncbi_database['tag'] = 'NCBI'\n",
    "ncbi_database = customfunc.filldf(ncbi_database, catalogo_bacterias_br)\n",
    "ncbi_database.reset_index(inplace = True)\n",
    "ncbi_database.head(1)"
   ]
  },
  {
   "cell_type": "code",
   "execution_count": 37,
   "metadata": {},
   "outputs": [
    {
     "data": {
      "text/html": [
       "<div>\n",
       "<style scoped>\n",
       "    .dataframe tbody tr th:only-of-type {\n",
       "        vertical-align: middle;\n",
       "    }\n",
       "\n",
       "    .dataframe tbody tr th {\n",
       "        vertical-align: top;\n",
       "    }\n",
       "\n",
       "    .dataframe thead th {\n",
       "        text-align: right;\n",
       "    }\n",
       "</style>\n",
       "<table border=\"1\" class=\"dataframe\">\n",
       "  <thead>\n",
       "    <tr style=\"text-align: right;\">\n",
       "      <th></th>\n",
       "      <th>index</th>\n",
       "      <th>file</th>\n",
       "      <th>sequence</th>\n",
       "      <th>start</th>\n",
       "      <th>end</th>\n",
       "      <th>strand</th>\n",
       "      <th>gene</th>\n",
       "      <th>coverage</th>\n",
       "      <th>coverage_map</th>\n",
       "      <th>gaps</th>\n",
       "      <th>...</th>\n",
       "      <th>resistance</th>\n",
       "      <th>tag</th>\n",
       "      <th>colection_date</th>\n",
       "      <th>host</th>\n",
       "      <th>source</th>\n",
       "      <th>coordenates</th>\n",
       "      <th>country</th>\n",
       "      <th>organism</th>\n",
       "      <th>strain</th>\n",
       "      <th>plasmid</th>\n",
       "    </tr>\n",
       "  </thead>\n",
       "  <tbody>\n",
       "    <tr>\n",
       "      <th>0</th>\n",
       "      <td>0</td>\n",
       "      <td>GCA_000007045.1_ASM704v1_genomic.gbff</td>\n",
       "      <td>AE007317</td>\n",
       "      <td>866211</td>\n",
       "      <td>867410</td>\n",
       "      <td>+</td>\n",
       "      <td>PMRA</td>\n",
       "      <td>1-1200/1200</td>\n",
       "      <td>===============</td>\n",
       "      <td>0/0</td>\n",
       "      <td>...</td>\n",
       "      <td>NaN</td>\n",
       "      <td>MEGARES</td>\n",
       "      <td>None</td>\n",
       "      <td>None</td>\n",
       "      <td>None</td>\n",
       "      <td>None</td>\n",
       "      <td>None</td>\n",
       "      <td>None</td>\n",
       "      <td>None</td>\n",
       "      <td>None</td>\n",
       "    </tr>\n",
       "  </tbody>\n",
       "</table>\n",
       "<p>1 rows × 25 columns</p>\n",
       "</div>"
      ],
      "text/plain": [
       "   index                                   file  sequence   start     end  \\\n",
       "0      0  GCA_000007045.1_ASM704v1_genomic.gbff  AE007317  866211  867410   \n",
       "\n",
       "  strand  gene     coverage     coverage_map gaps  ...  resistance      tag  \\\n",
       "0      +  PMRA  1-1200/1200  ===============  0/0  ...         NaN  MEGARES   \n",
       "\n",
       "  colection_date  host source  coordenates country organism strain plasmid  \n",
       "0           None  None   None         None    None     None   None    None  \n",
       "\n",
       "[1 rows x 25 columns]"
      ]
     },
     "execution_count": 37,
     "metadata": {},
     "output_type": "execute_result"
    }
   ],
   "source": [
    "megares_database = pd.read_csv(\"~/documentos/github/ARG-Sentinel/spreadsheets/megares_br.csv\", sep = \"\\t\", names = ['file','sequence','start','end','strand','gene','coverage','coverage_map','gaps','coverage_pec','identity_perc','database','accession','product','resistance'])\n",
    "megares_database[\"file\"] = megares_database[\"file\"].apply(lambda caminho: caminho.split(\"/\")[-1])\n",
    "megares_database['tag'] = \"MEGARES\"\n",
    "megares_database = customfunc.filldf(megares_database, catalogo_bacterias_br)\n",
    "megares_database.reset_index(inplace = True)\n",
    "megares_database.head(1)"
   ]
  },
  {
   "cell_type": "markdown",
   "metadata": {},
   "source": [
    "---"
   ]
  },
  {
   "cell_type": "markdown",
   "metadata": {},
   "source": [
    "# Perguntas sobre diferenças nos dataframes"
   ]
  },
  {
   "cell_type": "code",
   "execution_count": 38,
   "metadata": {},
   "outputs": [
    {
     "name": "stdout",
     "output_type": "stream",
     "text": [
      "Foram baixados: 701 genomas brasileiros do NCBI\n",
      "567 contem informações sobre sua coleta no Brasil\n"
     ]
    }
   ],
   "source": [
    "import glob\n",
    "total_arquivos_gbff = glob.glob(\"/home/tiago/documentos/sentinel/genomasbrasil/*.gbff\")\n",
    "print(f\"Foram baixados: {len(total_arquivos_gbff)} genomas brasileiros do NCBI\")\n",
    "print(f\"{len(catalogo_bacterias_br)} contem informações sobre sua coleta no Brasil\")"
   ]
  },
  {
   "cell_type": "markdown",
   "metadata": {},
   "source": [
    "## Figura 1. Bancos de dados <a class=\"anchor\" id=\"figure1\"></a>"
   ]
  },
  {
   "cell_type": "code",
   "execution_count": 39,
   "metadata": {},
   "outputs": [
    {
     "data": {
      "image/png": "[encoded data removed]",
      "text/plain": [
       "<Figure size 1296x288 with 3 Axes>"
      ]
     },
     "metadata": {
      "needs_background": "light"
     },
     "output_type": "display_data"
    }
   ],
   "source": [
    "plt.figure(figsize = (18,4))\n",
    "#General info\n",
    "legendas = [\"CARD\",\"ARG-Annot\",\"Resfinder\",\"Megares\",\"NCBI\"]\n",
    "colors = ['red','blue','grey','green','pink']\n",
    "alpha = 0.5\n",
    "\n",
    "# Question 1\n",
    "plt.subplot(131)\n",
    "num_genomas_com_ARGS = [len(card_database),len(argannot_database),len(resfinder_database),len(megares_database),len(ncbi_database)]\n",
    "plt.bar(legendas,num_genomas_com_ARGS, color = colors, alpha = alpha)\n",
    "plt.xticks(\"\",fontsize = 12)\n",
    "plt.yticks(fontsize = 12)\n",
    "plt.ylabel(\"N of ARGs\", fontsize = 14)\n",
    "# Still question 1 Number of genomes with ARGS per database \n",
    "plt.subplot(132)\n",
    "num_genomas_com_args_norepeat = [len(set(card_database.file)),len(set(argannot_database.file)),len(set(resfinder_database.file)),len(set(megares_database.file)),len(set(ncbi_database.file))] \n",
    "plt.bar(legendas, num_genomas_com_args_norepeat, color = colors, alpha = alpha)\n",
    "plt.xticks(\"\",fontsize = 12)\n",
    "plt.yticks(fontsize = 12)\n",
    "plt.ylabel(\"N of genomes with ARGs\", fontsize = 14)\n",
    "\n",
    "#Question 2: number af ARGs/genome\n",
    "plt.subplot(133)\n",
    "def get_amplitude(x):\n",
    "    import pandas as pd\n",
    "    df = pd.DataFrame(x[['file','tag']].value_counts().reset_index()).rename(columns = {0:\"num\"})\n",
    "    return df\n",
    "card_amplitude = get_amplitude(card_database)\n",
    "argannot_amplitude = get_amplitude(argannot_database)\n",
    "resfinder_amplitude = get_amplitude(resfinder_database)\n",
    "megares_amplitude = get_amplitude(megares_database)\n",
    "ncbi_amplitude = get_amplitude(ncbi_database)\n",
    "all_database_amplitude = pd.concat([card_amplitude, argannot_amplitude, resfinder_amplitude, megares_amplitude, ncbi_amplitude], axis = 0)\n",
    "\n",
    "ax = sns.violinplot(data = all_database_amplitude, x = 'tag', y = 'num', palette = colors)\n",
    "plt.xticks(fontsize = 12)\n",
    "plt.yticks(fontsize = 12)\n",
    "ax.set(xlabel=None, ylabel='Number of ARG/genome')\n",
    "\n",
    "\n",
    "plt.savefig(\"Figura1_barsNviolin.png\", dpi = 300)"
   ]
  },
  {
   "cell_type": "code",
   "execution_count": 40,
   "metadata": {},
   "outputs": [
    {
     "data": {
      "text/plain": [
       "<Figure size 288x144 with 0 Axes>"
      ]
     },
     "metadata": {},
     "output_type": "display_data"
    },
    {
     "data": {
      "image/png": "[encoded data removed]",
      "text/plain": [
       "<Figure size 576x576 with 1 Axes>"
      ]
     },
     "metadata": {},
     "output_type": "display_data"
    }
   ],
   "source": [
    "from venn import venn\n",
    "plt.figure(figsize = (4,2))\n",
    "bancos_de_dados_arquivos = {\"CARD\":set(list(card_database.file)), \n",
    "                   \"ARG-Annot\":set(list(argannot_database.file)),\n",
    "                   \"Resfinder\":set(list(resfinder_database.file)),\n",
    "                   \"Megares\":set(list(megares_database.file)),\n",
    "                   \"NCBI\":set(list(ncbi_database.file))}\n",
    "ax = venn(bancos_de_dados_arquivos, cmap = colors, alpha = alpha)\n",
    "plt.savefig(\"Figura1_VennBR_Files.png\", dpi = 300)"
   ]
  },
  {
   "cell_type": "code",
   "execution_count": 41,
   "metadata": {},
   "outputs": [
    {
     "data": {
      "text/plain": [
       "<Figure size 288x144 with 0 Axes>"
      ]
     },
     "metadata": {},
     "output_type": "display_data"
    },
    {
     "data": {
      "image/png": "[encoded data removed]",
      "text/plain": [
       "<Figure size 576x576 with 1 Axes>"
      ]
     },
     "metadata": {},
     "output_type": "display_data"
    }
   ],
   "source": [
    "def get_arg_positions(df):\n",
    "    import pandas as pd\n",
    "    positions = []\n",
    "    for info in df.itertuples():\n",
    "        positions.append(f\"{info.sequence}-{info.start}-{info.end}\")\n",
    "    return positions\n",
    "\n",
    "card_arg_positions = get_arg_positions(card_database)\n",
    "argannot_arg_positions = get_arg_positions(argannot_database)\n",
    "ncbi_arg_positions = get_arg_positions(ncbi_database)\n",
    "megares_arg_positions = get_arg_positions(megares_database)\n",
    "resfinder_arg_positions = get_arg_positions(resfinder_database)\n",
    "\n",
    "plt.figure(figsize = (4,2))\n",
    "bancos_de_dados_positions = {\"CARD\":set(card_arg_positions), \n",
    "                   \"ARG-Annot\":set(argannot_arg_positions),\n",
    "                   \"Resfinder\":set(resfinder_arg_positions),\n",
    "                   \"Megares\":set(megares_arg_positions),\n",
    "                   \"NCBI\":set(ncbi_arg_positions)}\n",
    "\n",
    "ax = venn(bancos_de_dados_positions, cmap = colors, alpha = alpha)\n",
    "plt.savefig(\"Figura1_VennBR_Genes.png\",dpi = 300)"
   ]
  },
  {
   "cell_type": "markdown",
   "metadata": {},
   "source": [
    "---"
   ]
  },
  {
   "cell_type": "markdown",
   "metadata": {},
   "source": [
    "## **Figura 2**. Filogenias<a class=\"anchor\" id=\"Figure2\"></a>"
   ]
  },
  {
   "cell_type": "code",
   "execution_count": null,
   "metadata": {},
   "outputs": [],
   "source": [
    "from Bio import Phylo\n",
    "from Bio import SeqIO\n",
    "import os"
   ]
  },
  {
   "cell_type": "code",
   "execution_count": null,
   "metadata": {},
   "outputs": [],
   "source": [
    "def acessar_coordenadas(dataframe):\n",
    "    dataframe_com_coordenadas = dataframe.query(\"colection_date != 'Na' \").query(\"coordenates != 'Na'\").query(\"country != 'Na'\")\n",
    "    dataframe_com_coordenadas = dataframe_com_coordenadas.set_index(\"country\").filter(like = \"Brazil\", axis = 0)\n",
    "    dataframe_com_coordenadas.reset_index(inplace = True)\n",
    "    customfunc.SplitCoords(dataframe_com_coordenadas, \"lat\")\n",
    "    customfunc.SplitCoords(dataframe_com_coordenadas, \"lon\")\n",
    "    dataframe_com_coordenadas[\"lat\"] = dataframe_com_coordenadas.lat.apply(lambda x: customfunc.NumCoord(x))\n",
    "    dataframe_com_coordenadas[\"lon\"] = dataframe_com_coordenadas.lon.apply(lambda x: customfunc.NumCoord(x))\n",
    "    return dataframe_com_coordenadas"
   ]
  },
  {
   "cell_type": "code",
   "execution_count": null,
   "metadata": {},
   "outputs": [],
   "source": [
    "argannot_com_coordenadas = acessar_coordenadas(argannot_database)"
   ]
  },
  {
   "cell_type": "code",
   "execution_count": null,
   "metadata": {},
   "outputs": [],
   "source": [
    "transferidos = []\n",
    "for arquivo in argannot_com_coordenadas.set_index(\"organism\").filter(like = \"Klebsiella\", axis = 0).itertuples():\n",
    "    if arquivo.file not in transferidos:\n",
    "        os.system(f\"cp /home/tiago/documentos/sentinel/genomasbrasil/{arquivo.file} /home/tiago/documentos/github/ARG-Sentinel/Klebsiella_br\")\n",
    "        SeqIO.convert(f\"/home/tiago/documentos/github/ARG-Sentinel/Klebsiella_br/{arquivo.file}\",\"genbank\",f\"/home/tiago/documentos/github/ARG-Sentinel/Klebsiella_br/{arquivo.file}.fasta\",\"fasta\")\n",
    "        os.system(f\"rm /home/tiago/documentos/github/ARG-Sentinel/Klebsiella_br/{arquivo.file}\")\n",
    "        transferidos.append(arquivo.file)    "
   ]
  },
  {
   "cell_type": "code",
   "execution_count": null,
   "metadata": {},
   "outputs": [],
   "source": [
    "#!parsnp -d /home/tiago/documentos/github/ARG-Sentinel/Klebsiella_br/ -o /home/tiago/documentos/github/ARG-Sentinel/Klebsiella_br/ -x -c -r ! "
   ]
  },
  {
   "cell_type": "code",
   "execution_count": null,
   "metadata": {},
   "outputs": [],
   "source": [
    "tree = Phylo.read(\"/home/tiago/documentos/github/ARG-Sentinel/Klebsiella_br/parsnp.tree\", \"newick\")\n",
    "tree.rooted = True"
   ]
  },
  {
   "cell_type": "code",
   "execution_count": null,
   "metadata": {},
   "outputs": [],
   "source": [
    "Phylo.draw_ascii(tree)"
   ]
  },
  {
   "cell_type": "code",
   "execution_count": null,
   "metadata": {},
   "outputs": [],
   "source": [
    "Phylo.draw(tree, branch_labels=lambda c: c.branch_length)"
   ]
  },
  {
   "cell_type": "markdown",
   "metadata": {},
   "source": [
    "---"
   ]
  },
  {
   "cell_type": "markdown",
   "metadata": {},
   "source": [
    "## **Figura 3**. Mapas <a class=\"anchor\" id=\"Figure3\"></a>"
   ]
  },
  {
   "cell_type": "code",
   "execution_count": null,
   "metadata": {},
   "outputs": [],
   "source": [
    "import cartopy.crs as ccrs\n",
    "import cartopy.feature as cfeature"
   ]
  },
  {
   "cell_type": "code",
   "execution_count": null,
   "metadata": {},
   "outputs": [],
   "source": [
    "#Cria Objeto Figura\n",
    "fig = plt.figure(figsize = (20,10))\n",
    "\n",
    "ax1 = fig.add_subplot(121, projection = ccrs.PlateCarree())\n",
    "ax1.stock_img()\n",
    "ax1.set_extent([-80, -32, -35, 6], crs=ccrs.PlateCarree())\n",
    "#Add features ao mapa\n",
    "ax1.add_feature(cfeature.LAND)\n",
    "ax1.add_feature(cfeature.STATES.with_scale('10m'),linestyle='--')\n",
    "ax1.add_feature(cfeature.OCEAN)\n",
    "ax1.add_feature(cfeature.COASTLINE)\n",
    "ax1.add_feature(cfeature.BORDERS, linestyle='-', linewidth = 2)\n",
    "ax1.add_feature(cfeature.LAKES, alpha=0.5)\n",
    "ax1.gridlines(draw_labels=True)\n",
    "\n",
    "#Adicionar os genes\n",
    "plt.plot(argannot_com_coordenadas.set_index(\"file\").lon,\n",
    "         argannot_com_coordenadas.set_index(\"file\").lat,\n",
    "         linestyle = '',\n",
    "         marker = 'o', \n",
    "         color = '#0000FF',\n",
    "         transform = ccrs.Geodetic())\n",
    "\n",
    "fig.add_subplot(122)\n",
    "Phylo.draw(tree)\n",
    "\n",
    "\n"
   ]
  },
  {
   "cell_type": "markdown",
   "metadata": {},
   "source": [
    "---"
   ]
  },
  {
   "cell_type": "markdown",
   "metadata": {},
   "source": [
    "## **Figura 4**. Grafos <a class=\"anchor\" id=\"Figure4\"></a>"
   ]
  },
  {
   "cell_type": "code",
   "execution_count": null,
   "metadata": {},
   "outputs": [],
   "source": [
    "argannot_adj_matrix = argannot_database.set_index(\"file\")['gene'].str.get_dummies().groupby(level = 0).sum()\n",
    "argannot_adj_matrix.sort_index(inplace = True)\n",
    "argannot_adj_matrix.head(2)"
   ]
  },
  {
   "cell_type": "code",
   "execution_count": null,
   "metadata": {},
   "outputs": [],
   "source": [
    "argannot_adj_matrix_new_index = argannot_database[[\"file\",\"organism\"]].sort_values(by = 'file').drop_duplicates().organism.values"
   ]
  },
  {
   "cell_type": "code",
   "execution_count": null,
   "metadata": {},
   "outputs": [],
   "source": [
    "argannot_adj_matrix.set_index(argannot_adj_matrix_new_index, inplace = True)\n",
    "argannot_adj_matrix.head()"
   ]
  },
  {
   "cell_type": "code",
   "execution_count": null,
   "metadata": {},
   "outputs": [],
   "source": [
    "import networkx as nx"
   ]
  },
  {
   "cell_type": "code",
   "execution_count": null,
   "metadata": {},
   "outputs": [],
   "source": [
    "ArgannotGraph = nx.MultiGraph()"
   ]
  },
  {
   "cell_type": "markdown",
   "metadata": {},
   "source": [
    "---"
   ]
  },
  {
   "cell_type": "markdown",
   "metadata": {},
   "source": [
    "## **Figura 5** <a class=\"anchor id=Figure5\"></a>"
   ]
  },
  {
   "cell_type": "code",
   "execution_count": null,
   "metadata": {},
   "outputs": [],
   "source": [
    "genomas_sem_args = catalogo_bacterias_br.set_index(\"accession\").loc[set(catalogo_bacterias_br.accession)-set(argannot_database.file)]"
   ]
  },
  {
   "cell_type": "code",
   "execution_count": null,
   "metadata": {},
   "outputs": [],
   "source": [
    "genomas_sem_args.query(\"source == 'Brain'\")"
   ]
  },
  {
   "cell_type": "markdown",
   "metadata": {},
   "source": [
    "---"
   ]
  },
  {
   "cell_type": "markdown",
   "metadata": {},
   "source": [
    "# Tradutor <a class=\"anchor\" id=\"code\"></a> "
   ]
  },
  {
   "cell_type": "code",
   "execution_count": null,
   "metadata": {},
   "outputs": [],
   "source": [
    "def get_args_names(sequence,start,end):\n",
    "    #dataframes\n",
    "    \n",
    "    \n",
    "    return args_in_all_dataframes"
   ]
  },
  {
   "cell_type": "code",
   "execution_count": null,
   "metadata": {},
   "outputs": [],
   "source": [
    "get_args_names(dataframes = (argannot_database,card_database), arg_name = (\"(Bla)PBP1a\",\"(Tet)tet(34)\"))"
   ]
  },
  {
   "cell_type": "code",
   "execution_count": null,
   "metadata": {},
   "outputs": [],
   "source": [
    "argannot_database"
   ]
  },
  {
   "cell_type": "code",
   "execution_count": null,
   "metadata": {},
   "outputs": [],
   "source": []
  },
  {
   "cell_type": "markdown",
   "metadata": {},
   "source": [
    "# Flash talks 18/09/2020"
   ]
  },
  {
   "cell_type": "markdown",
   "metadata": {},
   "source": [
    "<p style='text-align: justify;'> \n",
    "    Como pesquisar a movimentação dos ARGs pelo território nacional?<br />\n",
    "    Preciso unir das informações: ano de coleta da amostra, coordenada e linhagens onde esses ARGs aparecem. <br />\n",
    "    Figura resultante: um mapa do Brasil com grafo sobreposto.\n",
    "</p>"
   ]
  },
  {
   "cell_type": "code",
   "execution_count": null,
   "metadata": {},
   "outputs": [],
   "source": [
    "klebsiella_pneumoniae_classes = args_com_coordenadas.set_index(\"organism\").filter(like = \"Klebsiella\", axis = 0)[['file','gene']].set_index(\"file\")\n",
    "klebsiella_pneumoniae_classes_dummies = pd.get_dummies(klebsiella_pneumoniae_classes).groupby(level = 0).sum()\n",
    "klebsiella_pneumoniae_classes_dummies"
   ]
  },
  {
   "cell_type": "code",
   "execution_count": null,
   "metadata": {},
   "outputs": [],
   "source": [
    "sns.heatmap(klebsiella_pneumoniae_classes_dummies.T, cmap = \"RdBu_r\")\n",
    "#plt.savefig(\"/home/tiago/documentos/github/ARG-Sentinel/Klebsiella_br/figuras/heatmap_kpneu_br_class.png\")"
   ]
  },
  {
   "cell_type": "code",
   "execution_count": null,
   "metadata": {},
   "outputs": [],
   "source": [
    "klebsiella_pneumoniae_bla = args_com_coordenadas.set_index(\"organism\").filter(like = \"Klebsiella\", axis = 0)[['file','gene']].set_index(\"file\").sort_values('gene')\n",
    "klebsiella_pneumoniae_bla_dummies = pd.get_dummies(klebsiella_pneumoniae_bla).groupby(level = 0).sum()\n",
    "sns.clustermap(klebsiella_pneumoniae_bla_dummies.filter(like = '(Bla)', axis = 1), cmap = \"RdBu_r\", col_cluster=False)\n",
    "#plt.savefig(\"/home/tiago/documentos/github/ARG-Sentinel/Klebsiella_br/figuras/clustermap_kpneu_br.png\",dpi = 300)"
   ]
  },
  {
   "cell_type": "code",
   "execution_count": null,
   "metadata": {},
   "outputs": [],
   "source": [
    "import cartopy.crs as ccrs\n",
    "import cartopy.feature as cfeature"
   ]
  },
  {
   "cell_type": "code",
   "execution_count": null,
   "metadata": {},
   "outputs": [],
   "source": [
    "#Cria Objeto Figura\n",
    "fig = plt.figure(figsize = (20,20))\n",
    "#add plot ao obj figura\n",
    "ax1 = fig.add_subplot(121, projection=ccrs.PlateCarree())\n",
    "ax1.stock_img()\n",
    "ax1.set_extent([-80, -32, -35, 6], crs=ccrs.PlateCarree())\n",
    "#Add features ao mapa\n",
    "ax1.add_feature(cfeature.LAND)\n",
    "ax1.add_feature(cfeature.STATES.with_scale('10m'),linestyle='--')\n",
    "ax1.add_feature(cfeature.OCEAN)\n",
    "ax1.add_feature(cfeature.COASTLINE)\n",
    "ax1.add_feature(cfeature.BORDERS, linestyle='-', linewidth = 2)\n",
    "ax1.add_feature(cfeature.LAKES, alpha=0.5)\n",
    "ax1.gridlines(draw_labels=True)\n",
    "\n",
    "#Adicionar os genes\n",
    "plt.plot(args_com_coordenadas.set_index(\"file\").lon,\n",
    "         args_com_coordenadas.set_index(\"file\").lat,\n",
    "         linestyle = '',\n",
    "         marker = 'o', \n",
    "         color = 'r',\n",
    "         transform = ccrs.Geodetic())\n",
    "\n",
    "\n",
    "#plt.savefig(\"/home/tiago/documentos/github/ARG-Sentinel/Klebsiella_br/figuras//map_Kpneumoniae_br.png\",dpi = 400)"
   ]
  },
  {
   "cell_type": "code",
   "execution_count": null,
   "metadata": {},
   "outputs": [],
   "source": [
    "world = geopandas.read_file(geopandas.datasets.get_path('naturalearth_lowres'))"
   ]
  },
  {
   "cell_type": "code",
   "execution_count": null,
   "metadata": {},
   "outputs": [],
   "source": [
    "world.plot()"
   ]
  },
  {
   "cell_type": "code",
   "execution_count": null,
   "metadata": {},
   "outputs": [],
   "source": [
    "import pandas"
   ]
  },
  {
   "cell_type": "code",
   "execution_count": null,
   "metadata": {},
   "outputs": [],
   "source": []
  }
 ],
 "metadata": {
  "kernelspec": {
   "display_name": "Python 3",
   "language": "python",
   "name": "python3"
  },
  "language_info": {
   "codemirror_mode": {
    "name": "ipython",
    "version": 3
   },
   "file_extension": ".py",
   "mimetype": "text/x-python",
   "name": "python",
   "nbconvert_exporter": "python",
   "pygments_lexer": "ipython3",
   "version": "3.8.3"
  }
 },
 "nbformat": 4,
 "nbformat_minor": 4
}
