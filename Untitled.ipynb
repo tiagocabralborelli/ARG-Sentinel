{
 "cells": [
  {
   "cell_type": "markdown",
   "metadata": {},
   "source": [
    "# [DataFrames](#data)\n",
    "[CARD](https://card.mcmaster.ca/)<br/>\n",
    "[ARG-Annot]()<br/>\n",
    "[Resfinder](https://cge.cbs.dtu.dk/services/ResFinder/)<br/>\n",
    "[MegaRes](https://megares.meglab.org/)<br/>\n",
    "[NCBI](https://www.ncbi.nlm.nih.gov/bioproject/PRJNA313047)<br/>"
   ]
  },
  {
   "cell_type": "markdown",
   "metadata": {},
   "source": [
    "---"
   ]
  },
  {
   "cell_type": "markdown",
   "metadata": {},
   "source": [
    "# Código <a class=\"anchor\" id=\"code\"></a>"
   ]
  },
  {
   "cell_type": "code",
   "execution_count": 71,
   "metadata": {},
   "outputs": [],
   "source": [
    "import pandas as pd\n",
    "%matplotlib inline\n",
    "import matplotlib.pyplot as plt\n",
    "import matplotlib\n",
    "import seaborn as sns\n",
    "import numpy as np \n",
    "import customfunc\n",
    "import matrix\n",
    "#from venn import venn"
   ]
  },
  {
   "cell_type": "markdown",
   "metadata": {},
   "source": [
    "# ARG-ANNOT"
   ]
  },
  {
   "cell_type": "code",
   "execution_count": 72,
   "metadata": {},
   "outputs": [],
   "source": [
    "#!abricate ~/documentos/sentinel/genomasbrasil/*.gbff --db argannot --noheader --threads 12 --quiet --minid 50 > ~/documentos/github/ARG-Sentinel/spreadsheets/argannot_br.csv"
   ]
  },
  {
   "cell_type": "code",
   "execution_count": 73,
   "metadata": {},
   "outputs": [
    {
     "data": {
      "text/html": [
       "<div>\n",
       "<style scoped>\n",
       "    .dataframe tbody tr th:only-of-type {\n",
       "        vertical-align: middle;\n",
       "    }\n",
       "\n",
       "    .dataframe tbody tr th {\n",
       "        vertical-align: top;\n",
       "    }\n",
       "\n",
       "    .dataframe thead th {\n",
       "        text-align: right;\n",
       "    }\n",
       "</style>\n",
       "<table border=\"1\" class=\"dataframe\">\n",
       "  <thead>\n",
       "    <tr style=\"text-align: right;\">\n",
       "      <th></th>\n",
       "      <th>accession</th>\n",
       "      <th>colection_date</th>\n",
       "      <th>host</th>\n",
       "      <th>source</th>\n",
       "      <th>coord</th>\n",
       "      <th>country</th>\n",
       "      <th>organism</th>\n",
       "      <th>strain</th>\n",
       "      <th>plasmid</th>\n",
       "    </tr>\n",
       "  </thead>\n",
       "  <tbody>\n",
       "    <tr>\n",
       "      <th>0</th>\n",
       "      <td>GCF_002113285.1_ASM211328v1_genomic.gbff</td>\n",
       "      <td>May-2014</td>\n",
       "      <td>Na</td>\n",
       "      <td>bulk soil from sugarcane field</td>\n",
       "      <td>22.7 S 47.6 W</td>\n",
       "      <td>Brazil</td>\n",
       "      <td>Pseudomonas sp. B11(2017)</td>\n",
       "      <td>B11(2017)</td>\n",
       "      <td>Na</td>\n",
       "    </tr>\n",
       "  </tbody>\n",
       "</table>\n",
       "</div>"
      ],
      "text/plain": [
       "                                  accession colection_date host  \\\n",
       "0  GCF_002113285.1_ASM211328v1_genomic.gbff       May-2014   Na   \n",
       "\n",
       "                           source          coord country  \\\n",
       "0  bulk soil from sugarcane field  22.7 S 47.6 W  Brazil   \n",
       "\n",
       "                    organism     strain plasmid  \n",
       "0  Pseudomonas sp. B11(2017)  B11(2017)      Na  "
      ]
     },
     "execution_count": 73,
     "metadata": {},
     "output_type": "execute_result"
    }
   ],
   "source": [
    "catalogo_bacterias_br = pd.read_csv(\"/home/tiago/documents/github/ARG-Sentinel/spreadsheets/catalogo_teste.csv\")\n",
    "catalogo_bacterias_br.head(1)"
   ]
  },
  {
   "cell_type": "markdown",
   "metadata": {},
   "source": [
    "**Lidando com valores ausentes ou errados**"
   ]
  },
  {
   "cell_type": "code",
   "execution_count": 74,
   "metadata": {},
   "outputs": [
    {
     "data": {
      "text/plain": [
       "Brazil                                      209\n",
       "Brazil: Hospital das Clinicas, Sao Paulo    131\n",
       "USA                                          67\n",
       "Brazil: Sao Paulo                            42\n",
       "Na                                           31\n",
       "                                           ... \n",
       "Brazil: Seropedica, Rio de Janeiro            1\n",
       "Brazil: Lavras                                1\n",
       "Brazil:South                                  1\n",
       "Brazil: Tucurui Power Plant Reservoir         1\n",
       "Brazil: Arraial do Cabo                       1\n",
       "Name: country, Length: 98, dtype: int64"
      ]
     },
     "execution_count": 74,
     "metadata": {},
     "output_type": "execute_result"
    }
   ],
   "source": [
    "catalogo_bacterias_br['country'].value_counts()"
   ]
  },
  {
   "cell_type": "code",
   "execution_count": 75,
   "metadata": {},
   "outputs": [],
   "source": [
    "catalogo_bacterias_br = catalogo_bacterias_br[catalogo_bacterias_br[\"country\"].str.contains(\"Brazil\")]"
   ]
  },
  {
   "cell_type": "code",
   "execution_count": 76,
   "metadata": {},
   "outputs": [
    {
     "data": {
      "text/plain": [
       "BLOOD                                      72\n",
       "URINE                                      52\n",
       "BRAIN                                      43\n",
       "BULK SOIL FROM SUGARCANE FIELD             40\n",
       "RHIZOSPHERE SOIL FROM SUGARE CANE FIELD    36\n",
       "                                           ..\n",
       "NASAL FOSSA                                 1\n",
       "PLANT (MAIZE/SORGHUM/RICE)                  1\n",
       "FRESHWATER                                  1\n",
       "MANGROVE SWAMP                              1\n",
       "VACCINE STRAIN                              1\n",
       "Name: source, Length: 134, dtype: int64"
      ]
     },
     "execution_count": 76,
     "metadata": {},
     "output_type": "execute_result"
    }
   ],
   "source": [
    "catalogo_bacterias_br[\"source\"].str.upper().value_counts().drop('NA')"
   ]
  },
  {
   "cell_type": "code",
   "execution_count": 77,
   "metadata": {},
   "outputs": [],
   "source": [
    "argannot_database = pd.read_csv(\"/home/tiago/documents/github/ARG-Sentinel/spreadsheets/argannot_br.csv\",sep = \"\\t\", names = ['file','sequence','start','end','strand','gene','coverage','coverage_map','gaps','coverage_pec','identity_perc','database','accession','product','resistance'])\n",
    "argannot_database['file'] = argannot_database[\"file\"].apply(lambda caminho: caminho.split(\"/\")[-1])\n",
    "argannot_database['tag'] = \"ARG-Annot\"\n",
    "argannot_database = customfunc.filldf(argannot_database, catalogo_bacterias_br)\n",
    "argannot_database.reset_index(inplace = True)"
   ]
  },
  {
   "cell_type": "markdown",
   "metadata": {},
   "source": [
    "---"
   ]
  },
  {
   "cell_type": "markdown",
   "metadata": {},
   "source": [
    "# Perguntas sobre diferenças nos dataframes"
   ]
  },
  {
   "cell_type": "code",
   "execution_count": 78,
   "metadata": {},
   "outputs": [
    {
     "name": "stdout",
     "output_type": "stream",
     "text": [
      "Foram baixados: 701 genomas brasileiros do NCBI\n",
      "567 contem informações sobre sua coleta no Brasil\n"
     ]
    }
   ],
   "source": [
    "import glob\n",
    "total_arquivos_gbff = glob.glob(\"/home/tiago/documents/genomasbrasil/*.gbff\")\n",
    "print(f\"Foram baixados: {len(total_arquivos_gbff)} genomas brasileiros do NCBI\")\n",
    "print(f\"{len(catalogo_bacterias_br)} contem informações sobre sua coleta no Brasil\")"
   ]
  },
  {
   "cell_type": "markdown",
   "metadata": {},
   "source": [
    "---"
   ]
  },
  {
   "cell_type": "markdown",
   "metadata": {},
   "source": [
    "## Filogenias"
   ]
  },
  {
   "cell_type": "code",
   "execution_count": 79,
   "metadata": {},
   "outputs": [],
   "source": [
    "from Bio import Phylo, SeqIO, AlignIO\n",
    "import os\n",
    "import shutil\n",
    "import glob"
   ]
  },
  {
   "cell_type": "code",
   "execution_count": 80,
   "metadata": {},
   "outputs": [],
   "source": [
    "def acessar_coordenadas(dataframe):\n",
    "    dataframe_com_coordenadas = dataframe.query(\"colection_date != 'Na' \").query(\"coordenates != 'Na'\").query(\"country != 'Na'\")\n",
    "    dataframe_com_coordenadas = dataframe_com_coordenadas.set_index(\"country\").filter(like = \"Brazil\", axis = 0)\n",
    "    dataframe_com_coordenadas.reset_index(inplace = True)\n",
    "    customfunc.SplitCoords(dataframe_com_coordenadas, \"lat\")\n",
    "    customfunc.SplitCoords(dataframe_com_coordenadas, \"lon\")\n",
    "    dataframe_com_coordenadas[\"lat\"] = dataframe_com_coordenadas.lat.apply(lambda x: customfunc.NumCoord(x))\n",
    "    dataframe_com_coordenadas[\"lon\"] = dataframe_com_coordenadas.lon.apply(lambda x: customfunc.NumCoord(x))\n",
    "    return dataframe_com_coordenadas"
   ]
  },
  {
   "cell_type": "code",
   "execution_count": 81,
   "metadata": {},
   "outputs": [],
   "source": [
    "argannot_com_coordenadas = acessar_coordenadas(argannot_database)"
   ]
  },
  {
   "cell_type": "markdown",
   "metadata": {},
   "source": [
    "**_K. pneumoniae_**"
   ]
  },
  {
   "cell_type": "code",
   "execution_count": 82,
   "metadata": {},
   "outputs": [],
   "source": [
    "klebsiellas_do_argannot = set(argannot_com_coordenadas[argannot_com_coordenadas['organism'].str.contains(\"Klebsiella\")].file)"
   ]
  },
  {
   "cell_type": "code",
   "execution_count": 83,
   "metadata": {},
   "outputs": [],
   "source": [
    "customfunc.transferir_genomas(origem = \"/mnt/c/Users/tiago/Google Drive/lab/fapesp/Mestrado/projetospython/abricate/genomasbrasil/\", nome_diretorio = \"klebsiella_br\", genomas = klebsiellas_do_argannot)"
   ]
  },
  {
   "cell_type": "code",
   "execution_count": 84,
   "metadata": {},
   "outputs": [],
   "source": [
    "customfunc.converter_gbff_fasta(diretorio = \"/home/tiago/documents/github/ARG-Sentinel/klebsiella_br\")"
   ]
  },
  {
   "cell_type": "markdown",
   "metadata": {},
   "source": [
    "---"
   ]
  },
  {
   "cell_type": "markdown",
   "metadata": {},
   "source": [
    "**_Escherichia coli_**"
   ]
  },
  {
   "cell_type": "code",
   "execution_count": 85,
   "metadata": {},
   "outputs": [],
   "source": [
    "escherichia_coli_do_argannot = set(argannot_com_coordenadas[argannot_com_coordenadas['organism'].str.contains(\"Escherichia\")].file)"
   ]
  },
  {
   "cell_type": "code",
   "execution_count": 86,
   "metadata": {},
   "outputs": [],
   "source": [
    "customfunc.transferir_genomas(origem = \"/mnt/c/Users/tiago/Google Drive/lab/fapesp/Mestrado/projetospython/abricate/genomasbrasil/\", nome_diretorio = \"ecoli_br\", genomas = escherichia_coli_do_argannot)"
   ]
  },
  {
   "cell_type": "code",
   "execution_count": 87,
   "metadata": {},
   "outputs": [],
   "source": [
    "customfunc.converter_gbff_fasta(diretorio = \"/home/tiago/documents/github/ARG-Sentinel/ecoli_br\")"
   ]
  },
  {
   "cell_type": "markdown",
   "metadata": {},
   "source": [
    "---"
   ]
  },
  {
   "cell_type": "markdown",
   "metadata": {},
   "source": [
    "**_P. aeruginosa_**"
   ]
  },
  {
   "cell_type": "code",
   "execution_count": 88,
   "metadata": {},
   "outputs": [],
   "source": [
    "pseudomonas_aeruginosa_do_argannot = set(argannot_com_coordenadas[argannot_com_coordenadas['organism'].str.contains(\"aeruginosa\")].file)"
   ]
  },
  {
   "cell_type": "code",
   "execution_count": 89,
   "metadata": {},
   "outputs": [],
   "source": [
    "customfunc.transferir_genomas(origem = \"/mnt/c/Users/tiago/Google Drive/lab/fapesp/Mestrado/projetospython/abricate/genomasbrasil/\", nome_diretorio = \"peruginosa_br\", genomas = pseudomonas_aeruginosa_do_argannot)"
   ]
  },
  {
   "cell_type": "code",
   "execution_count": 90,
   "metadata": {},
   "outputs": [],
   "source": [
    "customfunc.converter_gbff_fasta(diretorio = \"/home/tiago/document/github/ARG-Sentinel/peruginosa_br\")"
   ]
  },
  {
   "cell_type": "markdown",
   "metadata": {},
   "source": [
    "---"
   ]
  },
  {
   "cell_type": "markdown",
   "metadata": {},
   "source": [
    "**_S. aureus_**"
   ]
  },
  {
   "cell_type": "code",
   "execution_count": 91,
   "metadata": {},
   "outputs": [],
   "source": [
    "esph_aureus_do_argannot = set(argannot_com_coordenadas[argannot_com_coordenadas['organism'].str.contains(\"aureus\")].file)"
   ]
  },
  {
   "cell_type": "code",
   "execution_count": 92,
   "metadata": {},
   "outputs": [],
   "source": [
    "customfunc.transferir_genomas(origem = \"/mnt/c/Users/tiago/Google Drive/lab/fapesp/Mestrado/projetospython/abricate/genomasbrasil/\", nome_diretorio = \"eaureus_br\", genomas = esph_aureus_do_argannot)"
   ]
  },
  {
   "cell_type": "code",
   "execution_count": 93,
   "metadata": {},
   "outputs": [],
   "source": [
    "customfunc.converter_gbff_fasta(diretorio = \"/home/tiago/documents/github/ARG-Sentinel/eaureus_br\")"
   ]
  },
  {
   "cell_type": "markdown",
   "metadata": {},
   "source": [
    "---"
   ]
  },
  {
   "cell_type": "markdown",
   "metadata": {},
   "source": [
    "**_Acibetobacter spp_**"
   ]
  },
  {
   "cell_type": "code",
   "execution_count": 94,
   "metadata": {},
   "outputs": [],
   "source": [
    "acinetobacter_do_argannot = set(argannot_com_coordenadas[argannot_com_coordenadas['organism'].str.contains(\"Acinetobacter\")].file)"
   ]
  },
  {
   "cell_type": "code",
   "execution_count": 95,
   "metadata": {},
   "outputs": [],
   "source": [
    "customfunc.transferir_genomas(origem = \"/mnt/c/Users/tiago/Google Drive/lab/fapesp/Mestrado/projetospython/abricate/genomasbrasil/\", nome_diretorio = \"acinetobacter_br\", genomas = acinetobacter_do_argannot)"
   ]
  },
  {
   "cell_type": "code",
   "execution_count": 96,
   "metadata": {},
   "outputs": [],
   "source": [
    "customfunc.converter_gbff_fasta(diretorio = \"/home/tiago/documents/github/ARG-Sentinel/acinetobacter_br\")"
   ]
  },
  {
   "cell_type": "markdown",
   "metadata": {},
   "source": [
    "---"
   ]
  },
  {
   "cell_type": "markdown",
   "metadata": {},
   "source": [
    "**_Enterocbacter spp_**"
   ]
  },
  {
   "cell_type": "code",
   "execution_count": 97,
   "metadata": {},
   "outputs": [],
   "source": [
    "enterobacter_do_argannot = set(argannot_com_coordenadas[argannot_com_coordenadas['organism'].str.contains(\"Enterobacter\")].file)"
   ]
  },
  {
   "cell_type": "code",
   "execution_count": 98,
   "metadata": {},
   "outputs": [],
   "source": [
    "customfunc.transferir_genomas(origem = \"/mnt/c/Users/tiago/Google Drive/lab/fapesp/Mestrado/projetospython/abricate/genomasbrasil/\", nome_diretorio = \"enterobacter_br\", genomas = enterobacter_do_argannot)"
   ]
  },
  {
   "cell_type": "code",
   "execution_count": 99,
   "metadata": {},
   "outputs": [],
   "source": [
    "customfunc.converter_gbff_fasta(diretorio = \"/home/tiago/documents/github/ARG-Sentinel/enterobacter_br\")"
   ]
  },
  {
   "cell_type": "code",
   "execution_count": 100,
   "metadata": {},
   "outputs": [],
   "source": [
    "#!parsnp -c -r ! -d /home/tiago/documentos/github/ARG-Sentinel/enterobacter_br -o /home/tiago/documentos/github/ARG-Sentinel/enterobacter_br"
   ]
  },
  {
   "cell_type": "markdown",
   "metadata": {},
   "source": [
    "---"
   ]
  },
  {
   "cell_type": "markdown",
   "metadata": {},
   "source": [
    "## **Figura 3**. Mapas <a class=\"anchor\" id=\"Figure3\"></a>"
   ]
  },
  {
   "cell_type": "code",
   "execution_count": null,
   "metadata": {},
   "outputs": [],
   "source": [
    "import cartopy.crs as ccrs\n",
    "import cartopy.feature as cfeature"
   ]
  },
  {
   "cell_type": "code",
   "execution_count": null,
   "metadata": {},
   "outputs": [],
   "source": [
    "#Cria Objeto Figura\n",
    "fig = plt.figure(figsize = (20,10))\n",
    "\n",
    "ax1 = fig.add_subplot(121, projection = ccrs.PlateCarree())\n",
    "ax1.stock_img()\n",
    "ax1.set_extent([-80, -32, -35, 6], crs=ccrs.PlateCarree())\n",
    "#Add features ao mapa\n",
    "ax1.add_feature(cfeature.LAND)\n",
    "ax1.add_feature(cfeature.STATES.with_scale('10m'),linestyle='--')\n",
    "ax1.add_feature(cfeature.OCEAN)\n",
    "ax1.add_feature(cfeature.COASTLINE)\n",
    "ax1.add_feature(cfeature.BORDERS, linestyle='-', linewidth = 2)\n",
    "ax1.add_feature(cfeature.LAKES, alpha=0.5)\n",
    "ax1.gridlines(draw_labels=True)\n",
    "\n",
    "#Adicionar os genes\n",
    "plt.plot(argannot_com_coordenadas.set_index(\"file\").lon,\n",
    "         argannot_com_coordenadas.set_index(\"file\").lat,\n",
    "         linestyle = '',\n",
    "         marker = 'o', \n",
    "         color = '#0000FF',\n",
    "         transform = ccrs.Geodetic())\n",
    "\n",
    "fig.add_subplot(122)\n",
    "Phylo.draw(tree)\n",
    "\n",
    "\n"
   ]
  },
  {
   "cell_type": "markdown",
   "metadata": {},
   "source": [
    "---"
   ]
  },
  {
   "cell_type": "markdown",
   "metadata": {},
   "source": [
    "## **Figura 4**. Grafos <a class=\"anchor\" id=\"Figure4\"></a>"
   ]
  },
  {
   "cell_type": "code",
   "execution_count": null,
   "metadata": {},
   "outputs": [],
   "source": [
    "argannot_adj_matrix = argannot_database.set_index(\"file\")['gene'].str.get_dummies().groupby(level = 0).sum()\n",
    "argannot_adj_matrix.sort_index(inplace = True)\n",
    "argannot_adj_matrix.head(2)"
   ]
  },
  {
   "cell_type": "code",
   "execution_count": null,
   "metadata": {},
   "outputs": [],
   "source": [
    "argannot_adj_matrix_new_index = argannot_database[[\"file\",\"organism\"]].sort_values(by = 'file').drop_duplicates().organism.values"
   ]
  },
  {
   "cell_type": "code",
   "execution_count": null,
   "metadata": {},
   "outputs": [],
   "source": [
    "argannot_adj_matrix.set_index(argannot_adj_matrix_new_index, inplace = True)\n",
    "argannot_adj_matrix.head()"
   ]
  },
  {
   "cell_type": "code",
   "execution_count": null,
   "metadata": {},
   "outputs": [],
   "source": [
    "import networkx as nx"
   ]
  },
  {
   "cell_type": "code",
   "execution_count": null,
   "metadata": {},
   "outputs": [],
   "source": [
    "ArgannotGraph = nx.MultiGraph()"
   ]
  },
  {
   "cell_type": "markdown",
   "metadata": {},
   "source": [
    "---"
   ]
  },
  {
   "cell_type": "markdown",
   "metadata": {},
   "source": [
    "## **Figura 5** <a class=\"anchor id=Figure5\"></a>"
   ]
  },
  {
   "cell_type": "markdown",
   "metadata": {},
   "source": [
    "---"
   ]
  },
  {
   "cell_type": "code",
   "execution_count": null,
   "metadata": {},
   "outputs": [],
   "source": []
  },
  {
   "cell_type": "markdown",
   "metadata": {},
   "source": [
    "# Flash talks 18/09/2020"
   ]
  },
  {
   "cell_type": "markdown",
   "metadata": {},
   "source": [
    "<p style='text-align: justify;'> \n",
    "    Como pesquisar a movimentação dos ARGs pelo território nacional?<br />\n",
    "    Preciso unir das informações: ano de coleta da amostra, coordenada e linhagens onde esses ARGs aparecem. <br />\n",
    "    Figura resultante: um mapa do Brasil com grafo sobreposto.\n",
    "</p>"
   ]
  },
  {
   "cell_type": "code",
   "execution_count": null,
   "metadata": {},
   "outputs": [],
   "source": [
    "klebsiella_pneumoniae_classes = args_com_coordenadas.set_index(\"organism\").filter(like = \"Klebsiella\", axis = 0)[['file','gene']].set_index(\"file\")\n",
    "klebsiella_pneumoniae_classes_dummies = pd.get_dummies(klebsiella_pneumoniae_classes).groupby(level = 0).sum()\n",
    "klebsiella_pneumoniae_classes_dummies"
   ]
  },
  {
   "cell_type": "code",
   "execution_count": null,
   "metadata": {},
   "outputs": [],
   "source": [
    "sns.heatmap(klebsiella_pneumoniae_classes_dummies.T, cmap = \"RdBu_r\")\n",
    "#plt.savefig(\"/home/tiago/documentos/github/ARG-Sentinel/Klebsiella_br/figuras/heatmap_kpneu_br_class.png\")"
   ]
  },
  {
   "cell_type": "code",
   "execution_count": null,
   "metadata": {},
   "outputs": [],
   "source": [
    "klebsiella_pneumoniae_bla = args_com_coordenadas.set_index(\"organism\").filter(like = \"Klebsiella\", axis = 0)[['file','gene']].set_index(\"file\").sort_values('gene')\n",
    "klebsiella_pneumoniae_bla_dummies = pd.get_dummies(klebsiella_pneumoniae_bla).groupby(level = 0).sum()\n",
    "sns.clustermap(klebsiella_pneumoniae_bla_dummies.filter(like = '(Bla)', axis = 1), cmap = \"RdBu_r\", col_cluster=False)\n",
    "#plt.savefig(\"/home/tiago/documentos/github/ARG-Sentinel/Klebsiella_br/figuras/clustermap_kpneu_br.png\",dpi = 300)"
   ]
  },
  {
   "cell_type": "code",
   "execution_count": null,
   "metadata": {},
   "outputs": [],
   "source": [
    "import cartopy.crs as ccrs\n",
    "import cartopy.feature as cfeature"
   ]
  },
  {
   "cell_type": "code",
   "execution_count": null,
   "metadata": {},
   "outputs": [],
   "source": [
    "#Cria Objeto Figura\n",
    "fig = plt.figure(figsize = (20,20))\n",
    "#add plot ao obj figura\n",
    "ax1 = fig.add_subplot(121, projection=ccrs.PlateCarree())\n",
    "ax1.stock_img()\n",
    "ax1.set_extent([-80, -32, -35, 6], crs=ccrs.PlateCarree())\n",
    "#Add features ao mapa\n",
    "ax1.add_feature(cfeature.LAND)\n",
    "ax1.add_feature(cfeature.STATES.with_scale('10m'),linestyle='--')\n",
    "ax1.add_feature(cfeature.OCEAN)\n",
    "ax1.add_feature(cfeature.COASTLINE)\n",
    "ax1.add_feature(cfeature.BORDERS, linestyle='-', linewidth = 2)\n",
    "ax1.add_feature(cfeature.LAKES, alpha=0.5)\n",
    "ax1.gridlines(draw_labels=True)\n",
    "\n",
    "#Adicionar os genes\n",
    "plt.plot(args_com_coordenadas.set_index(\"file\").lon,\n",
    "         args_com_coordenadas.set_index(\"file\").lat,\n",
    "         linestyle = '',\n",
    "         marker = 'o', \n",
    "         color = 'r',\n",
    "         transform = ccrs.Geodetic())\n",
    "\n",
    "\n",
    "#plt.savefig(\"/home/tiago/documentos/github/ARG-Sentinel/Klebsiella_br/figuras//map_Kpneumoniae_br.png\",dpi = 400)"
   ]
  },
  {
   "cell_type": "code",
   "execution_count": null,
   "metadata": {},
   "outputs": [],
   "source": [
    "world = geopandas.read_file(geopandas.datasets.get_path('naturalearth_lowres'))"
   ]
  },
  {
   "cell_type": "code",
   "execution_count": null,
   "metadata": {},
   "outputs": [],
   "source": [
    "world.plot()"
   ]
  },
  {
   "cell_type": "code",
   "execution_count": null,
   "metadata": {},
   "outputs": [],
   "source": [
    "import pandas"
   ]
  },
  {
   "cell_type": "code",
   "execution_count": null,
   "metadata": {},
   "outputs": [],
   "source": []
  },
  {
   "cell_type": "code",
   "execution_count": null,
   "metadata": {},
   "outputs": [],
   "source": []
  },
  {
   "cell_type": "code",
   "execution_count": null,
   "metadata": {},
   "outputs": [],
   "source": []
  },
  {
   "cell_type": "code",
   "execution_count": null,
   "metadata": {},
   "outputs": [],
   "source": []
  },
  {
   "cell_type": "code",
   "execution_count": null,
   "metadata": {},
   "outputs": [],
   "source": []
  },
  {
   "cell_type": "code",
   "execution_count": null,
   "metadata": {},
   "outputs": [],
   "source": []
  }
 ],
 "metadata": {
  "kernelspec": {
   "display_name": "Python 3",
   "language": "python",
   "name": "python3"
  },
  "language_info": {
   "codemirror_mode": {
    "name": "ipython",
    "version": 3
   },
   "file_extension": ".py",
   "mimetype": "text/x-python",
   "name": "python",
   "nbconvert_exporter": "python",
   "pygments_lexer": "ipython3",
   "version": "3.8.5"
  }
 },
 "nbformat": 4,
 "nbformat_minor": 4
}
