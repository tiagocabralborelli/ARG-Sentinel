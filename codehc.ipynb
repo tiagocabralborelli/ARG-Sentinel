{
 "cells": [
  {
   "cell_type": "code",
   "execution_count": 1,
   "metadata": {},
   "outputs": [],
   "source": [
    "#Important modules\n",
    "import os\n",
    "import glob\n",
    "import pandas as pd\n",
    "import matplotlib.pyplot as plt\n",
    "import numpy as np\n",
    "import seaborn as sns\n",
    "import numpy as np\n",
    "%matplotlib inline \n",
    "from matplotlib import pyplot as plt\n",
    "from Bio import SeqIO\n",
    "from Bio.Seq import Seq\n",
    "import customfunc\n",
    "import matrix"
   ]
  },
  {
   "cell_type": "markdown",
   "metadata": {},
   "source": [
    "## Abricate\n",
    "Run [abricate](https://github.com/tseemann/abricate) to search for antibiotic resistance genes, plasmid genes and virulence factors in several databases"
   ]
  },
  {
   "cell_type": "code",
   "execution_count": 2,
   "metadata": {},
   "outputs": [
    {
     "output_type": "stream",
     "name": "stdout",
     "text": "Using nucl database card:  2631 sequences -  2020-Apr-19\nProcessing: /home/tiago/documentos/sentinel/hc/genome1.fasta\nFound 39 genes in /home/tiago/documentos/sentinel/hc/genome1.fasta\nTip: the --fofn option allows you to feed in a big list of files to run on.\nDone.\nProcessing: /home/tiago/documentos/sentinel/hc/genome11.fasta\nFound 3 genes in /home/tiago/documentos/sentinel/hc/genome11.fasta\nTip: did you know? abricate was named after 'A'nti 'B'acterial 'R'esistiance\nDone.\nProcessing: /home/tiago/documentos/sentinel/hc/genome12.fasta\nFound 3 genes in /home/tiago/documentos/sentinel/hc/genome12.fasta\nTip: found a bug in abricate? Post it at https://github.com/tseemann/abricate/issues.\nDone.\nProcessing: /home/tiago/documentos/sentinel/hc/genome14.fasta\nFound 10 genes in /home/tiago/documentos/sentinel/hc/genome14.fasta\nTip: abricate can also find virulence factors; use --list to see all supported databases.\nDone.\nProcessing: /home/tiago/documentos/sentinel/hc/genome16.fasta\nFound 29 genes in /home/tiago/documentos/sentinel/hc/genome16.fasta\nTip: have a suggestion for abricate? Tell me at https://github.com/tseemann/abricate/issues\nDone.\nProcessing: /home/tiago/documentos/sentinel/hc/genome18.fasta\nFound 2 genes in /home/tiago/documentos/sentinel/hc/genome18.fasta\nTip: you can use the --summary option to combine reports in a presence/absence matrix.\nDone.\nProcessing: /home/tiago/documentos/sentinel/hc/genome2.fasta\nFound 13 genes in /home/tiago/documentos/sentinel/hc/genome2.fasta\nTip: it's important to realise abricate uses DNA matching, not AA.\nDone.\nProcessing: /home/tiago/documentos/sentinel/hc/genome20.fasta\nFound 23 genes in /home/tiago/documentos/sentinel/hc/genome20.fasta\nTip: you can use the --summary option to combine reports in a presence/absence matrix.\nDone.\nProcessing: /home/tiago/documentos/sentinel/hc/genome21.fasta\nFound 10 genes in /home/tiago/documentos/sentinel/hc/genome21.fasta\nTip: abricate can also find virulence factors; use --list to see all supported databases.\nDone.\nProcessing: /home/tiago/documentos/sentinel/hc/genome22.fasta\nFound 7 genes in /home/tiago/documentos/sentinel/hc/genome22.fasta\nTip: the abricate manual is at https://github.com/tseemann/abricate/blob/master/README.md\nDone.\nProcessing: /home/tiago/documentos/sentinel/hc/genome24.fasta\nFound 35 genes in /home/tiago/documentos/sentinel/hc/genome24.fasta\nTip: you can use the --summary option to combine reports in a presence/absence matrix.\nDone.\nProcessing: /home/tiago/documentos/sentinel/hc/genome25.fasta\nFound 21 genes in /home/tiago/documentos/sentinel/hc/genome25.fasta\nTip: it's important to realise abricate uses DNA matching, not AA.\nDone.\nProcessing: /home/tiago/documentos/sentinel/hc/genome27.fasta\nFound 11 genes in /home/tiago/documentos/sentinel/hc/genome27.fasta\nTip: the abricate manual is at https://github.com/tseemann/abricate/blob/master/README.md\nDone.\nProcessing: /home/tiago/documentos/sentinel/hc/genome28.fasta\nFound 8 genes in /home/tiago/documentos/sentinel/hc/genome28.fasta\nTip: found a bug in abricate? Post it at https://github.com/tseemann/abricate/issues.\nDone.\nProcessing: /home/tiago/documentos/sentinel/hc/genome29.fasta\nFound 8 genes in /home/tiago/documentos/sentinel/hc/genome29.fasta\nTip: you can use the --summary option to combine reports in a presence/absence matrix.\nDone.\nProcessing: /home/tiago/documentos/sentinel/hc/genome3.fasta\nFound 56 genes in /home/tiago/documentos/sentinel/hc/genome3.fasta\nTip: it's important to realise abricate uses DNA matching, not AA.\nDone.\nProcessing: /home/tiago/documentos/sentinel/hc/genome30.fasta\nFound 9 genes in /home/tiago/documentos/sentinel/hc/genome30.fasta\nTip: the abricate manual is at https://github.com/tseemann/abricate/blob/master/README.md\nDone.\nProcessing: /home/tiago/documentos/sentinel/hc/genome31.fasta\nFound 0 genes in /home/tiago/documentos/sentinel/hc/genome31.fasta\nTip: have a suggestion for abricate? Tell me at https://github.com/tseemann/abricate/issues\nDone.\nProcessing: /home/tiago/documentos/sentinel/hc/genome32.fasta\nFound 12 genes in /home/tiago/documentos/sentinel/hc/genome32.fasta\nTip: remember that abricate is unable to find AMR-mediated SNPs.\nDone.\nProcessing: /home/tiago/documentos/sentinel/hc/genome33.fasta\nFound 10 genes in /home/tiago/documentos/sentinel/hc/genome33.fasta\nTip: abricate can also find virulence factors; use --list to see all supported databases.\nDone.\nProcessing: /home/tiago/documentos/sentinel/hc/genome36.fasta\nFound 34 genes in /home/tiago/documentos/sentinel/hc/genome36.fasta\nTip: found a bug in abricate? Post it at https://github.com/tseemann/abricate/issues.\nDone.\nProcessing: /home/tiago/documentos/sentinel/hc/genome37.fasta\nFound 6 genes in /home/tiago/documentos/sentinel/hc/genome37.fasta\nTip: it's important to realise abricate uses DNA matching, not AA.\nDone.\nProcessing: /home/tiago/documentos/sentinel/hc/genome38.fasta\nFound 53 genes in /home/tiago/documentos/sentinel/hc/genome38.fasta\nTip: found a bug in abricate? Post it at https://github.com/tseemann/abricate/issues.\nDone.\nProcessing: /home/tiago/documentos/sentinel/hc/genome40.fasta\nFound 13 genes in /home/tiago/documentos/sentinel/hc/genome40.fasta\nTip: the --fofn option allows you to feed in a big list of files to run on.\nDone.\nProcessing: /home/tiago/documentos/sentinel/hc/genome41.fasta\nFound 39 genes in /home/tiago/documentos/sentinel/hc/genome41.fasta\nTip: did you know? abricate was named after 'A'nti 'B'acterial 'R'esistiance\nDone.\nProcessing: /home/tiago/documentos/sentinel/hc/genome42.fasta\nFound 49 genes in /home/tiago/documentos/sentinel/hc/genome42.fasta\nTip: found a bug in abricate? Post it at https://github.com/tseemann/abricate/issues.\nDone.\nProcessing: /home/tiago/documentos/sentinel/hc/genome43.fasta\nFound 22 genes in /home/tiago/documentos/sentinel/hc/genome43.fasta\nTip: abricate can also find virulence factors; use --list to see all supported databases.\nDone.\nProcessing: /home/tiago/documentos/sentinel/hc/genome44.fasta\nFound 48 genes in /home/tiago/documentos/sentinel/hc/genome44.fasta\nTip: the abricate manual is at https://github.com/tseemann/abricate/blob/master/README.md\nDone.\nProcessing: /home/tiago/documentos/sentinel/hc/genome45.fasta\nFound 48 genes in /home/tiago/documentos/sentinel/hc/genome45.fasta\nTip: abricate can also find virulence factors; use --list to see all supported databases.\nDone.\nProcessing: /home/tiago/documentos/sentinel/hc/genome47.fasta\nFound 46 genes in /home/tiago/documentos/sentinel/hc/genome47.fasta\nTip: found a bug in abricate? Post it at https://github.com/tseemann/abricate/issues.\nDone.\nProcessing: /home/tiago/documentos/sentinel/hc/genome48.fasta\nFound 22 genes in /home/tiago/documentos/sentinel/hc/genome48.fasta\nTip: abricate can also find virulence factors; use --list to see all supported databases.\nDone.\nProcessing: /home/tiago/documentos/sentinel/hc/genome49.fasta\nFound 21 genes in /home/tiago/documentos/sentinel/hc/genome49.fasta\nTip: the abricate manual is at https://github.com/tseemann/abricate/blob/master/README.md\nDone.\nProcessing: /home/tiago/documentos/sentinel/hc/genome50.fasta\nFound 46 genes in /home/tiago/documentos/sentinel/hc/genome50.fasta\nTip: you can use the --summary option to combine reports in a presence/absence matrix.\nDone.\nProcessing: /home/tiago/documentos/sentinel/hc/genome8.fasta\nFound 46 genes in /home/tiago/documentos/sentinel/hc/genome8.fasta\nTip: did you know? abricate was named after 'A'nti 'B'acterial 'R'esistiance\nDone.\nProcessing: /home/tiago/documentos/sentinel/hc/genome9.fasta\nFound 46 genes in /home/tiago/documentos/sentinel/hc/genome9.fasta\nTip: you can use the --summary option to combine reports in a presence/absence matrix.\nDone.\n"
    }
   ],
   "source": [
    "!abricate ~/documentos/sentinel/hc/*.fasta --db card --noheader --threads 12 > ~/documentos/sentinel/spreadsheets/card_hc.csv"
   ]
  },
  {
   "cell_type": "code",
   "execution_count": 3,
   "metadata": {},
   "outputs": [
    {
     "output_type": "stream",
     "name": "stdout",
     "text": "Using nucl database argannot:  2223 sequences -  2020-Apr-19\nProcessing: /home/tiago/documentos/sentinel/hc/genome1.fasta\nFound 24 genes in /home/tiago/documentos/sentinel/hc/genome1.fasta\nTip: remember that abricate is unable to find AMR-mediated SNPs.\nDone.\nProcessing: /home/tiago/documentos/sentinel/hc/genome11.fasta\nFound 2 genes in /home/tiago/documentos/sentinel/hc/genome11.fasta\nTip: it's important to realise abricate uses DNA matching, not AA.\nDone.\nProcessing: /home/tiago/documentos/sentinel/hc/genome12.fasta\nFound 2 genes in /home/tiago/documentos/sentinel/hc/genome12.fasta\nTip: found a bug in abricate? Post it at https://github.com/tseemann/abricate/issues.\nDone.\nProcessing: /home/tiago/documentos/sentinel/hc/genome14.fasta\nFound 4 genes in /home/tiago/documentos/sentinel/hc/genome14.fasta\nTip: remember that abricate is unable to find AMR-mediated SNPs.\nDone.\nProcessing: /home/tiago/documentos/sentinel/hc/genome16.fasta\nFound 12 genes in /home/tiago/documentos/sentinel/hc/genome16.fasta\nTip: the abricate manual is at https://github.com/tseemann/abricate/blob/master/README.md\nDone.\nProcessing: /home/tiago/documentos/sentinel/hc/genome18.fasta\nFound 2 genes in /home/tiago/documentos/sentinel/hc/genome18.fasta\nTip: have a suggestion for abricate? Tell me at https://github.com/tseemann/abricate/issues\nDone.\nProcessing: /home/tiago/documentos/sentinel/hc/genome2.fasta\nFound 5 genes in /home/tiago/documentos/sentinel/hc/genome2.fasta\nTip: you can use the --summary option to combine reports in a presence/absence matrix.\nDone.\nProcessing: /home/tiago/documentos/sentinel/hc/genome20.fasta\nFound 6 genes in /home/tiago/documentos/sentinel/hc/genome20.fasta\nTip: it's important to realise abricate uses DNA matching, not AA.\nDone.\nProcessing: /home/tiago/documentos/sentinel/hc/genome21.fasta\nFound 4 genes in /home/tiago/documentos/sentinel/hc/genome21.fasta\nTip: have a suggestion for abricate? Tell me at https://github.com/tseemann/abricate/issues\nDone.\nProcessing: /home/tiago/documentos/sentinel/hc/genome22.fasta\nFound 9 genes in /home/tiago/documentos/sentinel/hc/genome22.fasta\nTip: abricate can also find virulence factors; use --list to see all supported databases.\nDone.\nProcessing: /home/tiago/documentos/sentinel/hc/genome24.fasta\nFound 19 genes in /home/tiago/documentos/sentinel/hc/genome24.fasta\nTip: the abricate manual is at https://github.com/tseemann/abricate/blob/master/README.md\nDone.\nProcessing: /home/tiago/documentos/sentinel/hc/genome25.fasta\nFound 6 genes in /home/tiago/documentos/sentinel/hc/genome25.fasta\nTip: the --fofn option allows you to feed in a big list of files to run on.\nDone.\nProcessing: /home/tiago/documentos/sentinel/hc/genome27.fasta\nFound 5 genes in /home/tiago/documentos/sentinel/hc/genome27.fasta\nTip: abricate can also find virulence factors; use --list to see all supported databases.\nDone.\nProcessing: /home/tiago/documentos/sentinel/hc/genome28.fasta\nFound 5 genes in /home/tiago/documentos/sentinel/hc/genome28.fasta\nTip: it's important to realise abricate uses DNA matching, not AA.\nDone.\nProcessing: /home/tiago/documentos/sentinel/hc/genome29.fasta\nFound 9 genes in /home/tiago/documentos/sentinel/hc/genome29.fasta\nTip: have a suggestion for abricate? Tell me at https://github.com/tseemann/abricate/issues\nDone.\nProcessing: /home/tiago/documentos/sentinel/hc/genome3.fasta\nFound 14 genes in /home/tiago/documentos/sentinel/hc/genome3.fasta\nTip: you can use the --summary option to combine reports in a presence/absence matrix.\nDone.\nProcessing: /home/tiago/documentos/sentinel/hc/genome30.fasta\nFound 10 genes in /home/tiago/documentos/sentinel/hc/genome30.fasta\nTip: remember that abricate is unable to find AMR-mediated SNPs.\nDone.\nProcessing: /home/tiago/documentos/sentinel/hc/genome31.fasta\nFound 0 genes in /home/tiago/documentos/sentinel/hc/genome31.fasta\nTip: it's important to realise abricate uses DNA matching, not AA.\nDone.\nProcessing: /home/tiago/documentos/sentinel/hc/genome32.fasta\nFound 14 genes in /home/tiago/documentos/sentinel/hc/genome32.fasta\nTip: the abricate manual is at https://github.com/tseemann/abricate/blob/master/README.md\nDone.\nProcessing: /home/tiago/documentos/sentinel/hc/genome33.fasta\nFound 9 genes in /home/tiago/documentos/sentinel/hc/genome33.fasta\nTip: found a bug in abricate? Post it at https://github.com/tseemann/abricate/issues.\nDone.\nProcessing: /home/tiago/documentos/sentinel/hc/genome36.fasta\nFound 18 genes in /home/tiago/documentos/sentinel/hc/genome36.fasta\nTip: abricate can also find virulence factors; use --list to see all supported databases.\nDone.\nProcessing: /home/tiago/documentos/sentinel/hc/genome37.fasta\nFound 0 genes in /home/tiago/documentos/sentinel/hc/genome37.fasta\nTip: have a suggestion for abricate? Tell me at https://github.com/tseemann/abricate/issues\nDone.\nProcessing: /home/tiago/documentos/sentinel/hc/genome38.fasta\nFound 10 genes in /home/tiago/documentos/sentinel/hc/genome38.fasta\nTip: remember that abricate is unable to find AMR-mediated SNPs.\nDone.\nProcessing: /home/tiago/documentos/sentinel/hc/genome40.fasta\nFound 11 genes in /home/tiago/documentos/sentinel/hc/genome40.fasta\nTip: it's important to realise abricate uses DNA matching, not AA.\nDone.\nProcessing: /home/tiago/documentos/sentinel/hc/genome41.fasta\nFound 24 genes in /home/tiago/documentos/sentinel/hc/genome41.fasta\nTip: found a bug in abricate? Post it at https://github.com/tseemann/abricate/issues.\nDone.\nProcessing: /home/tiago/documentos/sentinel/hc/genome42.fasta\nFound 7 genes in /home/tiago/documentos/sentinel/hc/genome42.fasta\nTip: remember that abricate is unable to find AMR-mediated SNPs.\nDone.\nProcessing: /home/tiago/documentos/sentinel/hc/genome43.fasta\nFound 6 genes in /home/tiago/documentos/sentinel/hc/genome43.fasta\nTip: the abricate manual is at https://github.com/tseemann/abricate/blob/master/README.md\nDone.\nProcessing: /home/tiago/documentos/sentinel/hc/genome44.fasta\nFound 7 genes in /home/tiago/documentos/sentinel/hc/genome44.fasta\nTip: found a bug in abricate? Post it at https://github.com/tseemann/abricate/issues.\nDone.\nProcessing: /home/tiago/documentos/sentinel/hc/genome45.fasta\nFound 7 genes in /home/tiago/documentos/sentinel/hc/genome45.fasta\nTip: remember that abricate is unable to find AMR-mediated SNPs.\nDone.\nProcessing: /home/tiago/documentos/sentinel/hc/genome47.fasta\nFound 5 genes in /home/tiago/documentos/sentinel/hc/genome47.fasta\nTip: have a suggestion for abricate? Tell me at https://github.com/tseemann/abricate/issues\nDone.\nProcessing: /home/tiago/documentos/sentinel/hc/genome48.fasta\nFound 6 genes in /home/tiago/documentos/sentinel/hc/genome48.fasta\nTip: remember that abricate is unable to find AMR-mediated SNPs.\nDone.\nProcessing: /home/tiago/documentos/sentinel/hc/genome49.fasta\nFound 5 genes in /home/tiago/documentos/sentinel/hc/genome49.fasta\nTip: it's important to realise abricate uses DNA matching, not AA.\nDone.\nProcessing: /home/tiago/documentos/sentinel/hc/genome50.fasta\nFound 4 genes in /home/tiago/documentos/sentinel/hc/genome50.fasta\nTip: have a suggestion for abricate? Tell me at https://github.com/tseemann/abricate/issues\nDone.\nProcessing: /home/tiago/documentos/sentinel/hc/genome8.fasta\nFound 5 genes in /home/tiago/documentos/sentinel/hc/genome8.fasta\nTip: did you know? abricate was named after 'A'nti 'B'acterial 'R'esistiance\nDone.\nProcessing: /home/tiago/documentos/sentinel/hc/genome9.fasta\nFound 5 genes in /home/tiago/documentos/sentinel/hc/genome9.fasta\nTip: you can use the --summary option to combine reports in a presence/absence matrix.\nDone.\n"
    }
   ],
   "source": [
    "!abricate ~/documentos/sentinel/hc/*.fasta --db argannot --noheader --threads 12 > ~/documentos/sentinel/spreadsheets/argannot_hc.csv"
   ]
  },
  {
   "cell_type": "code",
   "execution_count": 8,
   "metadata": {},
   "outputs": [
    {
     "output_type": "stream",
     "name": "stdout",
     "text": "Using nucl database plasmidfinder:  460 sequences -  2020-Apr-19\nProcessing: /home/tiago/documentos/sentinel/hc/genome1.fasta\nFound 6 genes in /home/tiago/documentos/sentinel/hc/genome1.fasta\nTip: remember that abricate is unable to find AMR-mediated SNPs.\nDone.\nProcessing: /home/tiago/documentos/sentinel/hc/genome11.fasta\nFound 0 genes in /home/tiago/documentos/sentinel/hc/genome11.fasta\nTip: did you know? abricate was named after 'A'nti 'B'acterial 'R'esistiance\nDone.\nProcessing: /home/tiago/documentos/sentinel/hc/genome12.fasta\nFound 0 genes in /home/tiago/documentos/sentinel/hc/genome12.fasta\nTip: have a suggestion for abricate? Tell me at https://github.com/tseemann/abricate/issues\nDone.\nProcessing: /home/tiago/documentos/sentinel/hc/genome14.fasta\nFound 1 genes in /home/tiago/documentos/sentinel/hc/genome14.fasta\nTip: you can use the --summary option to combine reports in a presence/absence matrix.\nDone.\nProcessing: /home/tiago/documentos/sentinel/hc/genome16.fasta\nFound 5 genes in /home/tiago/documentos/sentinel/hc/genome16.fasta\nTip: abricate can also find virulence factors; use --list to see all supported databases.\nDone.\nProcessing: /home/tiago/documentos/sentinel/hc/genome18.fasta\nFound 5 genes in /home/tiago/documentos/sentinel/hc/genome18.fasta\nTip: it's important to realise abricate uses DNA matching, not AA.\nDone.\nProcessing: /home/tiago/documentos/sentinel/hc/genome2.fasta\nFound 0 genes in /home/tiago/documentos/sentinel/hc/genome2.fasta\nTip: the abricate manual is at https://github.com/tseemann/abricate/blob/master/README.md\nDone.\nProcessing: /home/tiago/documentos/sentinel/hc/genome20.fasta\nFound 4 genes in /home/tiago/documentos/sentinel/hc/genome20.fasta\nTip: you can use the --summary option to combine reports in a presence/absence matrix.\nDone.\nProcessing: /home/tiago/documentos/sentinel/hc/genome21.fasta\nFound 0 genes in /home/tiago/documentos/sentinel/hc/genome21.fasta\nTip: it's important to realise abricate uses DNA matching, not AA.\nDone.\nProcessing: /home/tiago/documentos/sentinel/hc/genome22.fasta\nFound 2 genes in /home/tiago/documentos/sentinel/hc/genome22.fasta\nTip: the abricate manual is at https://github.com/tseemann/abricate/blob/master/README.md\nDone.\nProcessing: /home/tiago/documentos/sentinel/hc/genome24.fasta\nFound 5 genes in /home/tiago/documentos/sentinel/hc/genome24.fasta\nTip: you can use the --summary option to combine reports in a presence/absence matrix.\nDone.\nProcessing: /home/tiago/documentos/sentinel/hc/genome25.fasta\nFound 9 genes in /home/tiago/documentos/sentinel/hc/genome25.fasta\nTip: remember that abricate is unable to find AMR-mediated SNPs.\nDone.\nProcessing: /home/tiago/documentos/sentinel/hc/genome27.fasta\nFound 1 genes in /home/tiago/documentos/sentinel/hc/genome27.fasta\nTip: it's important to realise abricate uses DNA matching, not AA.\nDone.\nProcessing: /home/tiago/documentos/sentinel/hc/genome28.fasta\nFound 1 genes in /home/tiago/documentos/sentinel/hc/genome28.fasta\nTip: the abricate manual is at https://github.com/tseemann/abricate/blob/master/README.md\nDone.\nProcessing: /home/tiago/documentos/sentinel/hc/genome29.fasta\nFound 5 genes in /home/tiago/documentos/sentinel/hc/genome29.fasta\nTip: found a bug in abricate? Post it at https://github.com/tseemann/abricate/issues.\nDone.\nProcessing: /home/tiago/documentos/sentinel/hc/genome3.fasta\nFound 8 genes in /home/tiago/documentos/sentinel/hc/genome3.fasta\nTip: the --fofn option allows you to feed in a big list of files to run on.\nDone.\nProcessing: /home/tiago/documentos/sentinel/hc/genome30.fasta\nFound 5 genes in /home/tiago/documentos/sentinel/hc/genome30.fasta\nTip: remember that abricate is unable to find AMR-mediated SNPs.\nDone.\nProcessing: /home/tiago/documentos/sentinel/hc/genome31.fasta\nFound 1 genes in /home/tiago/documentos/sentinel/hc/genome31.fasta\nTip: it's important to realise abricate uses DNA matching, not AA.\nDone.\nProcessing: /home/tiago/documentos/sentinel/hc/genome32.fasta\nFound 3 genes in /home/tiago/documentos/sentinel/hc/genome32.fasta\nTip: the abricate manual is at https://github.com/tseemann/abricate/blob/master/README.md\nDone.\nProcessing: /home/tiago/documentos/sentinel/hc/genome33.fasta\nFound 4 genes in /home/tiago/documentos/sentinel/hc/genome33.fasta\nTip: found a bug in abricate? Post it at https://github.com/tseemann/abricate/issues.\nDone.\nProcessing: /home/tiago/documentos/sentinel/hc/genome36.fasta\nFound 7 genes in /home/tiago/documentos/sentinel/hc/genome36.fasta\nTip: remember that abricate is unable to find AMR-mediated SNPs.\nDone.\nProcessing: /home/tiago/documentos/sentinel/hc/genome37.fasta\nFound 0 genes in /home/tiago/documentos/sentinel/hc/genome37.fasta\nTip: did you know? abricate was named after 'A'nti 'B'acterial 'R'esistiance\nDone.\nProcessing: /home/tiago/documentos/sentinel/hc/genome38.fasta\nFound 6 genes in /home/tiago/documentos/sentinel/hc/genome38.fasta\nTip: have a suggestion for abricate? Tell me at https://github.com/tseemann/abricate/issues\nDone.\nProcessing: /home/tiago/documentos/sentinel/hc/genome40.fasta\nFound 2 genes in /home/tiago/documentos/sentinel/hc/genome40.fasta\nTip: the --fofn option allows you to feed in a big list of files to run on.\nDone.\nProcessing: /home/tiago/documentos/sentinel/hc/genome41.fasta\nFound 6 genes in /home/tiago/documentos/sentinel/hc/genome41.fasta\nTip: abricate can also find virulence factors; use --list to see all supported databases.\nDone.\nProcessing: /home/tiago/documentos/sentinel/hc/genome42.fasta\nFound 8 genes in /home/tiago/documentos/sentinel/hc/genome42.fasta\nTip: the abricate manual is at https://github.com/tseemann/abricate/blob/master/README.md\nDone.\nProcessing: /home/tiago/documentos/sentinel/hc/genome43.fasta\nFound 0 genes in /home/tiago/documentos/sentinel/hc/genome43.fasta\nTip: you can use the --summary option to combine reports in a presence/absence matrix.\nDone.\nProcessing: /home/tiago/documentos/sentinel/hc/genome44.fasta\nFound 5 genes in /home/tiago/documentos/sentinel/hc/genome44.fasta\nTip: remember that abricate is unable to find AMR-mediated SNPs.\nDone.\nProcessing: /home/tiago/documentos/sentinel/hc/genome45.fasta\nFound 0 genes in /home/tiago/documentos/sentinel/hc/genome45.fasta\nTip: it's important to realise abricate uses DNA matching, not AA.\nDone.\nProcessing: /home/tiago/documentos/sentinel/hc/genome47.fasta\nFound 0 genes in /home/tiago/documentos/sentinel/hc/genome47.fasta\nTip: found a bug in abricate? Post it at https://github.com/tseemann/abricate/issues.\nDone.\nProcessing: /home/tiago/documentos/sentinel/hc/genome48.fasta\nFound 8 genes in /home/tiago/documentos/sentinel/hc/genome48.fasta\nTip: the --fofn option allows you to feed in a big list of files to run on.\nDone.\nProcessing: /home/tiago/documentos/sentinel/hc/genome49.fasta\nFound 0 genes in /home/tiago/documentos/sentinel/hc/genome49.fasta\nTip: it's important to realise abricate uses DNA matching, not AA.\nDone.\nProcessing: /home/tiago/documentos/sentinel/hc/genome50.fasta\nFound 2 genes in /home/tiago/documentos/sentinel/hc/genome50.fasta\nTip: the abricate manual is at https://github.com/tseemann/abricate/blob/master/README.md\nDone.\nProcessing: /home/tiago/documentos/sentinel/hc/genome8.fasta\nFound 0 genes in /home/tiago/documentos/sentinel/hc/genome8.fasta\nTip: you can use the --summary option to combine reports in a presence/absence matrix.\nDone.\nProcessing: /home/tiago/documentos/sentinel/hc/genome9.fasta\nFound 0 genes in /home/tiago/documentos/sentinel/hc/genome9.fasta\nTip: abricate can also find virulence factors; use --list to see all supported databases.\nDone.\n"
    }
   ],
   "source": [
    "!abricate ~/documentos/sentinel/hc/*.fasta --db plasmidfinder --noheader --threads 12 > ~/documentos/sentinel/spreadsheets/plasmidfinder_hc.csv"
   ]
  },
  {
   "cell_type": "markdown",
   "metadata": {},
   "source": [
    "## Load dataframes"
   ]
  },
  {
   "cell_type": "markdown",
   "metadata": {},
   "source": [
    "## HC Resistome profile"
   ]
  },
  {
   "cell_type": "code",
   "execution_count": null,
   "metadata": {},
   "outputs": [],
   "source": [
    "argannot['class'] = argannot['gene'].apply(lambda x: x.split(')')[0]).apply(lambda y: y.split('(')[1]) #criando a coluna \"class\"\n",
    "argannot['genomes'] = argannot['species'] +'_'+argannot['file']"
   ]
  },
  {
   "cell_type": "code",
   "execution_count": null,
   "metadata": {},
   "outputs": [],
   "source": [
    "heatspecies = pd.get_dummies(argannot[['class','genomes']].set_index('genomes')).groupby(level = 0).sum() # matrix[especies,classes]"
   ]
  },
  {
   "cell_type": "code",
   "execution_count": null,
   "metadata": {},
   "outputs": [],
   "source": [
    "plt.figure(figsize = (12,10))\n",
    "\n",
    "sns.heatmap(heatspecies, cmap = \"RdBu_r\")\n",
    "#plt.title('Perfil do resistoma do Hospital das Clínicas', fontsize = 20, y = .8)\n",
    "plt.colormaps()\n",
    "plt.xticks(fontsize = 20)\n",
    "plt.yticks(fontsize = 15)\n",
    "plt.ylabel('')\n",
    "#plt.savefig('heatmapmap_classes_argannot.png', bbox_inches = 'tight',dpi = 600)\n"
   ]
  },
  {
   "cell_type": "markdown",
   "metadata": {},
   "source": [
    "## Boxplot"
   ]
  },
  {
   "cell_type": "code",
   "execution_count": null,
   "metadata": {},
   "outputs": [],
   "source": [
    "kleb = matrix.matrix_box(argannot,'Klebsiella pneumoniae')\n",
    "eco = matrix.matrix_box(argannot,'Escherichia  coli')"
   ]
  },
  {
   "cell_type": "code",
   "execution_count": null,
   "metadata": {},
   "outputs": [],
   "source": [
    "box = plt.figure(figsize= (16,16))\n",
    "plt.subplots_adjust(top=.7) \n",
    "#plt.suptitle('Box plots: número de genes por genoma', size=35, y=.79)\n",
    "plt.box(on =  None)\n",
    "plt.xticks([])\n",
    "plt.yticks([])\n",
    "\n",
    "plt.ylabel('Número de ARGs',fontsize=20,labelpad=20 )\n",
    "plt.xlabel('Classes de ARGs',fontsize= 20,labelpad=25 )\n",
    "\n",
    "\n",
    "x1 = box.add_subplot(2,1,1)\n",
    "\n",
    "sns.boxplot(data = kleb)\n",
    "sns.swarmplot(data = kleb, color = 'black')\n",
    "plt.title('Klebsiella pneumoniae', fontsize = 30,fontstyle = 'italic')\n",
    "plt.ylim(0,10)\n",
    "plt.xticks(fontsize = 18)\n",
    "plt.yticks(fontsize = 18)\n",
    "\n",
    "x2 = box.add_subplot(2,1,2)\n",
    "sns.boxplot(data = eco)\n",
    "sns.swarmplot(data = eco, color = 'black')\n",
    "plt.title('Escherichia coli', fontsize = 30, fontstyle = 'italic')\n",
    "plt.ylim(0,10)\n",
    "plt.xticks(fontsize = 18)\n",
    "plt.yticks(fontsize = 18)\n",
    "\n",
    "#plt.savefig(r'C:\\Users\\tiago\\Google Drive\\lab\\fapesp\\mestrado\\projetospython\\abricate\\campinas\\hc\\figuras_hc\\boxplots2.png',bbox_inches = 'tight',dpi = 600)"
   ]
  },
  {
   "cell_type": "markdown",
   "metadata": {},
   "source": [
    "## Grafo"
   ]
  },
  {
   "cell_type": "code",
   "execution_count": null,
   "metadata": {},
   "outputs": [],
   "source": [
    "import networkx as nx\n",
    "import matplotlib.pyplot as plt\n",
    "import math"
   ]
  },
  {
   "cell_type": "code",
   "execution_count": null,
   "metadata": {},
   "outputs": [],
   "source": [
    "def angle (x):\n",
    "    ang = []\n",
    "    a = 360/len(x)\n",
    "    for c in range(0,len(x)+1):\n",
    "        ang.append(a*c)\n",
    "    return ang "
   ]
  },
  {
   "cell_type": "code",
   "execution_count": null,
   "metadata": {},
   "outputs": [],
   "source": [
    "AdMatrix = pd.get_dummies(argannot.set_index('species').loc[:,'gene']).groupby(level = 0).sum()"
   ]
  },
  {
   "cell_type": "code",
   "execution_count": null,
   "metadata": {},
   "outputs": [],
   "source": [
    "AdNet = nx.DiGraph()\n",
    "for col in list(AdMatrix.columns):\n",
    "    AdNet.add_node(col)\n",
    "    \n",
    "for ind in list(AdMatrix.index):\n",
    "    AdNet.add_node(ind)\n",
    "    \n",
    "for ind in AdMatrix.index:\n",
    "    for col in AdMatrix.columns:\n",
    "        if AdMatrix.loc[ind,col] != 0:\n",
    "            AdNet.add_edge(ind,col)\n",
    "pos = nx.circular_layout(AdNet)"
   ]
  },
  {
   "cell_type": "code",
   "execution_count": null,
   "metadata": {},
   "outputs": [],
   "source": [
    "angles = angle(pos)"
   ]
  },
  {
   "cell_type": "code",
   "execution_count": null,
   "metadata": {},
   "outputs": [],
   "source": [
    "plt.figure(figsize = (10,10))\n",
    "nx.draw(AdNet,pos)\n",
    "for p,a in zip(pos.items(),angles):\n",
    "    plt.text(x = p[1][0], y = p[1][1], s = p[0], rotation = a, rotation_mode='anchor')\n",
    "    "
   ]
  },
  {
   "cell_type": "markdown",
   "metadata": {},
   "source": [
    "# Responder as questões do revisor do relatório\n",
    "\n",
    "<p style='text-align: justify;'>\n",
    "Sugiro alguns pontos a serem pensados:<br />\n",
    "<b>#1</b> Analisar separadamente Gram-negativos e Gram-positivos. Marcadores de resistência para os dois grupos são\n",
    "muito diferentes e não podem ser agrupados. Não existe, por definição, ESBL em Gram-positivos. Por isso o achado de um isolado de Staphylococcus deve ser revisado. <br />\n",
    "<b>Resposta:</b> Em nenhum momento foi citado no relátio a presença de ESBL em <i>Staphyloccoccus aures </i> !\n",
    "</p>"
   ]
  },
  {
   "cell_type": "markdown",
   "metadata": {},
   "source": [
    "<center> ---------- \\\\ ---------- </center>\n",
    "<p style='text-align: justify;'>\n",
    "<b>#2</b> Consultar documentos do CLSI (M100) e EUCAST (Expert rules and intrinsic resistance) para verificar quais\n",
    "espécies tem resistências intrínsecas que não tem importância epidemiológica. <br />\n",
    "<b>Resposta:</b> Seria interessante analisas as espéscies sem importância epidemiológica, pois os ARGs \"usar\" comunidades ambientais como reservatório.\n",
    "</p> "
   ]
  },
  {
   "cell_type": "markdown",
   "metadata": {},
   "source": [
    "<center> ---------- \\\\ ---------- </center>\n",
    "\n",
    "<p style='text-align: justify;'>\n",
    "<b>#3</b> Confirmar a ausência de determinantes cromossomais: por exemplo o AmpC \"deletado\" na amostra de E. coli\n",
    "45. AmpC tem papel fundamental na biologia bacteriana, especificamente na reciclagem dos peptideoglicanos para construção da parede e posterior divisão celular. Seria surpreendente (para não dizer impossível) uma bactéria não ter porque ela não iria sobreviver. Certamente (e esse resultado é mostrado no relatório) a cepa 45 tem um ortólogo. Portanto, detectar ampC em E. coli não tem significado. Por outro lado, detectar ampC plasmidial sim tem significado, porque reflete a aquisição de um determinante de resistência.\n",
    "</p>"
   ]
  },
  {
   "cell_type": "markdown",
   "metadata": {},
   "source": [
    "<center> ---------- \\\\ ---------- </center>\n",
    "\n",
    "<p style='text-align: justify;'>\n",
    "<b>#4</b> O fato de detectar a PBP de E. coli em Klebsiella não apresenta relevância (pelo menos com as informações\n",
    "apresentadas no relatório). PBP são proteinas transpeptidases que fazem também a síntese de parede. O fato de ter encontrado a da E. coli na Klebsiella não é surpreendente. Provavelmente a primeira a ser depositada (e comum a todas as enterobactérias, ou parte do táxon) foi de E. coli por ser o organismo protótipo para estudos em bacteriologia. No entanto, o cenário muda totalmente quando fala-se em PBP alteradas, como é o caso da PBP2a de Staphylococcus que confere resistência (adquirida) à meticilina. Aí é relevante pesquisar o gene que codifica a PBP2a <b>(que no caso é o mecA), mas somente em Staphylococcus. spp </b><br />\n",
    "</p>"
   ]
  },
  {
   "cell_type": "code",
   "execution_count": null,
   "metadata": {},
   "outputs": [],
   "source": [
    "argannot.set_index('gene').loc['(Bla)mecA',]"
   ]
  },
  {
   "cell_type": "markdown",
   "metadata": {},
   "source": [
    "<b>Resposta:</b> Encontramos o gene <b>(Bla)mecA</b> em <i>Staphylococcus</i>"
   ]
  },
  {
   "cell_type": "markdown",
   "metadata": {},
   "source": [
    "<center> ---------- \\\\ ---------- </center>\n",
    "\n",
    "<p style='text-align: justify;'>\n",
    "<b>#5</b> O fato de encontrar genes de resistência adquiridos em diferentes isolados não tem relação direta com a\n",
    "aquisição prévia e posterior disseminação clonal. Muitas vezes a aquisição pode acontecer em diferentes momentos (veja por exemplo o caso de KPC e dos grupos clonais predominantes), por meio de plasmídeos conjugativos. Para termos alguma evidência mais assertiva sobre o que ocorreu primeiro, a aquisição do gene ou a dispersão bacteriana é necessário estudar o contexto genético dos genes de resistência, se possível os inc types dos plasmídeos, pois eles fornecem essas informações sobre tipagem de plamsídeo. Sem essas informações é difícil afirmar se a aquisição foi única ou múltipla ao longo do tempo.<br />\n",
    "</p>"
   ]
  },
  {
   "cell_type": "markdown",
   "metadata": {},
   "source": [
    "<b>5.1.</b> Encontrar os Nodes que contêm genes de plasmídeos e de resistência a antibióticos: cruzar ARG-Annot e Plasmidfinder"
   ]
  },
  {
   "cell_type": "code",
   "execution_count": null,
   "metadata": {
    "scrolled": true
   },
   "outputs": [],
   "source": [
    "CArgs = set(argannot['sequence'].values) #Conjunto dos Nodes com ARGs\n",
    "CPlasmid = set(plasmidfinder['sequence'].values) #Conjunto dos Node com genes de plasmídeo\n",
    "argsEplamid = CArgs & CPlasmid #Intersecção de ambos \n",
    "print(f\"ARG-Annot: {len(CArgs)}\\nPlasmifinder: {len(CPlasmid)}\\nIntersecção: {len(argsEplamid)}\")"
   ]
  },
  {
   "cell_type": "code",
   "execution_count": null,
   "metadata": {
    "scrolled": true
   },
   "outputs": [],
   "source": [
    "argannot.set_index('sequence').loc[list(argsEplamid),:]"
   ]
  },
  {
   "cell_type": "markdown",
   "metadata": {},
   "source": [
    "<b>5.2 BLASTn</b> "
   ]
  },
  {
   "cell_type": "markdown",
   "metadata": {},
   "source": [
    "códigio para estrair os nodes para blast\n",
    "<code>\n",
    "for a in argannot.set_index('sequence').loc[list(argsEplamid),:].itertuples():\n",
    "    for r in SeqIO.parse(f'{caminho}/{a.file}','fasta'):\n",
    "        if r.id == a.Index:\n",
    "            file = open(f'{a.Index}.fasta','a')\n",
    "            file.write(f'>{r.id}\\n')\n",
    "            file.write(f'{r.seq}')\n",
    "            file.close()\n",
    "</code>"
   ]
  },
  {
   "cell_type": "code",
   "execution_count": null,
   "metadata": {},
   "outputs": [],
   "source": [
    "plasmids = pd.DataFrame({'Node':['NODE_60_length_703_cov_4241.998344',\n",
    "                                 'NODE_45_length_533_cov_0.048387',\n",
    "                                 'NODE_71_length_640_cov_0.247689',\n",
    "                                 'NODE_62_length_747_cov_0.206790',\n",
    "                                 'NODE_45_length_533_cov_0.048387',\n",
    "                                 'NODE_56_length_2305_cov_620.290118',\n",
    "                                 'NODE_15_length_136795_cov_22.099162',\n",
    "                                 'NODE_42_length_42978_cov_16.990438',\n",
    "                                 'NODE_18_length_24824_cov_61.573873',\n",
    "                                 'NODE_22_length_73939_cov_13.042389',\n",
    "                                 'NODE_34_length_63067_cov_25.930044',\n",
    "                                 'NODE_37_length_43294_cov_12.460632',\n",
    "                                 'NODE_38_length_1699_cov_0.250000',\n",
    "                                 'NODE_27_length_10506_cov_41.427597',\n",
    "                                 'NODE_41_length_4753_cov_20.978728',\n",
    "                                 'NODE_43_length_2345_cov_2403.472395',\n",
    "                                 'NODE_44_length_43061_cov_24.463410',\n",
    "                                 'NODE_71_length_1939_cov_0.339130',\n",
    "                                 'NODE_2_length_217598_cov_19.485952'],\n",
    "                         'Blast':['Staphylococcus hominis strain Sho-115Lar plasmid pSho-115Lar, complete sequence Z',\n",
    "                                  'Staphylococcus aureus strain UP_1484 plasmid unnamed, complete sequence',\n",
    "                                  'Staphylococcus aureus subsp. aureus strain SR168 plasmid pSR168, complete sequence',\n",
    "                                  'Staphylococcus hominis strain Sho-115Lar plasmid pSho-115Lar, complete sequence',\n",
    "                                  'Staphylococcus aureus strain UP_1484 plasmid unnamed, complete sequence',\n",
    "                                  'Staphylococcus aureus subsp. aureus strain SR241 plasmid pSR241, complete sequence',\n",
    "                                  'Photobacterium damselae subsp. piscicida plasmid pP91278 DNA, complete sequence',\n",
    "                                  'Klebsiella pneumoniae strain 1194/11 plasmid pKP1194a, complete sequence',\n",
    "                                  'Staphylococcus caprae strain 26D plasmid unnamed1, complete sequence-Cover:65%',\n",
    "                                  'Escherichia coli strain ATCC 43886 plasmid unnamed1, complete sequence',\n",
    "                                  'Klebsiella pneumoniae strain KP58 plasmid pKP58-3, complete sequence',\n",
    "                                  'Salmonella enterica subsp. enterica serovar Newport str. CVM 22462 plasmid pCVM22462, complete sequence',\n",
    "                                  'Staphylococcus aureus strain SA7112 plasmid pSA7112-1, complete sequence',\n",
    "                                  'Staphylococcus capitis CR01 plasmid CR01, complete sequence',\n",
    "                                  'Staphylococcus epidermidis strain 107.2 plasmid pAQZ1, complete sequence',\n",
    "                                  'Staphylococcus epidermidis plasmid pNE131, complete sequence',\n",
    "                                  'Klebsiella pneumoniae strain A64477 plasmid pKP64477d, complete sequence',\n",
    "                                  'Staphylococcus haemolyticus strain 83131B plasmid p83131B, complete sequence',\n",
    "                                  'ERROR'],\n",
    "                         'link':[r'https://www.ncbi.nlm.nih.gov/nucleotide/MH423313.1?report=genbank&log$=nucltop&blast_rank=1&RID=8PUSN2Z3016',\n",
    "                                 r'https://www.ncbi.nlm.nih.gov/nucleotide/CP047816.1?report=genbank&log$=nucltop&blast_rank=1&RID=8PW724V9016',\n",
    "                                 r'https://www.ncbi.nlm.nih.gov/nucleotide/MN251857.1?report=genbank&log$=nucltop&blast_rank=5&RID=8PWWMJNU014',\n",
    "                                 r'https://www.ncbi.nlm.nih.gov/nucleotide/MH423313.1?report=genbank&log$=nucltop&blast_rank=1&RID=8PXBKW56014',\n",
    "                                 r'https://www.ncbi.nlm.nih.gov/nucleotide/CP047816.1?report=genbank&log$=nucltop&blast_rank=1&RID=8PXJF2T1014',\n",
    "                                 r'https://www.ncbi.nlm.nih.gov/nucleotide/MN251858.1?report=genbank&log$=nucltop&blast_rank=1&RID=8PY0PC96016',\n",
    "                                 r'https://www.ncbi.nlm.nih.gov/nucleotide/AB277724.1?report=genbank&log$=nucltop&blast_rank=1&RID=8PY4WJED014',\n",
    "                                 r'https://www.ncbi.nlm.nih.gov/nucleotide/KX756453.1?report=genbank&log$=nucltop&blast_rank=1&RID=8PYUTMU5014',\n",
    "                                 r'https://www.ncbi.nlm.nih.gov/nucleotide/CP031272.1?report=genbank&log$=nucltop&blast_rank=2&RID=8PZ6TFG501R',\n",
    "                                 r'https://www.ncbi.nlm.nih.gov/nucleotide/CP024254.1?report=genbank&log$=nucltop&blast_rank=1&RID=8PZGBZU7014',\n",
    "                                 r'https://www.ncbi.nlm.nih.gov/nucleotide/CP041376.1?report=genbank&log$=nucltop&blast_rank=2&RID=8PZPN8NV016',\n",
    "                                 r'https://www.ncbi.nlm.nih.gov/nucleotide/CP009566.1?report=genbank&log$=nucltop&blast_rank=1&RID=8R02BXYE014',\n",
    "                                 r'https://www.ncbi.nlm.nih.gov/nucleotide/KX011076.1?report=genbank&log$=nucltop&blast_rank=1&RID=8R0BB1YV014',\n",
    "                                 r'https://www.ncbi.nlm.nih.gov/nucleotide/LN866850.1?report=genbank&log$=nucltop&blast_rank=1&RID=8R14ACME016',\n",
    "                                 r'https://www.ncbi.nlm.nih.gov/nucleotide/MK046687.1?report=genbank&log$=nucltop&blast_rank=1&RID=8R17AN87014',\n",
    "                                 r'https://www.ncbi.nlm.nih.gov/nucleotide/M12730.1?report=genbank&log$=nucltop&blast_rank=1&RID=8R1BXRAG014',\n",
    "                                 r'https://www.ncbi.nlm.nih.gov/nucleotide/MF150120.1?report=genbank&log$=nucltop&blast_rank=1&RID=8R1GH7W5016',\n",
    "                                 r'https://www.ncbi.nlm.nih.gov/nucleotide/CP025398.1?report=genbank&log$=nucltop&blast_rank=2&RID=8R2AM2S1014',\n",
    "                                 'ERROR']\n",
    "                })"
   ]
  },
  {
   "cell_type": "code",
   "execution_count": null,
   "metadata": {
    "scrolled": true
   },
   "outputs": [],
   "source": [
    "argannot_plasmids = [argannot.set_index('sequence').loc[plasmids['Node']],plasmidfinder.set_index('sequence').loc[plasmids['Node']]] #Resultados da busca\n",
    "argannot_plasmids = pd.concat(argannot_plasmids, sort = True, axis = 0)\n",
    "argannot_plasmids.reset_index(inplace = True)\n",
    "argannot_plasmids.set_index(['file','sequence'],drop = False,inplace = True)\n",
    "argannot_plasmids.sort_index(inplace = True)"
   ]
  },
  {
   "cell_type": "code",
   "execution_count": null,
   "metadata": {},
   "outputs": [],
   "source": [
    "argannot_plasmids[argannot_plasmids['database'] == 'argannot'].drop(['sequence','path','resistance'], axis = 1)."
   ]
  },
  {
   "cell_type": "code",
   "execution_count": null,
   "metadata": {},
   "outputs": [],
   "source": [
    "argannot_plasmids.loc[[\"genome1.fasta\", \"genome3.fasta\", \"genome22.fasta\", \"genome29.fasta\", \"genome30.fasta\",\n",
    "                 \"genome32.fasta\",\"genome33.fasta\", \"genome36.fasta\", \"genome41.fasta\", \"genome42.fasta\"],['species']].to_csv('argannot_plasmids.csv')\n",
    "\n",
    "\n"
   ]
  },
  {
   "cell_type": "markdown",
   "metadata": {},
   "source": [
    "<p>\n",
    "<b>5.3. Resultados parciais da busca por plasmídeos</b> <br />\n",
    "Foram encontrados 18 nodes candidatos, dos quais 17 apresentaram resultado positivo para algum plasmídeo. <br />\n",
    "Espécies que contem os nodes/plasmídeos<br />\n",
    "<ul>\n",
    "    <li>Enterobacter asburiae</li>\n",
    "    <li>Escherichia coli</li>\n",
    "    <li>Klebsiella pneumoniae</li>\n",
    "    <li>Staphyloccoccus epidermidis</li>\n",
    "    <li>Staphyloccoccus aureus</li>\n",
    "    <li>Staphyloccoccus haemolyticus</li>\n",
    "    <li>Staphyloccoccus warneri</li>\n",
    "    <li>Stenotrophomonas maltophilia</li>\n",
    "</ul>\n",
    "</p>"
   ]
  },
  {
   "cell_type": "markdown",
   "metadata": {},
   "source": [
    "<p>\n",
    "    <b>5.4. Detalhamento dos plasmídeos encontrados</b><br />\n",
    "    <b>Pedidos do Rafa:</b> <br /> \n",
    "<ul>\n",
    "    <li>BLAST plasmídeos com L > 2kb </li>\n",
    "    <li>Descobrir onde e quando foram encontrados</li>\n",
    "    <li>Organismo de origem</li>\n",
    "    <li>Prokka - descrever os plasmídeos</li>\n",
    "    <li>Fazer figura/tabela com resumindo os dados</li>\n",
    "</ul>\n",
    "</p>    "
   ]
  },
  {
   "cell_type": "markdown",
   "metadata": {},
   "source": [
    "<b>5.4.1 Extrair os Nodes com L > 2kb</b>"
   ]
  },
  {
   "cell_type": "code",
   "execution_count": null,
   "metadata": {},
   "outputs": [],
   "source": [
    "caminho"
   ]
  },
  {
   "cell_type": "markdown",
   "metadata": {},
   "source": [
    "<code>\n",
    "used = []\n",
    "for i in argannot_plasmids.itertuples():\n",
    "    for record in SeqIO.parse(f'{caminho}/{i.file}','fasta'):\n",
    "        if record.id == i.sequence and int(i.sequence.split('_')[3])>=2000:\n",
    "            if i.sequence not in used:\n",
    "                fasta = open(f'{i.file}_plasmids.fasta','a')\n",
    "                ident = record.id.split('_')[0]+record.id.split('_')[1]\n",
    "                fasta.write(f'>{ident}\\n')\n",
    "                fasta.write(f'{record.seq}\\n')\n",
    "                fasta.close()\n",
    "                used.append(i.sequence)\n",
    "<code>"
   ]
  },
  {
   "cell_type": "markdown",
   "metadata": {},
   "source": [
    "<code>\n",
    "used = []\n",
    "file = open('argannot_plasmids.fasta','a')\n",
    "for i in argannot_plasmids.itertuples():\n",
    "    for record in SeqIO.parse(f'{caminho}/{i.file}','fasta'):\n",
    "        if record.id == i.sequence and int(i.sequence.split('_')[3])>=2000:\n",
    "            if i.sequence not in used and i.sequence != 'NODE_2_length_217598_cov_19.485952' and i.sequence != \"NODE_15_length_136795_cov_22.099162\":\n",
    "                file.write(f'>{record.id}\\n')\n",
    "                file.write(f'{record.seq}\\n')\n",
    "                used.append(i.sequence)\n",
    "file.close()\n",
    "<code>"
   ]
  },
  {
   "cell_type": "code",
   "execution_count": null,
   "metadata": {},
   "outputs": [],
   "source": [
    "def df_plasmid (file):\n",
    "    \"cria um dataframe a partida de um arquivo gff\"\n",
    "    node = []\n",
    "    start = []\n",
    "    end = []\n",
    "    strand = []\n",
    "    prod = []\n",
    "    prod_final = []\n",
    "    gff = open(f'{file}','r')\n",
    "    for i,l in enumerate(gff):\n",
    "        if l.startswith('#') or l.startswith('>'):\n",
    "            pass\n",
    "        if l.startswith('NODE'):\n",
    "            node.append(l.split('\\t')[0])\n",
    "            start.append(int(l.split('\\t')[3]))\n",
    "            end.append(int(l.split('\\t')[4]))\n",
    "            strand.append(l.split('\\t')[6])\n",
    "            prod.append(l.split('\\t')[8])\n",
    "            \n",
    "    for items in prod:\n",
    "        for items_sep in items.split(';'):\n",
    "            if 'product=' in items_sep:\n",
    "                prod_final.append(items_sep.split('=')[1].split('\\n')[0])\n",
    "    df = pd.DataFrame({'node':node,'start':start, 'end':end, 'strand':strand,'product':prod_final})\n",
    "    df['length'] = df['end'] - df['start']\n",
    "    return df    "
   ]
  },
  {
   "cell_type": "markdown",
   "metadata": {},
   "source": [
    "<p style='text-align: justify;'>\n",
    "<b> 5.4.2 Similaridade entre plasmídeos </b> <br />\n",
    " Os plasmídeos parecem não conter grandes sequências em comum pois nenhum método de alinhamento funcionou. Será que alinhar as cds sozinhas vai funcionar?\n",
    "</p>"
   ]
  },
  {
   "cell_type": "code",
   "execution_count": null,
   "metadata": {},
   "outputs": [],
   "source": [
    "genome1 = df_plasmid('genome1_plasmids.gff')\n",
    "genome1 = genome1.query('product != \"hypothetical protein\"')\n",
    "\n",
    "genome3 = df_plasmid('genome3_plasmids.gff')\n",
    "genome3 = genome3.query('product != \"hypothetical protein\"')\n",
    "\n",
    "genome22 = df_plasmid('genome22_plasmids.gff')\n",
    "genome22 = genome22.query('product != \"hypothetical protein\"')\n",
    "\n",
    "genome29 = df_plasmid('genome29_plasmids.gff')\n",
    "genome29 = genome29.query('product != \"hypothetical protein\"')\n",
    "\n",
    "genome30 = df_plasmid('genome30_plasmids.gff')\n",
    "genome30 = genome30.query('product != \"hypothetical protein\"')\n",
    "\n",
    "genome32 = df_plasmid('genome32_plasmids.gff')\n",
    "genome32 = genome32.query('product != \"hypothetical protein\"')\n",
    "\n",
    "genome33 = df_plasmid('genome33_plasmids.gff')\n",
    "genome33 = genome33.query('product != \"hypothetical protein\"')\n",
    "\n",
    "genome36 = df_plasmid('genome36_plasmids.gff')\n",
    "genome36 = genome36.query('product != \"hypothetical protein\"')\n",
    "\n",
    "genome41 = df_plasmid('genome41_plasmids.gff')\n",
    "genome41 = genome41.query('product != \"hypothetical protein\"')\n",
    "\n",
    "genome42 = df_plasmid('genome42_plasmids.gff')\n",
    "genome42 = genome42.query('product != \"hypothetical protein\"')\n",
    "\n",
    "genomes_selec = [genome1, genome3, genome22, genome29, genome30,\n",
    "                 genome32,genome33, genome36, genome41, \n",
    "                 genome42]\n"
   ]
  },
  {
   "cell_type": "code",
   "execution_count": null,
   "metadata": {},
   "outputs": [],
   "source": [
    "tag = 'product'\n",
    "df_set_genomes = pd.DataFrame(columns = [\"0\",\"1\",\"2\",\"3\",\"4\",\"5\",\"6\",\"7\",\"8\",\"9\"], \n",
    "                              index = [\"0\",\"1\",\"2\",\"3\",\"4\",\"5\",\"6\",\"7\",\"8\",\"9\"])\n",
    "for ia,a in enumerate(genomes_selec):\n",
    "    for ib,b in enumerate(genomes_selec):\n",
    "        if ia != ib:\n",
    "            conj = set(list(a[tag])) & set(list(b[tag]))\n",
    "            \n",
    "            \n",
    "            df_set_genomes.loc[str(ia),str(ib)] = len(conj)\n",
    "        if ia != ib and len(conj) > 0:\n",
    "            print(f'Existem {len(conj)} genes em comum nos DFs {ia}x{ib}: {conj}')\n",
    "            print('='*100)\n",
    "            \n",
    "df_set_genomes.columns = ['K. pneumoniae g1',\n",
    "                          'E. coli g3', \n",
    "                          'S. warneri g22',\n",
    "                          'S epidermidis g29',\n",
    "                          'S. warneri g30',\n",
    "                          'S. epidermidis g32', \n",
    "                          'S. aureus g33',\n",
    "                          'K. pneumoniae g36',\n",
    "                          'K. pneumoniae g41',\n",
    "                          'E. coli g42']\n",
    "df_set_genomes.index = ['K. pneumoniae g1',\n",
    "                          'E. coli g3', \n",
    "                          'S. warneri g22',\n",
    "                          'S epidermidis g29',\n",
    "                          'S. warneri g30',\n",
    "                          'S. epidermidis g32', \n",
    "                          'S. aureus g33',\n",
    "                          'K. pneumoniae g36',\n",
    "                          'K. pneumoniae g41',\n",
    "                          'E. coli g42']\n",
    "\n",
    "\n",
    "df_set_genomes"
   ]
  },
  {
   "cell_type": "code",
   "execution_count": null,
   "metadata": {},
   "outputs": [],
   "source": [
    "plt.figure(figsize = (8,8))\n",
    "sns.heatmap(df_set_genomes.fillna(0),cmap = \"RdBu_r\")\n",
    "plt.title('Shared genes in plasmids')\n",
    "plt.xticks(fontstyle = 'italic')\n",
    "plt.yticks(fontstyle = 'italic')\n",
    "plt.savefig('heatmap_plasmids.pdf',bbox_inches = 'tight')"
   ]
  },
  {
   "cell_type": "code",
   "execution_count": null,
   "metadata": {},
   "outputs": [],
   "source": [
    "pl_blasted_treated = pd.read_csv('plasmids_blasted_treated.csv')"
   ]
  },
  {
   "cell_type": "code",
   "execution_count": null,
   "metadata": {},
   "outputs": [],
   "source": [
    "pl_blasted_treated.head()"
   ]
  },
  {
   "cell_type": "code",
   "execution_count": null,
   "metadata": {},
   "outputs": [],
   "source": [
    "plt.figure(figsize = (10,5))\n",
    "\n",
    "plt.subplot(131)\n",
    "plt.title('Identity distribution', fontsize = 10)\n",
    "sns.boxplot(pl_blasted_treated[' % identity'].div(1000), orient = 'v', color = 'red')\n",
    "sns.swarmplot(pl_blasted_treated[' % identity'].div(1000), color = 'black', orient = 'v')\n",
    "median = pl_blasted_treated[' % identity'].div(1000).median()\n",
    "plt.xlabel(f'Median value: {median}')\n",
    "\n",
    "plt.subplot(132)\n",
    "plt.title('Alignment length distribution', fontsize = 10)\n",
    "sns.boxplot(pl_blasted_treated[' alignment length'], orient = 'v', color = 'green')\n",
    "sns.swarmplot(pl_blasted_treated[' alignment length'], orient = 'v', color = 'black')\n",
    "median = pl_blasted_treated[' alignment length'].median()\n",
    "plt.xlabel(f'Median value: {median}')\n",
    "\n",
    "plt.subplot(133)\n",
    "plt.title('evalue distribution', fontsize = 10)\n",
    "sns.boxplot(pl_blasted_treated[' evalue'], orient = 'v',color = 'blue')\n",
    "\n",
    "plt.tight_layout()"
   ]
  },
  {
   "cell_type": "code",
   "execution_count": null,
   "metadata": {},
   "outputs": [],
   "source": [
    "plt.figure(figsize = (10,15))\n",
    "\n",
    "plt.tight_layout()\n",
    "plt.subplot(421)\n",
    "sns.distplot(pl_blasted_treated[' % identity'].div(1000), bins = len(pl_blasted_treated[' % identity']))\n",
    "median = pl_blasted_treated[' % identity'].div(1000).median()\n",
    "plt.axvline(median, color = 'black', linestyle = '--')\n",
    "\n",
    "plt.subplot(422)\n",
    "sns.distplot(pl_blasted_treated[' alignment length'])\n",
    "median = pl_blasted_treated[' alignment length'].median()\n",
    "plt.axvline(median, color = 'black', linestyle = '--')\n",
    "\n",
    "plt.subplot(423)\n",
    "sns.distplot(pl_blasted_treated[' evalue'])\n",
    "median = pl_blasted_treated[' evalue'].median()\n",
    "plt.axvline(median, color = 'black', linestyle = '--')\n",
    "\n",
    "plt.savefig('distplot_blasts.pdf', bbox_inches = 'tight')"
   ]
  },
  {
   "cell_type": "code",
   "execution_count": null,
   "metadata": {},
   "outputs": [],
   "source": []
  },
  {
   "cell_type": "code",
   "execution_count": null,
   "metadata": {},
   "outputs": [],
   "source": []
  },
  {
   "cell_type": "code",
   "execution_count": null,
   "metadata": {},
   "outputs": [],
   "source": []
  },
  {
   "cell_type": "code",
   "execution_count": null,
   "metadata": {},
   "outputs": [],
   "source": []
  },
  {
   "cell_type": "code",
   "execution_count": null,
   "metadata": {},
   "outputs": [],
   "source": []
  },
  {
   "cell_type": "code",
   "execution_count": null,
   "metadata": {},
   "outputs": [],
   "source": []
  },
  {
   "cell_type": "code",
   "execution_count": null,
   "metadata": {},
   "outputs": [],
   "source": []
  },
  {
   "cell_type": "code",
   "execution_count": null,
   "metadata": {},
   "outputs": [],
   "source": []
  },
  {
   "cell_type": "code",
   "execution_count": null,
   "metadata": {},
   "outputs": [],
   "source": []
  },
  {
   "cell_type": "markdown",
   "metadata": {},
   "source": [
    "# Separar resistência intrinsica da adquirida"
   ]
  },
  {
   "cell_type": "markdown",
   "metadata": {},
   "source": [
    "# Teste dos resultados do ABRicate com diferentes piplines de montagens (Muliro)"
   ]
  },
  {
   "cell_type": "code",
   "execution_count": null,
   "metadata": {},
   "outputs": [],
   "source": [
    "dfgenomes = argannot[['file','class']]"
   ]
  },
  {
   "cell_type": "code",
   "execution_count": null,
   "metadata": {},
   "outputs": [],
   "source": [
    "dfgenomes.set_index('file', inplace =  True)"
   ]
  },
  {
   "cell_type": "code",
   "execution_count": null,
   "metadata": {},
   "outputs": [],
   "source": [
    "dfgenomes = pd.get_dummies(dfgenomes)"
   ]
  },
  {
   "cell_type": "code",
   "execution_count": null,
   "metadata": {},
   "outputs": [],
   "source": [
    "dfgenomes = dfgenomes.groupby(level = 0).sum()"
   ]
  },
  {
   "cell_type": "code",
   "execution_count": null,
   "metadata": {},
   "outputs": [],
   "source": [
    "dfgenomes.sort_index(ascending = False, inplace = True)"
   ]
  },
  {
   "cell_type": "code",
   "execution_count": null,
   "metadata": {},
   "outputs": [],
   "source": [
    "dfgenomes.to_csv('dfgenomes_tiago.csv')"
   ]
  },
  {
   "cell_type": "code",
   "execution_count": null,
   "metadata": {},
   "outputs": [],
   "source": [
    "plt.figure(figsize = (60,50))\n",
    "sns.set(font_scale=5)\n",
    "sns.heatmap(dfgenomes, cmap=\"Reds\", annot=True)\n",
    "plt.Text(fontsize = 150)\n",
    "plt.savefig('heatmap_tiago.png')"
   ]
  },
  {
   "cell_type": "code",
   "execution_count": null,
   "metadata": {},
   "outputs": [],
   "source": []
  }
 ],
 "metadata": {
  "kernelspec": {
   "display_name": "Python 3",
   "language": "python",
   "name": "python3"
  },
  "language_info": {
   "codemirror_mode": {
    "name": "ipython",
    "version": 3
   },
   "file_extension": ".py",
   "mimetype": "text/x-python",
   "name": "python",
   "nbconvert_exporter": "python",
   "pygments_lexer": "ipython3",
   "version": "3.7.7-final"
  }
 },
 "nbformat": 4,
 "nbformat_minor": 4
}