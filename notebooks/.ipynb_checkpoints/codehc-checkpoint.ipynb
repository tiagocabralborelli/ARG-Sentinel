{
 "cells": [
  {
   "cell_type": "code",
   "execution_count": 16,
   "metadata": {},
   "outputs": [],
   "source": [
    "#Important modules\n",
    "import os\n",
    "import glob\n",
    "import pandas as pd\n",
    "import matplotlib.pyplot as plt\n",
    "import numpy as np\n",
    "import seaborn as sns\n",
    "import numpy as np\n",
    "%matplotlib inline \n",
    "from matplotlib import pyplot as plt\n",
    "from Bio import SeqIO\n",
    "from Bio.Seq import Seq\n",
    "import customfunc\n",
    "import matrix"
   ]
  },
  {
   "cell_type": "markdown",
   "metadata": {},
   "source": [
    "## Abricate\n",
    "Run [abricate](https://github.com/tseemann/abricate) to search for antibiotic resistance genes, plasmid genes and virulence factors in several databases"
   ]
  },
  {
   "cell_type": "code",
   "execution_count": 17,
   "metadata": {},
   "outputs": [],
   "source": [
    "#!abricate ~/documentos/github/ARG-Sentinel/genomes_hc/*.fasta --db plasmidfinder --noheader --threads 12 > ~/documentos/github/ARG-Sentinel/spreadsheets/plasmidfinder_hc.csv"
   ]
  },
  {
   "cell_type": "code",
   "execution_count": 18,
   "metadata": {},
   "outputs": [],
   "source": [
    "#!abricate ~/documentos/github/ARG-Sentinel/genomes_hc/*.fasta --db argannot --noheader --threads 12 > ~/documentos/github/ARG-Sentinel/spreadsheets/argannot_hc.csv"
   ]
  },
  {
   "cell_type": "code",
   "execution_count": 19,
   "metadata": {},
   "outputs": [],
   "source": [
    "#!abricate /home/tiago/documentos/github/ARG-Sentinel/genomes_hc/*.fasta --db card --noheader > /home/tiago/documentos/github/ARG-Sentinel/spreadsheets/card_hc.csv"
   ]
  },
  {
   "cell_type": "markdown",
   "metadata": {},
   "source": [
    "## Load dataframes"
   ]
  },
  {
   "cell_type": "code",
   "execution_count": 20,
   "metadata": {},
   "outputs": [
    {
     "data": {
      "text/html": [
       "<div>\n",
       "<style scoped>\n",
       "    .dataframe tbody tr th:only-of-type {\n",
       "        vertical-align: middle;\n",
       "    }\n",
       "\n",
       "    .dataframe tbody tr th {\n",
       "        vertical-align: top;\n",
       "    }\n",
       "\n",
       "    .dataframe thead th {\n",
       "        text-align: right;\n",
       "    }\n",
       "</style>\n",
       "<table border=\"1\" class=\"dataframe\">\n",
       "  <thead>\n",
       "    <tr style=\"text-align: right;\">\n",
       "      <th></th>\n",
       "      <th>file</th>\n",
       "      <th>sequence</th>\n",
       "      <th>start</th>\n",
       "      <th>end</th>\n",
       "      <th>strand</th>\n",
       "      <th>gene</th>\n",
       "      <th>coverage</th>\n",
       "      <th>coverage_map</th>\n",
       "      <th>gaps</th>\n",
       "      <th>coverage_pec</th>\n",
       "      <th>identity_perc</th>\n",
       "      <th>database</th>\n",
       "      <th>accession</th>\n",
       "      <th>product</th>\n",
       "      <th>resistance</th>\n",
       "      <th>species</th>\n",
       "      <th>record</th>\n",
       "    </tr>\n",
       "  </thead>\n",
       "  <tbody>\n",
       "    <tr>\n",
       "      <th>0</th>\n",
       "      <td>genome1.fasta</td>\n",
       "      <td>NODE_10_length_160826_cov_5.747043</td>\n",
       "      <td>58092</td>\n",
       "      <td>59246</td>\n",
       "      <td>-</td>\n",
       "      <td>Klebsiella_pneumoniae_OmpK37</td>\n",
       "      <td>1-1125/1125</td>\n",
       "      <td>========/======</td>\n",
       "      <td>7/32</td>\n",
       "      <td>99.91</td>\n",
       "      <td>95.24</td>\n",
       "      <td>card</td>\n",
       "      <td>AJ011502.1:300-1425</td>\n",
       "      <td>Klebsiella pneumoniae outer membrane porin pro...</td>\n",
       "      <td>carbapenem;cephalosporin;cephamycin;monobactam...</td>\n",
       "      <td>K. pneumoniae</td>\n",
       "      <td>98M3</td>\n",
       "    </tr>\n",
       "    <tr>\n",
       "      <th>1</th>\n",
       "      <td>genome1.fasta</td>\n",
       "      <td>NODE_11_length_157632_cov_5.996896</td>\n",
       "      <td>7161</td>\n",
       "      <td>8021</td>\n",
       "      <td>-</td>\n",
       "      <td>SHV-182</td>\n",
       "      <td>1-861/861</td>\n",
       "      <td>===============</td>\n",
       "      <td>0/0</td>\n",
       "      <td>100.00</td>\n",
       "      <td>99.88</td>\n",
       "      <td>card</td>\n",
       "      <td>KP050489:0-861</td>\n",
       "      <td>From the Lahey list of beta-lactamases.</td>\n",
       "      <td>carbapenem;cephalosporin;penam</td>\n",
       "      <td>K. pneumoniae</td>\n",
       "      <td>98M3</td>\n",
       "    </tr>\n",
       "    <tr>\n",
       "      <th>2</th>\n",
       "      <td>genome1.fasta</td>\n",
       "      <td>NODE_11_length_157632_cov_5.996896</td>\n",
       "      <td>28130</td>\n",
       "      <td>28498</td>\n",
       "      <td>-</td>\n",
       "      <td>marA</td>\n",
       "      <td>1-369/384</td>\n",
       "      <td>===============</td>\n",
       "      <td>0/0</td>\n",
       "      <td>96.09</td>\n",
       "      <td>81.57</td>\n",
       "      <td>card</td>\n",
       "      <td>AP009048.1:1621287-1621671</td>\n",
       "      <td>In the presence of antibiotic stress E. coli o...</td>\n",
       "      <td>carbapenem;cephalosporin;cephamycin;fluoroquin...</td>\n",
       "      <td>K. pneumoniae</td>\n",
       "      <td>98M3</td>\n",
       "    </tr>\n",
       "    <tr>\n",
       "      <th>3</th>\n",
       "      <td>genome1.fasta</td>\n",
       "      <td>NODE_19_length_101067_cov_6.844693</td>\n",
       "      <td>27472</td>\n",
       "      <td>29220</td>\n",
       "      <td>+</td>\n",
       "      <td>msbA</td>\n",
       "      <td>1-1749/1749</td>\n",
       "      <td>===============</td>\n",
       "      <td>0/0</td>\n",
       "      <td>100.00</td>\n",
       "      <td>80.62</td>\n",
       "      <td>card</td>\n",
       "      <td>U00096.3:966620-968369</td>\n",
       "      <td>MsbA is a multidrug resistance transporter hom...</td>\n",
       "      <td>nitroimidazole</td>\n",
       "      <td>K. pneumoniae</td>\n",
       "      <td>98M3</td>\n",
       "    </tr>\n",
       "    <tr>\n",
       "      <th>4</th>\n",
       "      <td>genome1.fasta</td>\n",
       "      <td>NODE_21_length_99473_cov_9.392658</td>\n",
       "      <td>42202</td>\n",
       "      <td>43568</td>\n",
       "      <td>+</td>\n",
       "      <td>cpxA</td>\n",
       "      <td>1-1367/1374</td>\n",
       "      <td>===============</td>\n",
       "      <td>0/0</td>\n",
       "      <td>99.49</td>\n",
       "      <td>82.08</td>\n",
       "      <td>card</td>\n",
       "      <td>BA000007.3:4905062-4903688</td>\n",
       "      <td>CpxA is a membrane-localized sensor kinase tha...</td>\n",
       "      <td>aminocoumarin;aminoglycoside</td>\n",
       "      <td>K. pneumoniae</td>\n",
       "      <td>98M3</td>\n",
       "    </tr>\n",
       "  </tbody>\n",
       "</table>\n",
       "</div>"
      ],
      "text/plain": [
       "            file                            sequence  start    end strand  \\\n",
       "0  genome1.fasta  NODE_10_length_160826_cov_5.747043  58092  59246      -   \n",
       "1  genome1.fasta  NODE_11_length_157632_cov_5.996896   7161   8021      -   \n",
       "2  genome1.fasta  NODE_11_length_157632_cov_5.996896  28130  28498      -   \n",
       "3  genome1.fasta  NODE_19_length_101067_cov_6.844693  27472  29220      +   \n",
       "4  genome1.fasta   NODE_21_length_99473_cov_9.392658  42202  43568      +   \n",
       "\n",
       "                           gene     coverage     coverage_map  gaps  \\\n",
       "0  Klebsiella_pneumoniae_OmpK37  1-1125/1125  ========/======  7/32   \n",
       "1                       SHV-182    1-861/861  ===============   0/0   \n",
       "2                          marA    1-369/384  ===============   0/0   \n",
       "3                          msbA  1-1749/1749  ===============   0/0   \n",
       "4                          cpxA  1-1367/1374  ===============   0/0   \n",
       "\n",
       "   coverage_pec  identity_perc database                   accession  \\\n",
       "0         99.91          95.24     card         AJ011502.1:300-1425   \n",
       "1        100.00          99.88     card              KP050489:0-861   \n",
       "2         96.09          81.57     card  AP009048.1:1621287-1621671   \n",
       "3        100.00          80.62     card      U00096.3:966620-968369   \n",
       "4         99.49          82.08     card  BA000007.3:4905062-4903688   \n",
       "\n",
       "                                             product  \\\n",
       "0  Klebsiella pneumoniae outer membrane porin pro...   \n",
       "1            From the Lahey list of beta-lactamases.   \n",
       "2  In the presence of antibiotic stress E. coli o...   \n",
       "3  MsbA is a multidrug resistance transporter hom...   \n",
       "4  CpxA is a membrane-localized sensor kinase tha...   \n",
       "\n",
       "                                          resistance        species record  \n",
       "0  carbapenem;cephalosporin;cephamycin;monobactam...  K. pneumoniae   98M3  \n",
       "1                     carbapenem;cephalosporin;penam  K. pneumoniae   98M3  \n",
       "2  carbapenem;cephalosporin;cephamycin;fluoroquin...  K. pneumoniae   98M3  \n",
       "3                                     nitroimidazole  K. pneumoniae   98M3  \n",
       "4                       aminocoumarin;aminoglycoside  K. pneumoniae   98M3  "
      ]
     },
     "execution_count": 20,
     "metadata": {},
     "output_type": "execute_result"
    }
   ],
   "source": [
    "card = pd.read_csv(\"/home/tiago/documents/github/ARG-Sentinel/spreadsheets/card_hc.csv\",sep = '\\t', names = ['file','sequence','start','end','strand','gene','coverage','coverage_map','gaps','coverage_pec','identity_perc','database','accession','product','resistance'])\n",
    "card['file'] = card['file'].apply(lambda x: x.split('/')[-1])\n",
    "card['species'] = None\n",
    "card[\"record\"] = None\n",
    "\n",
    "#Add column species\n",
    "species = pd.read_csv('~/documents/github/ARG-Sentinel/spreadsheets/info.csv')\n",
    "species['assembly'] = species['assembly'].apply(lambda x: x + '.fasta')\n",
    "card.set_index('file', inplace = True)\n",
    "for i in species.itertuples():\n",
    "    if i.assembly in card.index:\n",
    "        card.loc[i.assembly,['species']] = i.specie\n",
    "        card.loc[i.assembly,['record']] = i.registro\n",
    "card.reset_index(inplace = True)\n",
    "card.head()"
   ]
  },
  {
   "cell_type": "code",
   "execution_count": 21,
   "metadata": {},
   "outputs": [
    {
     "data": {
      "text/html": [
       "<div>\n",
       "<style scoped>\n",
       "    .dataframe tbody tr th:only-of-type {\n",
       "        vertical-align: middle;\n",
       "    }\n",
       "\n",
       "    .dataframe tbody tr th {\n",
       "        vertical-align: top;\n",
       "    }\n",
       "\n",
       "    .dataframe thead th {\n",
       "        text-align: right;\n",
       "    }\n",
       "</style>\n",
       "<table border=\"1\" class=\"dataframe\">\n",
       "  <thead>\n",
       "    <tr style=\"text-align: right;\">\n",
       "      <th></th>\n",
       "      <th>file</th>\n",
       "      <th>sequence</th>\n",
       "      <th>start</th>\n",
       "      <th>end</th>\n",
       "      <th>strand</th>\n",
       "      <th>gene</th>\n",
       "      <th>coverage</th>\n",
       "      <th>coverage_map</th>\n",
       "      <th>gaps</th>\n",
       "      <th>coverage_pec</th>\n",
       "      <th>identity_perc</th>\n",
       "      <th>database</th>\n",
       "      <th>accession</th>\n",
       "      <th>product</th>\n",
       "      <th>resistance</th>\n",
       "      <th>species</th>\n",
       "      <th>record</th>\n",
       "    </tr>\n",
       "  </thead>\n",
       "  <tbody>\n",
       "    <tr>\n",
       "      <th>0</th>\n",
       "      <td>genome1.fasta</td>\n",
       "      <td>NODE_11_length_157632_cov_5.996896</td>\n",
       "      <td>7161</td>\n",
       "      <td>8021</td>\n",
       "      <td>-</td>\n",
       "      <td>(Bla)blaSHV-11</td>\n",
       "      <td>1-861/861</td>\n",
       "      <td>===============</td>\n",
       "      <td>0/0</td>\n",
       "      <td>100.0</td>\n",
       "      <td>100.00</td>\n",
       "      <td>argannot</td>\n",
       "      <td>HM751098:1-861</td>\n",
       "      <td>(Bla)blaSHV-11</td>\n",
       "      <td>NaN</td>\n",
       "      <td>K. pneumoniae</td>\n",
       "      <td>98M3</td>\n",
       "    </tr>\n",
       "    <tr>\n",
       "      <th>1</th>\n",
       "      <td>genome1.fasta</td>\n",
       "      <td>NODE_25_length_91321_cov_14.844018</td>\n",
       "      <td>88440</td>\n",
       "      <td>89255</td>\n",
       "      <td>+</td>\n",
       "      <td>(Sul)sul2</td>\n",
       "      <td>1-816/816</td>\n",
       "      <td>===============</td>\n",
       "      <td>0/0</td>\n",
       "      <td>100.0</td>\n",
       "      <td>100.00</td>\n",
       "      <td>argannot</td>\n",
       "      <td>EU360945:1617-2432</td>\n",
       "      <td>(Sul)sul2</td>\n",
       "      <td>NaN</td>\n",
       "      <td>K. pneumoniae</td>\n",
       "      <td>98M3</td>\n",
       "    </tr>\n",
       "    <tr>\n",
       "      <th>2</th>\n",
       "      <td>genome1.fasta</td>\n",
       "      <td>NODE_25_length_91321_cov_14.844018</td>\n",
       "      <td>89316</td>\n",
       "      <td>90119</td>\n",
       "      <td>+</td>\n",
       "      <td>(AGly)strA</td>\n",
       "      <td>1-804/804</td>\n",
       "      <td>===============</td>\n",
       "      <td>0/0</td>\n",
       "      <td>100.0</td>\n",
       "      <td>99.88</td>\n",
       "      <td>argannot</td>\n",
       "      <td>AB366441:22458-23261</td>\n",
       "      <td>(AGly)strA</td>\n",
       "      <td>NaN</td>\n",
       "      <td>K. pneumoniae</td>\n",
       "      <td>98M3</td>\n",
       "    </tr>\n",
       "    <tr>\n",
       "      <th>3</th>\n",
       "      <td>genome1.fasta</td>\n",
       "      <td>NODE_25_length_91321_cov_14.844018</td>\n",
       "      <td>90119</td>\n",
       "      <td>90955</td>\n",
       "      <td>+</td>\n",
       "      <td>(AGly)strB</td>\n",
       "      <td>1-837/837</td>\n",
       "      <td>===============</td>\n",
       "      <td>0/0</td>\n",
       "      <td>100.0</td>\n",
       "      <td>100.00</td>\n",
       "      <td>argannot</td>\n",
       "      <td>FJ474091:264-1100</td>\n",
       "      <td>(AGly)strB</td>\n",
       "      <td>NaN</td>\n",
       "      <td>K. pneumoniae</td>\n",
       "      <td>98M3</td>\n",
       "    </tr>\n",
       "    <tr>\n",
       "      <th>4</th>\n",
       "      <td>genome1.fasta</td>\n",
       "      <td>NODE_32_length_73386_cov_7.467614</td>\n",
       "      <td>13922</td>\n",
       "      <td>15097</td>\n",
       "      <td>+</td>\n",
       "      <td>(Flq)OqxA</td>\n",
       "      <td>1-1176/1176</td>\n",
       "      <td>===============</td>\n",
       "      <td>0/0</td>\n",
       "      <td>100.0</td>\n",
       "      <td>100.00</td>\n",
       "      <td>argannot</td>\n",
       "      <td>EU370913:46652-47827</td>\n",
       "      <td>(Flq)OqxA</td>\n",
       "      <td>NaN</td>\n",
       "      <td>K. pneumoniae</td>\n",
       "      <td>98M3</td>\n",
       "    </tr>\n",
       "  </tbody>\n",
       "</table>\n",
       "</div>"
      ],
      "text/plain": [
       "            file                            sequence  start    end strand  \\\n",
       "0  genome1.fasta  NODE_11_length_157632_cov_5.996896   7161   8021      -   \n",
       "1  genome1.fasta  NODE_25_length_91321_cov_14.844018  88440  89255      +   \n",
       "2  genome1.fasta  NODE_25_length_91321_cov_14.844018  89316  90119      +   \n",
       "3  genome1.fasta  NODE_25_length_91321_cov_14.844018  90119  90955      +   \n",
       "4  genome1.fasta   NODE_32_length_73386_cov_7.467614  13922  15097      +   \n",
       "\n",
       "             gene     coverage     coverage_map gaps  coverage_pec  \\\n",
       "0  (Bla)blaSHV-11    1-861/861  ===============  0/0         100.0   \n",
       "1       (Sul)sul2    1-816/816  ===============  0/0         100.0   \n",
       "2      (AGly)strA    1-804/804  ===============  0/0         100.0   \n",
       "3      (AGly)strB    1-837/837  ===============  0/0         100.0   \n",
       "4       (Flq)OqxA  1-1176/1176  ===============  0/0         100.0   \n",
       "\n",
       "   identity_perc  database             accession         product  resistance  \\\n",
       "0         100.00  argannot        HM751098:1-861  (Bla)blaSHV-11         NaN   \n",
       "1         100.00  argannot    EU360945:1617-2432       (Sul)sul2         NaN   \n",
       "2          99.88  argannot  AB366441:22458-23261      (AGly)strA         NaN   \n",
       "3         100.00  argannot     FJ474091:264-1100      (AGly)strB         NaN   \n",
       "4         100.00  argannot  EU370913:46652-47827       (Flq)OqxA         NaN   \n",
       "\n",
       "         species record  \n",
       "0  K. pneumoniae   98M3  \n",
       "1  K. pneumoniae   98M3  \n",
       "2  K. pneumoniae   98M3  \n",
       "3  K. pneumoniae   98M3  \n",
       "4  K. pneumoniae   98M3  "
      ]
     },
     "execution_count": 21,
     "metadata": {},
     "output_type": "execute_result"
    }
   ],
   "source": [
    "#Argannot\n",
    "argannot = pd.read_csv(\"~/documents/github/ARG-Sentinel/spreadsheets/argannot_hc.csv\",sep = '\\t', names = ['file','sequence','start','end','strand','gene','coverage','coverage_map','gaps','coverage_pec','identity_perc','database','accession','product','resistance'])\n",
    "argannot['file'] = argannot['file'].apply(lambda x: x.split('/')[-1])\n",
    "argannot['species'] = None\n",
    "argannot[\"record\"] = None\n",
    "\n",
    "#Add column species\n",
    "species = pd.read_csv('~/documents/github/ARG-Sentinel/spreadsheets/info.csv')\n",
    "species['assembly'] = species['assembly'].apply(lambda x: x + '.fasta')\n",
    "argannot.set_index('file', inplace = True)\n",
    "for i in species.itertuples():\n",
    "    if i.assembly in argannot.index:\n",
    "        argannot.loc[i.assembly,['species']] = i.specie\n",
    "        argannot.loc[i.assembly,['record']] = i.registro\n",
    "argannot.reset_index(inplace = True)\n",
    "argannot.head()"
   ]
  },
  {
   "cell_type": "code",
   "execution_count": 22,
   "metadata": {},
   "outputs": [
    {
     "data": {
      "text/html": [
       "<div>\n",
       "<style scoped>\n",
       "    .dataframe tbody tr th:only-of-type {\n",
       "        vertical-align: middle;\n",
       "    }\n",
       "\n",
       "    .dataframe tbody tr th {\n",
       "        vertical-align: top;\n",
       "    }\n",
       "\n",
       "    .dataframe thead th {\n",
       "        text-align: right;\n",
       "    }\n",
       "</style>\n",
       "<table border=\"1\" class=\"dataframe\">\n",
       "  <thead>\n",
       "    <tr style=\"text-align: right;\">\n",
       "      <th></th>\n",
       "      <th>file</th>\n",
       "      <th>sequence</th>\n",
       "      <th>start</th>\n",
       "      <th>end</th>\n",
       "      <th>strand</th>\n",
       "      <th>gene</th>\n",
       "      <th>coverage</th>\n",
       "      <th>coverage_map</th>\n",
       "      <th>gaps</th>\n",
       "      <th>coverage_pec</th>\n",
       "      <th>identity_perc</th>\n",
       "      <th>database</th>\n",
       "      <th>accession</th>\n",
       "      <th>product</th>\n",
       "      <th>resistance</th>\n",
       "      <th>species</th>\n",
       "      <th>record</th>\n",
       "    </tr>\n",
       "  </thead>\n",
       "  <tbody>\n",
       "    <tr>\n",
       "      <th>0</th>\n",
       "      <td>genome1.fasta</td>\n",
       "      <td>NODE_27_length_87380_cov_12.014012</td>\n",
       "      <td>44388</td>\n",
       "      <td>44626</td>\n",
       "      <td>-</td>\n",
       "      <td>IncFII_1_pKP91</td>\n",
       "      <td>1-230/230</td>\n",
       "      <td>========/======</td>\n",
       "      <td>4/9</td>\n",
       "      <td>100.0</td>\n",
       "      <td>87.03</td>\n",
       "      <td>plasmidfinder</td>\n",
       "      <td>CP000966</td>\n",
       "      <td>IncFII_1_pKP91_CP000966</td>\n",
       "      <td>NaN</td>\n",
       "      <td>K. pneumoniae</td>\n",
       "      <td>98M3</td>\n",
       "    </tr>\n",
       "    <tr>\n",
       "      <th>1</th>\n",
       "      <td>genome1.fasta</td>\n",
       "      <td>NODE_39_length_51018_cov_14.408885</td>\n",
       "      <td>21125</td>\n",
       "      <td>21541</td>\n",
       "      <td>+</td>\n",
       "      <td>IncA/C2_1</td>\n",
       "      <td>1-417/417</td>\n",
       "      <td>===============</td>\n",
       "      <td>0/0</td>\n",
       "      <td>100.0</td>\n",
       "      <td>100.00</td>\n",
       "      <td>plasmidfinder</td>\n",
       "      <td>JN157804</td>\n",
       "      <td>IncA/C2_1__JN157804</td>\n",
       "      <td>NaN</td>\n",
       "      <td>K. pneumoniae</td>\n",
       "      <td>98M3</td>\n",
       "    </tr>\n",
       "    <tr>\n",
       "      <th>2</th>\n",
       "      <td>genome1.fasta</td>\n",
       "      <td>NODE_42_length_42978_cov_16.990438</td>\n",
       "      <td>10037</td>\n",
       "      <td>10410</td>\n",
       "      <td>-</td>\n",
       "      <td>IncX3_1</td>\n",
       "      <td>1-374/374</td>\n",
       "      <td>===============</td>\n",
       "      <td>0/0</td>\n",
       "      <td>100.0</td>\n",
       "      <td>99.73</td>\n",
       "      <td>plasmidfinder</td>\n",
       "      <td>JN247852</td>\n",
       "      <td>IncX3_1__JN247852</td>\n",
       "      <td>NaN</td>\n",
       "      <td>K. pneumoniae</td>\n",
       "      <td>98M3</td>\n",
       "    </tr>\n",
       "    <tr>\n",
       "      <th>3</th>\n",
       "      <td>genome1.fasta</td>\n",
       "      <td>NODE_62_length_9393_cov_64.187218</td>\n",
       "      <td>4306</td>\n",
       "      <td>4435</td>\n",
       "      <td>-</td>\n",
       "      <td>ColRNAI_1</td>\n",
       "      <td>1-130/130</td>\n",
       "      <td>===============</td>\n",
       "      <td>0/0</td>\n",
       "      <td>100.0</td>\n",
       "      <td>100.00</td>\n",
       "      <td>plasmidfinder</td>\n",
       "      <td>DQ298019</td>\n",
       "      <td>ColRNAI_1__DQ298019</td>\n",
       "      <td>NaN</td>\n",
       "      <td>K. pneumoniae</td>\n",
       "      <td>98M3</td>\n",
       "    </tr>\n",
       "    <tr>\n",
       "      <th>4</th>\n",
       "      <td>genome1.fasta</td>\n",
       "      <td>NODE_67_length_6761_cov_15.677875</td>\n",
       "      <td>2698</td>\n",
       "      <td>3257</td>\n",
       "      <td>+</td>\n",
       "      <td>IncFIB(K)_1_Kpn3</td>\n",
       "      <td>1-560/560</td>\n",
       "      <td>===============</td>\n",
       "      <td>0/0</td>\n",
       "      <td>100.0</td>\n",
       "      <td>100.00</td>\n",
       "      <td>plasmidfinder</td>\n",
       "      <td>JN233704</td>\n",
       "      <td>IncFIB(K)_1_Kpn3_JN233704</td>\n",
       "      <td>NaN</td>\n",
       "      <td>K. pneumoniae</td>\n",
       "      <td>98M3</td>\n",
       "    </tr>\n",
       "  </tbody>\n",
       "</table>\n",
       "</div>"
      ],
      "text/plain": [
       "            file                            sequence  start    end strand  \\\n",
       "0  genome1.fasta  NODE_27_length_87380_cov_12.014012  44388  44626      -   \n",
       "1  genome1.fasta  NODE_39_length_51018_cov_14.408885  21125  21541      +   \n",
       "2  genome1.fasta  NODE_42_length_42978_cov_16.990438  10037  10410      -   \n",
       "3  genome1.fasta   NODE_62_length_9393_cov_64.187218   4306   4435      -   \n",
       "4  genome1.fasta   NODE_67_length_6761_cov_15.677875   2698   3257      +   \n",
       "\n",
       "               gene   coverage     coverage_map gaps  coverage_pec  \\\n",
       "0    IncFII_1_pKP91  1-230/230  ========/======  4/9         100.0   \n",
       "1         IncA/C2_1  1-417/417  ===============  0/0         100.0   \n",
       "2           IncX3_1  1-374/374  ===============  0/0         100.0   \n",
       "3         ColRNAI_1  1-130/130  ===============  0/0         100.0   \n",
       "4  IncFIB(K)_1_Kpn3  1-560/560  ===============  0/0         100.0   \n",
       "\n",
       "   identity_perc       database accession                    product  \\\n",
       "0          87.03  plasmidfinder  CP000966    IncFII_1_pKP91_CP000966   \n",
       "1         100.00  plasmidfinder  JN157804        IncA/C2_1__JN157804   \n",
       "2          99.73  plasmidfinder  JN247852          IncX3_1__JN247852   \n",
       "3         100.00  plasmidfinder  DQ298019        ColRNAI_1__DQ298019   \n",
       "4         100.00  plasmidfinder  JN233704  IncFIB(K)_1_Kpn3_JN233704   \n",
       "\n",
       "   resistance        species record  \n",
       "0         NaN  K. pneumoniae   98M3  \n",
       "1         NaN  K. pneumoniae   98M3  \n",
       "2         NaN  K. pneumoniae   98M3  \n",
       "3         NaN  K. pneumoniae   98M3  \n",
       "4         NaN  K. pneumoniae   98M3  "
      ]
     },
     "execution_count": 22,
     "metadata": {},
     "output_type": "execute_result"
    }
   ],
   "source": [
    "plasmidfinder = pd.read_csv(\"~/documents/github/ARG-Sentinel/spreadsheets/plasmidfinder_hc.csv\",sep = \"\\t\",names = ['file','sequence','start','end','strand','gene','coverage','coverage_map','gaps','coverage_pec','identity_perc','database','accession','product','resistance'])\n",
    "plasmidfinder['file'] = plasmidfinder['file'].apply(lambda x: x.split('/')[-1])\n",
    "plasmidfinder['species'] = None\n",
    "plasmidfinder['record'] = None\n",
    "#Add column species\n",
    "species = pd.read_csv('~/documents/github/ARG-Sentinel/spreadsheets/info.csv')\n",
    "species['assembly'] = species['assembly'].apply(lambda x: x + '.fasta')\n",
    "plasmidfinder.set_index('file', inplace = True)\n",
    "for i in species.itertuples():\n",
    "    if i.assembly in plasmidfinder.index:\n",
    "        plasmidfinder.loc[i.assembly,['species']] = i.specie\n",
    "        plasmidfinder.loc[i.assembly,['record']] = i.registro\n",
    "plasmidfinder.reset_index(inplace = True)\n",
    "plasmidfinder.head()"
   ]
  },
  {
   "cell_type": "markdown",
   "metadata": {},
   "source": [
    "## HC Resistome profile"
   ]
  },
  {
   "cell_type": "code",
   "execution_count": 23,
   "metadata": {},
   "outputs": [],
   "source": [
    "argannot['class'] = argannot['gene'].apply(lambda x: x.split(')')[0]).apply(lambda y: y.split('(')[1]) #Creating the \"class\" column\n",
    "argannot['species'] = argannot[\"species\"] + \" \" + argannot[\"record\"]\n",
    "argannot = argannot.set_index(\"file\").drop(\"genome32.fasta\", axis = 0)"
   ]
  },
  {
   "cell_type": "code",
   "execution_count": 24,
   "metadata": {},
   "outputs": [],
   "source": [
    "profile = argannot[['species','class']].set_index('species') # take important columns\n",
    "profile = pd.get_dummies(profile).groupby(level = 0).sum()"
   ]
  },
  {
   "cell_type": "code",
   "execution_count": 25,
   "metadata": {},
   "outputs": [],
   "source": [
    "profile.columns = [\"AGly\",\"Bla\",\"Fcyn\",\"Flq\",\"MLS\",\"Phe\",\"Sul\",\"Tet\",\"Tmt\"]"
   ]
  },
  {
   "cell_type": "code",
   "execution_count": 26,
   "metadata": {},
   "outputs": [
    {
     "data": {
      "image/png": "[encoded data removed]",
      "text/plain": [
       "<Figure size 720x864 with 4 Axes>"
      ]
     },
     "metadata": {
      "needs_background": "light"
     },
     "output_type": "display_data"
    }
   ],
   "source": [
    "cm = sns.clustermap(profile, cmap = \"RdBu_r\", figsize=(10,12))\n",
    "#cm.cax.set_visible(False)\n",
    "plt.colormaps()\n",
    "plt.xticks(fontsize = 20, rotation = 45)\n",
    "plt.yticks(fontsize = 15, fontstyle = 'italic')\n",
    "plt.ylabel('')\n",
    "plt.savefig('Figure2.short.names.pdf', bbox_inches = 'tight',dpi = 600)"
   ]
  },
  {
   "cell_type": "code",
   "execution_count": 27,
   "metadata": {},
   "outputs": [
    {
     "data": {
      "image/png": "[encoded data removed]",
      "text/plain": [
       "<Figure size 720x720 with 4 Axes>"
      ]
     },
     "metadata": {
      "needs_background": "light"
     },
     "output_type": "display_data"
    }
   ],
   "source": [
    "cm = sns.clustermap(profile, cmap = \"RdBu_r\", figsize=(10,10))\n",
    "cm.cax.set_visible(False)\n",
    "plt.colormaps()\n",
    "plt.xticks(fontsize = 20, rotation = 45)\n",
    "plt.yticks(fontsize = 15, fontstyle = 'italic')\n",
    "plt.ylabel('')\n",
    "plt.savefig('Figure2.short.names.nocolorbar.pdf', bbox_inches = 'tight',dpi = 600)"
   ]
  },
  {
   "cell_type": "code",
   "execution_count": 28,
   "metadata": {},
   "outputs": [],
   "source": [
    "profile.columns = [\"Aminoglycoside\",\"Beta-lactamase\",\"Fosfomycin\",\"Fluoroquinolone\",\"Macrolide-lincosamide-streptogramin\",\"Phenicol\",\"Sulfonamide\",\"Tetracycline\",\"Trimethoprim\"]"
   ]
  },
  {
   "cell_type": "code",
   "execution_count": 29,
   "metadata": {},
   "outputs": [
    {
     "data": {
      "image/png": "[encoded data removed]",
      "text/plain": [
       "<Figure size 720x864 with 4 Axes>"
      ]
     },
     "metadata": {
      "needs_background": "light"
     },
     "output_type": "display_data"
    }
   ],
   "source": [
    "cm = sns.clustermap(profile, cmap = \"RdBu_r\", figsize = (10,12), cbar_pos=(0.02, 0.04, 0.05, 0.18))\n",
    "#cm.cax.set_visible(False)\n",
    "plt.colormaps()\n",
    "plt.xticks(fontsize = 20, rotation = 45)\n",
    "plt.yticks(fontsize = 15, fontstyle = 'italic')\n",
    "plt.ylabel('')\n",
    "plt.savefig('Figure2.long.names.pdf', bbox_inches = 'tight',dpi = 600)"
   ]
  },
  {
   "cell_type": "code",
   "execution_count": 30,
   "metadata": {},
   "outputs": [
    {
     "data": {
      "image/png": "[encoded data removed]",
      "text/plain": [
       "<Figure size 720x864 with 4 Axes>"
      ]
     },
     "metadata": {
      "needs_background": "light"
     },
     "output_type": "display_data"
    }
   ],
   "source": [
    "cm = sns.clustermap(profile, cmap = \"RdBu_r\", figsize = (10,12), cbar_pos=(0.02, 0.04, 0.05, 0.18))\n",
    "cm.cax.set_visible(False)\n",
    "plt.colormaps()\n",
    "plt.xticks(fontsize = 20, rotation = 45)\n",
    "plt.yticks(fontsize = 15, fontstyle = 'italic')\n",
    "plt.ylabel('')\n",
    "plt.savefig('Figure2.long.names.nocolorbar.pdf', bbox_inches = 'tight',dpi = 600)"
   ]
  },
  {
   "cell_type": "code",
   "execution_count": null,
   "metadata": {},
   "outputs": [],
   "source": [
    "genomas =  pd.read_csv(\"/home/tiago/documents/github/ARG-Sentinel/spreadsheets/info.csv\")"
   ]
  },
  {
   "cell_type": "code",
   "execution_count": null,
   "metadata": {},
   "outputs": [],
   "source": [
    "genomas.loc[genomas.specie.str.contains(\"K. \") & (genomas.specie != \"K. pneumoniae\")]"
   ]
  },
  {
   "cell_type": "code",
   "execution_count": null,
   "metadata": {},
   "outputs": [],
   "source": [
    "card[\"species\"] = card[\"species\"] + \" \" + card[\"record\"]"
   ]
  },
  {
   "cell_type": "code",
   "execution_count": null,
   "metadata": {},
   "outputs": [],
   "source": [
    "argannot.loc[(argannot.file == 'genome43.fasta') & (argannot.gene.str.contains(\"bla\"))]"
   ]
  },
  {
   "cell_type": "code",
   "execution_count": null,
   "metadata": {},
   "outputs": [],
   "source": [
    "card.loc[(card.sequence == \"NODE_5_length_391037_cov_3.880418\")&(card.start == 196995)&(card.end == 197867)]"
   ]
  },
  {
   "cell_type": "code",
   "execution_count": null,
   "metadata": {},
   "outputs": [],
   "source": [
    "argannot.loc[argannot.gene.str.contains(\"LAP\")]"
   ]
  },
  {
   "cell_type": "code",
   "execution_count": null,
   "metadata": {},
   "outputs": [],
   "source": []
  },
  {
   "cell_type": "markdown",
   "metadata": {},
   "source": [
    "# Responder as questões do revisor do relatório\n",
    "\n",
    "<p style='text-align: justify;'>\n",
    "Sugiro alguns pontos a serem pensados:<br />\n",
    "<b>#1</b> Analisar separadamente Gram-negativos e Gram-positivos. Marcadores de resistência para os dois grupos são\n",
    "muito diferentes e não podem ser agrupados. Não existe, por definição, ESBL em Gram-positivos. Por isso o achado de um isolado de Staphylococcus deve ser revisado. <br />\n",
    "<b>Resposta:</b> Em nenhum momento foi citado no relátio a presença de ESBL em <i>Staphyloccoccus aures </i> !\n",
    "</p>"
   ]
  },
  {
   "cell_type": "markdown",
   "metadata": {},
   "source": [
    "<center> ---------- \\\\ ---------- </center>\n",
    "<p style='text-align: justify;'>\n",
    "<b>#2</b> Consultar documentos do CLSI (M100) e EUCAST (Expert rules and intrinsic resistance) para verificar quais\n",
    "espécies tem resistências intrínsecas que não tem importância epidemiológica. <br />\n",
    "<b>Resposta:</b> Seria interessante analisas as espéscies sem importância epidemiológica, pois os ARGs \"usar\" comunidades ambientais como reservatório.\n",
    "</p> "
   ]
  },
  {
   "cell_type": "markdown",
   "metadata": {},
   "source": [
    "<center> ---------- \\\\ ---------- </center>\n",
    "\n",
    "<p style='text-align: justify;'>\n",
    "<b>#3</b> Confirmar a ausência de determinantes cromossomais: por exemplo o AmpC \"deletado\" na amostra de E. coli\n",
    "45. AmpC tem papel fundamental na biologia bacteriana, especificamente na reciclagem dos peptideoglicanos para construção da parede e posterior divisão celular. Seria surpreendente (para não dizer impossível) uma bactéria não ter porque ela não iria sobreviver. Certamente (e esse resultado é mostrado no relatório) a cepa 45 tem um ortólogo. Portanto, detectar ampC em E. coli não tem significado. Por outro lado, detectar ampC plasmidial sim tem significado, porque reflete a aquisição de um determinante de resistência.\n",
    "</p>"
   ]
  },
  {
   "cell_type": "markdown",
   "metadata": {},
   "source": [
    "<center> ---------- \\\\ ---------- </center>\n",
    "\n",
    "<p style='text-align: justify;'>\n",
    "<b>#4</b> O fato de detectar a PBP de E. coli em Klebsiella não apresenta relevância (pelo menos com as informações\n",
    "apresentadas no relatório). PBP são proteinas transpeptidases que fazem também a síntese de parede. O fato de ter encontrado a da E. coli na Klebsiella não é surpreendente. Provavelmente a primeira a ser depositada (e comum a todas as enterobactérias, ou parte do táxon) foi de E. coli por ser o organismo protótipo para estudos em bacteriologia. No entanto, o cenário muda totalmente quando fala-se em PBP alteradas, como é o caso da PBP2a de Staphylococcus que confere resistência (adquirida) à meticilina. Aí é relevante pesquisar o gene que codifica a PBP2a <b>(que no caso é o mecA), mas somente em Staphylococcus. spp </b><br />\n",
    "</p>"
   ]
  },
  {
   "cell_type": "markdown",
   "metadata": {},
   "source": [
    "<b>Resposta:</b> Encontramos o gene <b>(Bla)mecA</b> em <i>Staphylococcus</i>"
   ]
  },
  {
   "cell_type": "code",
   "execution_count": null,
   "metadata": {},
   "outputs": [],
   "source": [
    "argannot.set_index('gene').loc['(Bla)mecA',]"
   ]
  },
  {
   "cell_type": "markdown",
   "metadata": {},
   "source": []
  },
  {
   "cell_type": "markdown",
   "metadata": {},
   "source": [
    "<center> ---------- \\\\ ---------- </center>\n",
    "\n",
    "<p style='text-align: justify;'>\n",
    "<b>#5</b> O fato de encontrar genes de resistência adquiridos em diferentes isolados não tem relação direta com a\n",
    "aquisição prévia e posterior disseminação clonal. Muitas vezes a aquisição pode acontecer em diferentes momentos (veja por exemplo o caso de KPC e dos grupos clonais predominantes), por meio de plasmídeos conjugativos. Para termos alguma evidência mais assertiva sobre o que ocorreu primeiro, a aquisição do gene ou a dispersão bacteriana é necessário estudar o contexto genético dos genes de resistência, se possível os inc types dos plasmídeos, pois eles fornecem essas informações sobre tipagem de plamsídeo. Sem essas informações é difícil afirmar se a aquisição foi única ou múltipla ao longo do tempo.<br />\n",
    "</p>"
   ]
  },
  {
   "cell_type": "markdown",
   "metadata": {},
   "source": [
    "<b>5.1.</b> Encontrar os Nodes que contêm genes de plasmídeos e de resistência a antibióticos: cruzar ARG-Annot e Plasmidfinder"
   ]
  },
  {
   "cell_type": "code",
   "execution_count": null,
   "metadata": {
    "scrolled": true
   },
   "outputs": [],
   "source": [
    "CArgs = set(argannot['sequence'].values) #Conjunto dos Nodes com ARGs\n",
    "CPlasmid = set(plasmidfinder['sequence'].values) #Conjunto dos Node com genes de plasmídeo\n",
    "argsEplamid = CArgs & CPlasmid #Intersecção de ambos \n",
    "print(f\"ARG-Annot: {len(CArgs)}\\nPlasmifinder: {len(CPlasmid)}\\nIntersecção: {len(argsEplamid)}\")"
   ]
  },
  {
   "cell_type": "code",
   "execution_count": null,
   "metadata": {
    "scrolled": true
   },
   "outputs": [],
   "source": [
    "argannot.set_index('sequence').loc[list(argsEplamid),:]"
   ]
  },
  {
   "cell_type": "markdown",
   "metadata": {},
   "source": [
    "<b>5.2 BLASTn</b> "
   ]
  },
  {
   "cell_type": "markdown",
   "metadata": {},
   "source": [
    "<p>Códigio para estrair os nodes para blast</p>\n",
    "<code>\n",
    "for a in argannot.set_index('sequence').loc[list(argsEplamid),:].itertuples():\n",
    "    for r in SeqIO.parse(f'{caminho}/{a.file}','fasta'):\n",
    "        if r.id == a.Index:\n",
    "            file = open(f'{a.Index}.fasta','a')\n",
    "            file.write(f'>{r.id}\\n')\n",
    "            file.write(f'{r.seq}')\n",
    "            file.close()\n",
    "</code>"
   ]
  },
  {
   "cell_type": "code",
   "execution_count": null,
   "metadata": {},
   "outputs": [],
   "source": [
    "plasmids = pd.DataFrame({'Node':['NODE_60_length_703_cov_4241.998344',\n",
    "                                 'NODE_45_length_533_cov_0.048387',\n",
    "                                 'NODE_71_length_640_cov_0.247689',\n",
    "                                 'NODE_62_length_747_cov_0.206790',\n",
    "                                 'NODE_45_length_533_cov_0.048387',\n",
    "                                 'NODE_56_length_2305_cov_620.290118',\n",
    "                                 'NODE_15_length_136795_cov_22.099162',\n",
    "                                 'NODE_42_length_42978_cov_16.990438',\n",
    "                                 'NODE_18_length_24824_cov_61.573873',\n",
    "                                 'NODE_22_length_73939_cov_13.042389',\n",
    "                                 'NODE_34_length_63067_cov_25.930044',\n",
    "                                 'NODE_37_length_43294_cov_12.460632',\n",
    "                                 'NODE_38_length_1699_cov_0.250000',\n",
    "                                 'NODE_27_length_10506_cov_41.427597',\n",
    "                                 'NODE_41_length_4753_cov_20.978728',\n",
    "                                 'NODE_43_length_2345_cov_2403.472395',\n",
    "                                 'NODE_44_length_43061_cov_24.463410',\n",
    "                                 'NODE_71_length_1939_cov_0.339130',\n",
    "                                 'NODE_2_length_217598_cov_19.485952'],\n",
    "                         'Blast':['Staphylococcus hominis strain Sho-115Lar plasmid pSho-115Lar, complete sequence Z',\n",
    "                                  'Staphylococcus aureus strain UP_1484 plasmid unnamed, complete sequence',\n",
    "                                  'Staphylococcus aureus subsp. aureus strain SR168 plasmid pSR168, complete sequence',\n",
    "                                  'Staphylococcus hominis strain Sho-115Lar plasmid pSho-115Lar, complete sequence',\n",
    "                                  'Staphylococcus aureus strain UP_1484 plasmid unnamed, complete sequence',\n",
    "                                  'Staphylococcus aureus subsp. aureus strain SR241 plasmid pSR241, complete sequence',\n",
    "                                  'Photobacterium damselae subsp. piscicida plasmid pP91278 DNA, complete sequence',\n",
    "                                  'Klebsiella pneumoniae strain 1194/11 plasmid pKP1194a, complete sequence',\n",
    "                                  'Staphylococcus caprae strain 26D plasmid unnamed1, complete sequence-Cover:65%',\n",
    "                                  'Escherichia coli strain ATCC 43886 plasmid unnamed1, complete sequence',\n",
    "                                  'Klebsiella pneumoniae strain KP58 plasmid pKP58-3, complete sequence',\n",
    "                                  'Salmonella enterica subsp. enterica serovar Newport str. CVM 22462 plasmid pCVM22462, complete sequence',\n",
    "                                  'Staphylococcus aureus strain SA7112 plasmid pSA7112-1, complete sequence',\n",
    "                                  'Staphylococcus capitis CR01 plasmid CR01, complete sequence',\n",
    "                                  'Staphylococcus epidermidis strain 107.2 plasmid pAQZ1, complete sequence',\n",
    "                                  'Staphylococcus epidermidis plasmid pNE131, complete sequence',\n",
    "                                  'Klebsiella pneumoniae strain A64477 plasmid pKP64477d, complete sequence',\n",
    "                                  'Staphylococcus haemolyticus strain 83131B plasmid p83131B, complete sequence',\n",
    "                                  'ERROR'],\n",
    "                         'link':[r'https://www.ncbi.nlm.nih.gov/nucleotide/MH423313.1?report=genbank&log$=nucltop&blast_rank=1&RID=8PUSN2Z3016',\n",
    "                                 r'https://www.ncbi.nlm.nih.gov/nucleotide/CP047816.1?report=genbank&log$=nucltop&blast_rank=1&RID=8PW724V9016',\n",
    "                                 r'https://www.ncbi.nlm.nih.gov/nucleotide/MN251857.1?report=genbank&log$=nucltop&blast_rank=5&RID=8PWWMJNU014',\n",
    "                                 r'https://www.ncbi.nlm.nih.gov/nucleotide/MH423313.1?report=genbank&log$=nucltop&blast_rank=1&RID=8PXBKW56014',\n",
    "                                 r'https://www.ncbi.nlm.nih.gov/nucleotide/CP047816.1?report=genbank&log$=nucltop&blast_rank=1&RID=8PXJF2T1014',\n",
    "                                 r'https://www.ncbi.nlm.nih.gov/nucleotide/MN251858.1?report=genbank&log$=nucltop&blast_rank=1&RID=8PY0PC96016',\n",
    "                                 r'https://www.ncbi.nlm.nih.gov/nucleotide/AB277724.1?report=genbank&log$=nucltop&blast_rank=1&RID=8PY4WJED014',\n",
    "                                 r'https://www.ncbi.nlm.nih.gov/nucleotide/KX756453.1?report=genbank&log$=nucltop&blast_rank=1&RID=8PYUTMU5014',\n",
    "                                 r'https://www.ncbi.nlm.nih.gov/nucleotide/CP031272.1?report=genbank&log$=nucltop&blast_rank=2&RID=8PZ6TFG501R',\n",
    "                                 r'https://www.ncbi.nlm.nih.gov/nucleotide/CP024254.1?report=genbank&log$=nucltop&blast_rank=1&RID=8PZGBZU7014',\n",
    "                                 r'https://www.ncbi.nlm.nih.gov/nucleotide/CP041376.1?report=genbank&log$=nucltop&blast_rank=2&RID=8PZPN8NV016',\n",
    "                                 r'https://www.ncbi.nlm.nih.gov/nucleotide/CP009566.1?report=genbank&log$=nucltop&blast_rank=1&RID=8R02BXYE014',\n",
    "                                 r'https://www.ncbi.nlm.nih.gov/nucleotide/KX011076.1?report=genbank&log$=nucltop&blast_rank=1&RID=8R0BB1YV014',\n",
    "                                 r'https://www.ncbi.nlm.nih.gov/nucleotide/LN866850.1?report=genbank&log$=nucltop&blast_rank=1&RID=8R14ACME016',\n",
    "                                 r'https://www.ncbi.nlm.nih.gov/nucleotide/MK046687.1?report=genbank&log$=nucltop&blast_rank=1&RID=8R17AN87014',\n",
    "                                 r'https://www.ncbi.nlm.nih.gov/nucleotide/M12730.1?report=genbank&log$=nucltop&blast_rank=1&RID=8R1BXRAG014',\n",
    "                                 r'https://www.ncbi.nlm.nih.gov/nucleotide/MF150120.1?report=genbank&log$=nucltop&blast_rank=1&RID=8R1GH7W5016',\n",
    "                                 r'https://www.ncbi.nlm.nih.gov/nucleotide/CP025398.1?report=genbank&log$=nucltop&blast_rank=2&RID=8R2AM2S1014',\n",
    "                                 'ERROR']\n",
    "                })"
   ]
  },
  {
   "cell_type": "code",
   "execution_count": null,
   "metadata": {
    "scrolled": true
   },
   "outputs": [],
   "source": [
    "argannot_plasmids = [argannot.set_index('sequence').loc[plasmids['Node']],plasmidfinder.set_index('sequence').loc[plasmids['Node']]] #Resultados da busca\n",
    "argannot_plasmids = pd.concat(argannot_plasmids, sort = True, axis = 0)\n",
    "argannot_plasmids.reset_index(inplace = True)\n",
    "argannot_plasmids.set_index(['file','sequence'],drop = False,inplace = True)\n",
    "argannot_plasmids.sort_index(inplace = True)"
   ]
  },
  {
   "cell_type": "code",
   "execution_count": null,
   "metadata": {},
   "outputs": [],
   "source": [
    "argannot_plasmids[argannot_plasmids['database'] == 'argannot'].drop(['sequence','resistance'], axis = 1)"
   ]
  },
  {
   "cell_type": "code",
   "execution_count": null,
   "metadata": {},
   "outputs": [],
   "source": [
    "argannot_plasmids.loc[[\"genome1.fasta\", \"genome3.fasta\", \"genome22.fasta\", \"genome29.fasta\", \"genome30.fasta\",\n",
    "                 \"genome32.fasta\",\"genome33.fasta\", \"genome36.fasta\", \"genome41.fasta\", \"genome42.fasta\"],['species']].to_csv('~/documentos/github/ARG-Sentinel/spreadsheets/argannot_plasmids.csv')\n",
    "\n",
    "\n"
   ]
  },
  {
   "cell_type": "markdown",
   "metadata": {},
   "source": [
    "<p>\n",
    "<b>5.3. Resultados parciais da busca por plasmídeos</b> <br />\n",
    "Foram encontrados 18 nodes candidatos, dos quais 17 apresentaram resultado positivo para algum plasmídeo. <br />\n",
    "Espécies que contem os nodes/plasmídeos<br />\n",
    "<ul>\n",
    "    <li>Enterobacter asburiae</li>\n",
    "    <li>Escherichia coli</li>\n",
    "    <li>Klebsiella pneumoniae</li>\n",
    "    <li>Staphyloccoccus epidermidis</li>\n",
    "    <li>Staphyloccoccus aureus</li>\n",
    "    <li>Staphyloccoccus haemolyticus</li>\n",
    "    <li>Staphyloccoccus warneri</li>\n",
    "    <li>Stenotrophomonas maltophilia</li>\n",
    "</ul>\n",
    "</p>"
   ]
  },
  {
   "cell_type": "markdown",
   "metadata": {},
   "source": [
    "<p>\n",
    "    <b>5.4. Detalhamento dos plasmídeos encontrados</b><br />\n",
    "    <b>Pedidos do Rafa:</b> <br /> \n",
    "<ul>\n",
    "    <li>BLAST plasmídeos com L > 2kb </li>\n",
    "    <li>Descobrir onde e quando foram encontrados</li>\n",
    "    <li>Organismo de origem</li>\n",
    "    <li>Prokka - descrever os plasmídeos</li>\n",
    "    <li>Fazer figura/tabela com resumindo os dados</li>\n",
    "</ul>\n",
    "</p>    "
   ]
  },
  {
   "cell_type": "markdown",
   "metadata": {},
   "source": [
    "<b>5.4.1 Extrair os Nodes com L > 2kb</b>"
   ]
  },
  {
   "cell_type": "markdown",
   "metadata": {},
   "source": [
    "<code>\n",
    "used = []\n",
    "for i in argannot_plasmids.itertuples():\n",
    "    for record in SeqIO.parse(f'{caminho}/{i.file}','fasta'):\n",
    "        if record.id == i.sequence and int(i.sequence.split('_')[3])>=2000:\n",
    "            if i.sequence not in used:\n",
    "                fasta = open(f'{i.file}_plasmids.fasta','a')\n",
    "                ident = record.id.split('_')[0]+record.id.split('_')[1]\n",
    "                fasta.write(f'>{ident}\\n')\n",
    "                fasta.write(f'{record.seq}\\n')\n",
    "                fasta.close()\n",
    "                used.append(i.sequence)\n",
    "<code>"
   ]
  },
  {
   "cell_type": "markdown",
   "metadata": {},
   "source": [
    "<code>\n",
    "used = []\n",
    "file = open('argannot_plasmids.fasta','a')\n",
    "for i in argannot_plasmids.itertuples():\n",
    "    for record in SeqIO.parse(f'{caminho}/{i.file}','fasta'):\n",
    "        if record.id == i.sequence and int(i.sequence.split('_')[3])>=2000:\n",
    "            if i.sequence not in used and i.sequence != 'NODE_2_length_217598_cov_19.485952' and i.sequence != \"NODE_15_length_136795_cov_22.099162\":\n",
    "                file.write(f'>{record.id}\\n')\n",
    "                file.write(f'{record.seq}\\n')\n",
    "                used.append(i.sequence)\n",
    "file.close()\n",
    "<code>"
   ]
  },
  {
   "cell_type": "code",
   "execution_count": null,
   "metadata": {},
   "outputs": [],
   "source": [
    "def df_plasmid (file):\n",
    "    \"cria um dataframe a partida de um arquivo gff\"\n",
    "    node = []\n",
    "    start = []\n",
    "    end = []\n",
    "    strand = []\n",
    "    prod = []\n",
    "    prod_final = []\n",
    "    gff = open(f'{file}','r')\n",
    "    for i,l in enumerate(gff):\n",
    "        if l.startswith('#') or l.startswith('>'):\n",
    "            pass\n",
    "        if l.startswith('NODE'):\n",
    "            node.append(l.split('\\t')[0])\n",
    "            start.append(int(l.split('\\t')[3]))\n",
    "            end.append(int(l.split('\\t')[4]))\n",
    "            strand.append(l.split('\\t')[6])\n",
    "            prod.append(l.split('\\t')[8])\n",
    "            \n",
    "    for items in prod:\n",
    "        for items_sep in items.split(';'):\n",
    "            if 'product=' in items_sep:\n",
    "                prod_final.append(items_sep.split('=')[1].split('\\n')[0])\n",
    "    df = pd.DataFrame({'node':node,'start':start, 'end':end, 'strand':strand,'product':prod_final})\n",
    "    df['length'] = df['end'] - df['start']\n",
    "    return df    "
   ]
  },
  {
   "cell_type": "markdown",
   "metadata": {},
   "source": [
    "<p style='text-align: justify;'>\n",
    "<b> 5.4.2 Similaridade entre plasmídeos </b> <br />\n",
    " Os plasmídeos parecem não conter grandes sequências em comum pois nenhum método de alinhamento funcionou. Será que alinhar as cds sozinhas vai funcionar?\n",
    "</p>"
   ]
  },
  {
   "cell_type": "code",
   "execution_count": null,
   "metadata": {},
   "outputs": [],
   "source": [
    "genome1 = df_plasmid('genome1_plasmids.gff')\n",
    "genome1 = genome1.query('product != \"hypothetical protein\"')\n",
    "\n",
    "genome3 = df_plasmid('genome3_plasmids.gff')\n",
    "genome3 = genome3.query('product != \"hypothetical protein\"')\n",
    "\n",
    "genome22 = df_plasmid('genome22_plasmids.gff')\n",
    "genome22 = genome22.query('product != \"hypothetical protein\"')\n",
    "\n",
    "genome29 = df_plasmid('genome29_plasmids.gff')\n",
    "genome29 = genome29.query('product != \"hypothetical protein\"')\n",
    "\n",
    "genome30 = df_plasmid('genome30_plasmids.gff')\n",
    "genome30 = genome30.query('product != \"hypothetical protein\"')\n",
    "\n",
    "genome32 = df_plasmid('genome32_plasmids.gff')\n",
    "genome32 = genome32.query('product != \"hypothetical protein\"')\n",
    "\n",
    "genome33 = df_plasmid('genome33_plasmids.gff')\n",
    "genome33 = genome33.query('product != \"hypothetical protein\"')\n",
    "\n",
    "genome36 = df_plasmid('genome36_plasmids.gff')\n",
    "genome36 = genome36.query('product != \"hypothetical protein\"')\n",
    "\n",
    "genome41 = df_plasmid('genome41_plasmids.gff')\n",
    "genome41 = genome41.query('product != \"hypothetical protein\"')\n",
    "\n",
    "genome42 = df_plasmid('genome42_plasmids.gff')\n",
    "genome42 = genome42.query('product != \"hypothetical protein\"')\n",
    "\n",
    "genomes_selec = [genome1, genome3, genome22, genome29, genome30,\n",
    "                 genome32,genome33, genome36, genome41, \n",
    "                 genome42]\n"
   ]
  },
  {
   "cell_type": "code",
   "execution_count": null,
   "metadata": {},
   "outputs": [],
   "source": [
    "tag = 'product'\n",
    "df_set_genomes = pd.DataFrame(columns = [\"0\",\"1\",\"2\",\"3\",\"4\",\"5\",\"6\",\"7\",\"8\",\"9\"], \n",
    "                              index = [\"0\",\"1\",\"2\",\"3\",\"4\",\"5\",\"6\",\"7\",\"8\",\"9\"])\n",
    "for ia,a in enumerate(genomes_selec):\n",
    "    for ib,b in enumerate(genomes_selec):\n",
    "        if ia != ib:\n",
    "            conj = set(list(a[tag])) & set(list(b[tag]))\n",
    "            \n",
    "            \n",
    "            df_set_genomes.loc[str(ia),str(ib)] = len(conj)\n",
    "        if ia != ib and len(conj) > 0:\n",
    "            print(f'Existem {len(conj)} genes em comum nos DFs {ia}x{ib}: {conj}')\n",
    "            print('='*100)\n",
    "            \n",
    "df_set_genomes.columns = ['K. pneumoniae g1',\n",
    "                          'E. coli g3', \n",
    "                          'S. warneri g22',\n",
    "                          'S epidermidis g29',\n",
    "                          'S. warneri g30',\n",
    "                          'S. epidermidis g32', \n",
    "                          'S. aureus g33',\n",
    "                          'K. pneumoniae g36',\n",
    "                          'K. pneumoniae g41',\n",
    "                          'E. coli g42']\n",
    "df_set_genomes.index = ['K. pneumoniae g1',\n",
    "                          'E. coli g3', \n",
    "                          'S. warneri g22',\n",
    "                          'S epidermidis g29',\n",
    "                          'S. warneri g30',\n",
    "                          'S. epidermidis g32', \n",
    "                          'S. aureus g33',\n",
    "                          'K. pneumoniae g36',\n",
    "                          'K. pneumoniae g41',\n",
    "                          'E. coli g42']\n",
    "\n",
    "\n",
    "df_set_genomes"
   ]
  },
  {
   "cell_type": "code",
   "execution_count": null,
   "metadata": {},
   "outputs": [],
   "source": [
    "plt.figure(figsize = (8,8))\n",
    "sns.heatmap(df_set_genomes.fillna(0),cmap = \"RdBu_r\")\n",
    "plt.title('Shared genes in plasmids')\n",
    "plt.xticks(fontstyle = 'italic')\n",
    "plt.yticks(fontstyle = 'italic')\n",
    "plt.savefig('heatmap_plasmids.pdf',bbox_inches = 'tight')"
   ]
  },
  {
   "cell_type": "code",
   "execution_count": null,
   "metadata": {},
   "outputs": [],
   "source": [
    "pl_blasted_treated = pd.read_csv('plasmids_blasted_treated.csv')"
   ]
  },
  {
   "cell_type": "code",
   "execution_count": null,
   "metadata": {},
   "outputs": [],
   "source": [
    "pl_blasted_treated.head()"
   ]
  },
  {
   "cell_type": "code",
   "execution_count": null,
   "metadata": {},
   "outputs": [],
   "source": [
    "plt.figure(figsize = (10,5))\n",
    "\n",
    "plt.subplot(131)\n",
    "plt.title('Identity distribution', fontsize = 10)\n",
    "sns.boxplot(pl_blasted_treated[' % identity'].div(1000), orient = 'v', color = 'red')\n",
    "sns.swarmplot(pl_blasted_treated[' % identity'].div(1000), color = 'black', orient = 'v')\n",
    "median = pl_blasted_treated[' % identity'].div(1000).median()\n",
    "plt.xlabel(f'Median value: {median}')\n",
    "\n",
    "plt.subplot(132)\n",
    "plt.title('Alignment length distribution', fontsize = 10)\n",
    "sns.boxplot(pl_blasted_treated[' alignment length'], orient = 'v', color = 'green')\n",
    "sns.swarmplot(pl_blasted_treated[' alignment length'], orient = 'v', color = 'black')\n",
    "median = pl_blasted_treated[' alignment length'].median()\n",
    "plt.xlabel(f'Median value: {median}')\n",
    "\n",
    "plt.subplot(133)\n",
    "plt.title('evalue distribution', fontsize = 10)\n",
    "sns.boxplot(pl_blasted_treated[' evalue'], orient = 'v',color = 'blue')\n",
    "\n",
    "plt.tight_layout()"
   ]
  },
  {
   "cell_type": "code",
   "execution_count": null,
   "metadata": {},
   "outputs": [],
   "source": [
    "plt.figure(figsize = (10,15))\n",
    "\n",
    "plt.tight_layout()\n",
    "plt.subplot(421)\n",
    "sns.distplot(pl_blasted_treated[' % identity'].div(1000), bins = len(pl_blasted_treated[' % identity']))\n",
    "median = pl_blasted_treated[' % identity'].div(1000).median()\n",
    "plt.axvline(median, color = 'black', linestyle = '--')\n",
    "\n",
    "plt.subplot(422)\n",
    "sns.distplot(pl_blasted_treated[' alignment length'])\n",
    "median = pl_blasted_treated[' alignment length'].median()\n",
    "plt.axvline(median, color = 'black', linestyle = '--')\n",
    "\n",
    "plt.subplot(423)\n",
    "sns.distplot(pl_blasted_treated[' evalue'])\n",
    "median = pl_blasted_treated[' evalue'].median()\n",
    "plt.axvline(median, color = 'black', linestyle = '--')\n",
    "\n",
    "plt.savefig('distplot_blasts.pdf', bbox_inches = 'tight')"
   ]
  },
  {
   "cell_type": "code",
   "execution_count": null,
   "metadata": {},
   "outputs": [],
   "source": []
  },
  {
   "cell_type": "code",
   "execution_count": null,
   "metadata": {},
   "outputs": [],
   "source": []
  },
  {
   "cell_type": "code",
   "execution_count": null,
   "metadata": {},
   "outputs": [],
   "source": []
  },
  {
   "cell_type": "code",
   "execution_count": null,
   "metadata": {},
   "outputs": [],
   "source": []
  },
  {
   "cell_type": "code",
   "execution_count": null,
   "metadata": {},
   "outputs": [],
   "source": []
  },
  {
   "cell_type": "code",
   "execution_count": null,
   "metadata": {},
   "outputs": [],
   "source": []
  },
  {
   "cell_type": "code",
   "execution_count": null,
   "metadata": {},
   "outputs": [],
   "source": []
  },
  {
   "cell_type": "code",
   "execution_count": null,
   "metadata": {},
   "outputs": [],
   "source": []
  },
  {
   "cell_type": "code",
   "execution_count": null,
   "metadata": {},
   "outputs": [],
   "source": []
  },
  {
   "cell_type": "code",
   "execution_count": null,
   "metadata": {},
   "outputs": [],
   "source": []
  }
 ],
 "metadata": {
  "kernelspec": {
   "display_name": "Python 3",
   "language": "python",
   "name": "python3"
  },
  "language_info": {
   "codemirror_mode": {
    "name": "ipython",
    "version": 3
   },
   "file_extension": ".py",
   "mimetype": "text/x-python",
   "name": "python",
   "nbconvert_exporter": "python",
   "pygments_lexer": "ipython3",
   "version": "3.8.5"
  }
 },
 "nbformat": 4,
 "nbformat_minor": 4
}
