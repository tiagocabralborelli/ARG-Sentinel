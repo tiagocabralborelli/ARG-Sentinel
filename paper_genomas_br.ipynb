{
 "cells": [
  {
   "cell_type": "code",
   "execution_count": 1,
   "id": "national-google",
   "metadata": {},
   "outputs": [],
   "source": [
    "import sys\n",
    "import zipfile\n",
    "import pandas as pd\n",
    "from pprint import pprint\n",
    "from datetime import datetime\n",
    "from collections import defaultdict, Counter\n",
    "from IPython.display import display\n",
    "\n",
    "import matplotlib.pyplot as plt\n",
    "plt.style.use('ggplot')\n",
    "\n",
    "try:\n",
    "    import ncbi.datasets\n",
    "except ImportError:\n",
    "    print('ncbi.datasets module not found. To install, run `pip install ncbi-datasets-pylib`.')"
   ]
  },
  {
   "cell_type": "markdown",
   "id": "empirical-retreat",
   "metadata": {},
   "source": [
    "# Como baixar genomas automaticamente do NCBI?"
   ]
  },
  {
   "cell_type": "markdown",
   "id": "difficult-duration",
   "metadata": {},
   "source": [
    "## Documentation for API Endpoints\n",
    "\n",
    "All URIs are relative to *https://api.ncbi.nlm.nih.gov/datasets/v1alpha*\n",
    "\n",
    "Class | Method | HTTP request | Description\n",
    "------------ | ------------- | ------------- | -------------\n",
    "*GenomeApi* | [**assembly_descriptors_by_accessions**](docs/GenomeApi.md#assembly_descriptors_by_accessions) | **GET** /genome/accession/{accessions} | Get genome metadata by accession\n",
    "*GenomeApi* | [**assembly_descriptors_by_bioproject**](docs/GenomeApi.md#assembly_descriptors_by_bioproject) | **GET** /genome/bioproject/{accessions} | Get genome metadata by bioproject accession\n",
    "*GenomeApi* | [**assembly_descriptors_by_taxon**](docs/GenomeApi.md#assembly_descriptors_by_taxon) | **GET** /genome/taxon/{taxon} | Get genome metadata by taxonomic identifier\n",
    "*GenomeApi* | [**check_assembly_availability**](docs/GenomeApi.md#check_assembly_availability) | **GET** /genome/accession/{accessions}/check | Check the validity of genome accessions\n",
    "*GenomeApi* | [**check_assembly_availability_post**](docs/GenomeApi.md#check_assembly_availability_post) | **POST** /genome/check | Check the validity of many genome accessions in a single request\n",
    "*GenomeApi* | [**download_assembly_package**](docs/GenomeApi.md#download_assembly_package) | **GET** /genome/accession/{accessions}/download | Get a genome dataset by accession\n",
    "*GenomeApi* | [**download_assembly_package_post**](docs/GenomeApi.md#download_assembly_package_post) | **POST** /genome/download | Get a genome dataset by post\n",
    "*GenomeApi* | [**genome_download_summary**](docs/GenomeApi.md#genome_download_summary) | **GET** /genome/accession/{accessions}/download_summary | Preview genome dataset download\n",
    "*GenomeApi* | [**genome_download_summary_by_post**](docs/GenomeApi.md#genome_download_summary_by_post) | **POST** /genome/download_summary | Preview genome dataset download by POST\n",
    "*GenomeApi* | [**genome_tax_name_query**](docs/GenomeApi.md#genome_tax_name_query) | **GET** /genome/taxon_suggest/{taxon_query} | Get a list of taxonomy names and IDs found in the assembly dataset given a partial taxonomic name.\n",
    "*GenomeApi* | [**genome_tax_tree**](docs/GenomeApi.md#genome_tax_tree) | **GET** /genome/taxon/{taxon}/tree | Get a taxonomic subtree by taxonomic identifier"
   ]
  },
  {
   "cell_type": "code",
   "execution_count": 3,
   "id": "addressed-parent",
   "metadata": {},
   "outputs": [],
   "source": [
    "api_instance = ncbi.datasets.GenomeApi(ncbi.datasets.ApiClient()) #Cria objeto controlador "
   ]
  },
  {
   "cell_type": "code",
   "execution_count": null,
   "id": "complimentary-fossil",
   "metadata": {},
   "outputs": [],
   "source": [
    "genome_summary = api_instance.assembly_descriptors_by_taxon(taxon = 2, limit=100000)"
   ]
  },
  {
   "cell_type": "code",
   "execution_count": 5,
   "id": "hollow-split",
   "metadata": {},
   "outputs": [
    {
     "name": "stdout",
     "output_type": "stream",
     "text": [
      "Counter({'RefSeq': 25237, 'GenBank': 24763})\n"
     ]
    }
   ],
   "source": [
    "assm_counter = Counter()\n",
    "for assembly in map(lambda d: d.assembly, genome_summary.assemblies):\n",
    "    if assembly.assembly_accession[:3] == 'GCA':\n",
    "        assm_counter['GenBank'] += 1\n",
    "    elif assembly.assembly_accession[:3] == 'GCF':\n",
    "        assm_counter['RefSeq'] += 1\n",
    "print(assm_counter)"
   ]
  },
  {
   "cell_type": "code",
   "execution_count": null,
   "id": "conservative-average",
   "metadata": {},
   "outputs": [],
   "source": []
  },
  {
   "cell_type": "code",
   "execution_count": null,
   "id": "certain-efficiency",
   "metadata": {},
   "outputs": [],
   "source": []
  },
  {
   "cell_type": "markdown",
   "id": "affiliated-program",
   "metadata": {},
   "source": [
    "---"
   ]
  },
  {
   "cell_type": "code",
   "execution_count": null,
   "id": "friendly-spelling",
   "metadata": {},
   "outputs": [],
   "source": [
    "import seaborn as sn\n",
    "import numpy as np\n",
    "import customfunc as cf\n",
    "import matrix"
   ]
  },
  {
   "cell_type": "markdown",
   "id": "thrown-explosion",
   "metadata": {},
   "source": [
    "**CLASSES**"
   ]
  },
  {
   "cell_type": "code",
   "execution_count": null,
   "id": "accurate-playing",
   "metadata": {},
   "outputs": [],
   "source": []
  },
  {
   "cell_type": "markdown",
   "id": "derived-horizon",
   "metadata": {},
   "source": [
    "**FUNÇÕES**"
   ]
  },
  {
   "cell_type": "code",
   "execution_count": null,
   "id": "sweet-harvey",
   "metadata": {},
   "outputs": [],
   "source": [
    "def acessar_coordenadas(dataframe):\n",
    "    import customfunc\n",
    "    \"\"\"Retira apenas os dados com coordenadas de coleta\"\"\"\n",
    "    dataframe_com_coordenadas = dataframe.query(\"colection_date != 'Na' \").query(\"coordenates != 'Na'\").query(\"country != 'Na'\")\n",
    "    dataframe_com_coordenadas = dataframe_com_coordenadas.set_index(\"country\").filter(like = \"Brazil\", axis = 0)\n",
    "    dataframe_com_coordenadas.reset_index(inplace = True)\n",
    "    customfunc.SplitCoords(dataframe_com_coordenadas, \"lat\")\n",
    "    customfunc.SplitCoords(dataframe_com_coordenadas, \"lon\")\n",
    "    dataframe_com_coordenadas[\"lat\"] = dataframe_com_coordenadas.lat.apply(lambda x: customfunc.NumCoord(x))\n",
    "    dataframe_com_coordenadas[\"lon\"] = dataframe_com_coordenadas.lon.apply(lambda x: customfunc.NumCoord(x))\n",
    "    return dataframe_com_coordenadas\n",
    "\n",
    "def hash_argannot(data):\n",
    "    argannot_dictionary = {}\n",
    "    for args in data.itertuples():\n",
    "        argannot_dictionary[args.gene] = data.organism\n",
    "    return argannot_dictionary\n",
    "    "
   ]
  },
  {
   "cell_type": "markdown",
   "id": "prostate-setting",
   "metadata": {},
   "source": [
    "**IMPORTAR DADOS**"
   ]
  },
  {
   "cell_type": "code",
   "execution_count": null,
   "id": "micro-relation",
   "metadata": {},
   "outputs": [],
   "source": [
    "#Catalogo das espécies dos genomas que baixamos\n",
    "catalogo_bacterias_br = pd.read_csv(\"/home/tiago/documents/github/ARG-Sentinel/spreadsheets/catalogo_teste.csv\")"
   ]
  },
  {
   "cell_type": "markdown",
   "id": "requested-madison",
   "metadata": {},
   "source": [
    "limpeza de dados"
   ]
  },
  {
   "cell_type": "code",
   "execution_count": null,
   "id": "drawn-chess",
   "metadata": {},
   "outputs": [],
   "source": [
    "#Selecionar genoams com local de coleta = brazil\n",
    "catalogo_bacterias_br = catalogo_bacterias_br[catalogo_bacterias_br[\"country\"].str.contains(\"Brazil\")]"
   ]
  },
  {
   "cell_type": "code",
   "execution_count": null,
   "id": "generous-preference",
   "metadata": {},
   "outputs": [],
   "source": [
    "argannot_database = pd.read_csv(\"/home/tiago/documents/github/ARG-Sentinel/spreadsheets/argannot_br.csv\",sep = \"\\t\", names = ['file','sequence','start','end','strand','gene','coverage','coverage_map','gaps','coverage_pec','identity_perc','database','accession','product','resistance'])\n",
    "argannot_database['file'] = argannot_database[\"file\"].apply(lambda caminho: caminho.split(\"/\")[-1])\n",
    "argannot_database = cf.filldf(argannot_database, catalogo_bacterias_br) # adiciona a espécie de cada genoma"
   ]
  },
  {
   "cell_type": "code",
   "execution_count": null,
   "id": "wrong-lingerie",
   "metadata": {},
   "outputs": [],
   "source": [
    "argannot_com_coordenadas = acessar_coordenadas(argannot_database)"
   ]
  },
  {
   "cell_type": "code",
   "execution_count": null,
   "id": "intelligent-bronze",
   "metadata": {},
   "outputs": [],
   "source": [
    "argannot_com_coordenadas.head()"
   ]
  },
  {
   "cell_type": "markdown",
   "id": "sorted-cowboy",
   "metadata": {},
   "source": [
    "**Grafos**"
   ]
  },
  {
   "cell_type": "markdown",
   "id": "expressed-venice",
   "metadata": {},
   "source": [
    "Encontrar relação entre as bacérias que compartilham genes de resistência"
   ]
  },
  {
   "cell_type": "code",
   "execution_count": null,
   "id": "manual-growing",
   "metadata": {},
   "outputs": [],
   "source": [
    "import networkx as nx"
   ]
  },
  {
   "cell_type": "code",
   "execution_count": null,
   "id": "reasonable-porcelain",
   "metadata": {},
   "outputs": [],
   "source": [
    "argannot_adj_matrix = argannot_com_coordenadas.set_index(\"file\")[\"gene\"].str.get_dummies().groupby(level = 0).sum()\n",
    "argannot_adj_matrix.sort_index(inplace = True)"
   ]
  },
  {
   "cell_type": "code",
   "execution_count": null,
   "id": "average-power",
   "metadata": {
    "scrolled": true
   },
   "outputs": [],
   "source": [
    "grafo_genomas_br = nx.Graph()\n",
    "for file in argannot_adj_matrix.index:\n",
    "    for gene in argannot_adj_matrix.columns:\n",
    "        if argannot_adj_matrix.loc[file,gene] != 0:\n",
    "            grafo_genomas_br.add_node(file)\n",
    "            grafo_genomas_br.add_node(gene)\n",
    "            print(f\"{file} <----> {gene}\")\n",
    "            grafo_genomas_br.add_edge(file,gene)"
   ]
  },
  {
   "cell_type": "code",
   "execution_count": null,
   "id": "associate-nursing",
   "metadata": {},
   "outputs": [],
   "source": [
    "nx.draw(grafo_genomas_br, pos = nx.spring_layout(grafo_genomas_br))"
   ]
  },
  {
   "cell_type": "code",
   "execution_count": null,
   "id": "colored-picking",
   "metadata": {},
   "outputs": [],
   "source": [
    "teste_dic = hash_argannot(argannot_database)"
   ]
  },
  {
   "cell_type": "code",
   "execution_count": null,
   "id": "cultural-eligibility",
   "metadata": {},
   "outputs": [],
   "source": [
    "teste_dic.keys()"
   ]
  },
  {
   "cell_type": "code",
   "execution_count": null,
   "id": "balanced-pressure",
   "metadata": {},
   "outputs": [],
   "source": []
  }
 ],
 "metadata": {
  "kernelspec": {
   "display_name": "Python 3",
   "language": "python",
   "name": "python3"
  },
  "language_info": {
   "codemirror_mode": {
    "name": "ipython",
    "version": 3
   },
   "file_extension": ".py",
   "mimetype": "text/x-python",
   "name": "python",
   "nbconvert_exporter": "python",
   "pygments_lexer": "ipython3",
   "version": "3.8.6"
  }
 },
 "nbformat": 4,
 "nbformat_minor": 5
}
